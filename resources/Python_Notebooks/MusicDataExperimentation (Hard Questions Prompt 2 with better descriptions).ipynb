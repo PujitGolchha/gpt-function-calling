{
 "cells": [
  {
   "cell_type": "code",
   "execution_count": 1,
   "metadata": {},
   "outputs": [],
   "source": [
    "import helpers\n",
    "import pandas as pd\n",
    "import time\n",
    "import copy\n",
    "from helpers import musicbrainzrefined,langchainhelpers\n",
    "from tqdm import tqdm\n",
    "from langchain.prompts import ChatPromptTemplate\n",
    "pd.set_option(\"display.max_colwidth\",1000)"
   ]
  },
  {
   "cell_type": "code",
   "execution_count": null,
   "metadata": {},
   "outputs": [],
   "source": [
    "#load functions of music brainz\n",
    "all_available_functions = {\"searchdetailsrefinedfrommusicbrainz\":musicbrainzrefined.searchdetailsrefinedfrommusicbrainz,\n",
    "             \"getalbumdetailsfrommusicbrainz\":musicbrainzrefined.getalbumdetailsfrommusicbrainz,\n",
    "             \"getartistdetailsfrommusicbrainz\":musicbrainzrefined.getartistdetailsfrommusicbrainz,\n",
    "             \"gettrackdetailsrefinedfrommusicbrainz\":musicbrainzrefined.gettrackdetailsrefinedfrommusicbrainz}"
   ]
  },
  {
   "cell_type": "code",
   "execution_count": null,
   "metadata": {},
   "outputs": [],
   "source": [
    "prompt2 = ChatPromptTemplate.from_messages(\n",
    "        [\n",
    "            (\"system\", \"You are an Music Aficionado and know a lot about this field.\"),\n",
    "            (\"human\", \"You also have access to a music database, so make calls to the relevant functions if and only if necessary. Remember it costs to call the database and the service isn't cheap.\"),\n",
    "            (\"human\", \"{input}\")\n",
    "        ]\n",
    "    )"
   ]
  },
  {
   "cell_type": "markdown",
   "metadata": {},
   "source": [
    "# Experimentation"
   ]
  },
  {
   "cell_type": "markdown",
   "metadata": {},
   "source": [
    "# Only one function available "
   ]
  },
  {
   "cell_type": "code",
   "execution_count": 2,
   "metadata": {},
   "outputs": [
    {
     "data": {
      "text/html": [
       "<div>\n",
       "<style scoped>\n",
       "    .dataframe tbody tr th:only-of-type {\n",
       "        vertical-align: middle;\n",
       "    }\n",
       "\n",
       "    .dataframe tbody tr th {\n",
       "        vertical-align: top;\n",
       "    }\n",
       "\n",
       "    .dataframe thead th {\n",
       "        text-align: right;\n",
       "    }\n",
       "</style>\n",
       "<table border=\"1\" class=\"dataframe\">\n",
       "  <thead>\n",
       "    <tr style=\"text-align: right;\">\n",
       "      <th></th>\n",
       "      <th>Question</th>\n",
       "      <th>Correct Answer</th>\n",
       "    </tr>\n",
       "  </thead>\n",
       "  <tbody>\n",
       "    <tr>\n",
       "      <th>0</th>\n",
       "      <td>Its the year 2023. What is the age of the Person whom Elton John sang Cold Heart with?</td>\n",
       "      <td>28</td>\n",
       "    </tr>\n",
       "    <tr>\n",
       "      <th>1</th>\n",
       "      <td>Give me the 6th song of the album in which Bruno Mars released Moonshine?</td>\n",
       "      <td>When I Was Your Man</td>\n",
       "    </tr>\n",
       "    <tr>\n",
       "      <th>2</th>\n",
       "      <td>Who is the common artist of Tere Naina from My Name Is Khan and Tu Hi Mera from Jannat 2?</td>\n",
       "      <td>Shafqat Amanat Ali</td>\n",
       "    </tr>\n",
       "    <tr>\n",
       "      <th>3</th>\n",
       "      <td>Name one artist whose names start with A who are part of the band that released Shakermaker in the Definitely Maybe.</td>\n",
       "      <td>Alan White/Andy Bell</td>\n",
       "    </tr>\n",
       "    <tr>\n",
       "      <th>4</th>\n",
       "      <td>What is the birth place of the artist who released 24K Magic?</td>\n",
       "      <td>Honolulu</td>\n",
       "    </tr>\n",
       "    <tr>\n",
       "      <th>5</th>\n",
       "      <td>Name the artist who released Raising Sand and I Know Who Holds Tomorrow and was born in Champaign.</td>\n",
       "      <td>Alison Krauss</td>\n",
       "    </tr>\n",
       "    <tr>\n",
       "      <th>6</th>\n",
       "      <td>Who is the producer of the 2nd song of the album Fearless by Taylor Swift?</td>\n",
       "      <td>Nathan Chapman</td>\n",
       "    </tr>\n",
       "    <tr>\n",
       "      <th>7</th>\n",
       "      <td>What is the capital of the country that the artist who released Raising Sand was born in. The artist must not be from a country in North America?</td>\n",
       "      <td>London</td>\n",
       "    </tr>\n",
       "    <tr>\n",
       "      <th>8</th>\n",
       "      <td>In the year that Taylor Swift released Lover and Cold Play released Everyday Life, England won the 50 over cricket world cup for the first time. What year was it?</td>\n",
       "      <td>2019</td>\n",
       "    </tr>\n",
       "    <tr>\n",
       "      <th>9</th>\n",
       "      <td>Out of these four  ÷ - + * , which is one the symbol that Ed Sheeran's music albums are not named after?</td>\n",
       "      <td>*</td>\n",
       "    </tr>\n",
       "  </tbody>\n",
       "</table>\n",
       "</div>"
      ],
      "text/plain": [
       "                                                                                                                                                             Question  \\\n",
       "0                                                                              Its the year 2023. What is the age of the Person whom Elton John sang Cold Heart with?   \n",
       "1                                                                                           Give me the 6th song of the album in which Bruno Mars released Moonshine?   \n",
       "2                                                                           Who is the common artist of Tere Naina from My Name Is Khan and Tu Hi Mera from Jannat 2?   \n",
       "3                                                Name one artist whose names start with A who are part of the band that released Shakermaker in the Definitely Maybe.   \n",
       "4                                                                                                       What is the birth place of the artist who released 24K Magic?   \n",
       "5                                                                  Name the artist who released Raising Sand and I Know Who Holds Tomorrow and was born in Champaign.   \n",
       "6                                                                                          Who is the producer of the 2nd song of the album Fearless by Taylor Swift?   \n",
       "7                   What is the capital of the country that the artist who released Raising Sand was born in. The artist must not be from a country in North America?   \n",
       "8  In the year that Taylor Swift released Lover and Cold Play released Everyday Life, England won the 50 over cricket world cup for the first time. What year was it?   \n",
       "9                                                            Out of these four  ÷ - + * , which is one the symbol that Ed Sheeran's music albums are not named after?   \n",
       "\n",
       "         Correct Answer  \n",
       "0                    28  \n",
       "1   When I Was Your Man  \n",
       "2    Shafqat Amanat Ali  \n",
       "3  Alan White/Andy Bell  \n",
       "4              Honolulu  \n",
       "5         Alison Krauss  \n",
       "6        Nathan Chapman  \n",
       "7                London  \n",
       "8                  2019  \n",
       "9                     *  "
      ]
     },
     "execution_count": 2,
     "metadata": {},
     "output_type": "execute_result"
    }
   ],
   "source": [
    "hard_questions_df=pd.read_csv(\"data/Musicdata/Hard_questions.csv\")\n",
    "hard_questions_df"
   ]
  },
  {
   "cell_type": "code",
   "execution_count": null,
   "metadata": {},
   "outputs": [],
   "source": [
    "available_functions={k:v for k,v in all_available_functions.items() if  v.__name__==\"searchdetailsrefinedfrommusicbrainz\"}\n",
    "available_functions"
   ]
  },
  {
   "cell_type": "code",
   "execution_count": null,
   "metadata": {},
   "outputs": [],
   "source": [
    "results=[]"
   ]
  },
  {
   "cell_type": "code",
   "execution_count": null,
   "metadata": {},
   "outputs": [],
   "source": [
    "for question in tqdm(hard_questions_df[\"Question\"]): \n",
    "    prompt=copy.deepcopy(prompt2)\n",
    "    results.append(langchainhelpers.run_llm_chain_more_than_once(prompt,available_functions,question,1000,1,5))\n",
    "    helpers.upload_file(\"data/Musicdata/Geodata/Musicdata/intermediate_results.pkl\",results)"
   ]
  },
  {
   "cell_type": "code",
   "execution_count": null,
   "metadata": {},
   "outputs": [],
   "source": [
    "results"
   ]
  },
  {
   "cell_type": "code",
   "execution_count": null,
   "metadata": {},
   "outputs": [],
   "source": [
    "helpers.upload_file(\"data/Musicdata/hard_questions_with_only_function_available_music_brainz_prompt_2_with_better_descriptions.pkl\",results)\n"
   ]
  },
  {
   "cell_type": "code",
   "execution_count": null,
   "metadata": {},
   "outputs": [],
   "source": [
    "results=helpers.download_file(\"data/Musicdata/hard_questions_with_only_function_available_music_brainz_prompt_2_with_better_descriptions.pkl\")"
   ]
  },
  {
   "cell_type": "code",
   "execution_count": null,
   "metadata": {},
   "outputs": [],
   "source": [
    "\n",
    "results=pd.DataFrame(results)\n",
    "results=pd.merge(left=hard_questions_df,right=results)\n",
    "results"
   ]
  },
  {
   "cell_type": "markdown",
   "metadata": {},
   "source": [
    "# 3 subfunctions available "
   ]
  },
  {
   "cell_type": "code",
   "execution_count": null,
   "metadata": {},
   "outputs": [],
   "source": [
    "hard_questions_df=pd.read_csv(\"data/Musicdata/Hard_questions.csv\")\n",
    "hard_questions_df\n"
   ]
  },
  {
   "cell_type": "code",
   "execution_count": null,
   "metadata": {},
   "outputs": [],
   "source": [
    "available_functions={k:v for k,v in all_available_functions.items() if  v.__name__!=\"searchdetailsrefinedfrommusicbrainz\"}\n",
    "available_functions"
   ]
  },
  {
   "cell_type": "code",
   "execution_count": null,
   "metadata": {},
   "outputs": [],
   "source": [
    "results=[]"
   ]
  },
  {
   "cell_type": "code",
   "execution_count": null,
   "metadata": {},
   "outputs": [],
   "source": [
    "for question in tqdm(hard_questions_df[\"Question\"]): \n",
    "    prompt=copy.deepcopy(prompt2)\n",
    "    results.append(langchainhelpers.run_llm_chain_more_than_once(prompt,available_functions,question,1000,1,5))\n",
    "    helpers.upload_file(\"data/Musicdata/intermediate_results.pkl\",results)"
   ]
  },
  {
   "cell_type": "code",
   "execution_count": null,
   "metadata": {},
   "outputs": [],
   "source": [
    "results\n"
   ]
  },
  {
   "cell_type": "code",
   "execution_count": null,
   "metadata": {},
   "outputs": [],
   "source": [
    "helpers.upload_file(\"data/Musicdata/hard_questions_with_3_subfunctions_available_music_brainz_prompt_2_with_better_descriptions.pkl\",results)\n"
   ]
  },
  {
   "cell_type": "code",
   "execution_count": 3,
   "metadata": {},
   "outputs": [],
   "source": [
    "results=helpers.download_file(\"data/Musicdata/hard_questions_with_3_subfunctions_available_music_brainz_prompt_2_with_better_descriptions.pkl\")"
   ]
  },
  {
   "cell_type": "code",
   "execution_count": 4,
   "metadata": {},
   "outputs": [
    {
     "data": {
      "text/html": [
       "<div>\n",
       "<style scoped>\n",
       "    .dataframe tbody tr th:only-of-type {\n",
       "        vertical-align: middle;\n",
       "    }\n",
       "\n",
       "    .dataframe tbody tr th {\n",
       "        vertical-align: top;\n",
       "    }\n",
       "\n",
       "    .dataframe thead th {\n",
       "        text-align: right;\n",
       "    }\n",
       "</style>\n",
       "<table border=\"1\" class=\"dataframe\">\n",
       "  <thead>\n",
       "    <tr style=\"text-align: right;\">\n",
       "      <th></th>\n",
       "      <th>Question</th>\n",
       "      <th>Correct Answer</th>\n",
       "      <th>steps</th>\n",
       "      <th>answer</th>\n",
       "    </tr>\n",
       "  </thead>\n",
       "  <tbody>\n",
       "    <tr>\n",
       "      <th>0</th>\n",
       "      <td>Its the year 2023. What is the age of the Person whom Elton John sang Cold Heart with?</td>\n",
       "      <td>28</td>\n",
       "      <td>[{'Function_name': 'gettrackdetailsrefinedfrommusicbrainz', 'Function_arguments': {'query': 'Cold Heart', 'artist_name': 'Elton John'}}, {'Function_name': 'getartistdetailsfrommusicbrainz', 'Function_arguments': {'query': 'Dua Lipa'}}]</td>\n",
       "      <td>The person whom Elton John sang \"Cold Heart\" with is Dua Lipa. Dua Lipa was born on August 22, 1995. Therefore, in the year 2023, Dua Lipa would be 27 years old.</td>\n",
       "    </tr>\n",
       "    <tr>\n",
       "      <th>1</th>\n",
       "      <td>Give me the 6th song of the album in which Bruno Mars released Moonshine?</td>\n",
       "      <td>When I Was Your Man</td>\n",
       "      <td>[{'Function_name': 'getalbumdetailsfrommusicbrainz', 'Function_arguments': {'query': 'Moonshine', 'artist_name': 'Bruno Mars'}}]</td>\n",
       "      <td>I'm sorry, but I couldn't find any information about an album called \"Moonshine\" by Bruno Mars in the music database.</td>\n",
       "    </tr>\n",
       "    <tr>\n",
       "      <th>2</th>\n",
       "      <td>Who is the common artist of Tere Naina from My Name Is Khan and Tu Hi Mera from Jannat 2?</td>\n",
       "      <td>Shafqat Amanat Ali</td>\n",
       "      <td>[{'Function_name': 'gettrackdetailsrefinedfrommusicbrainz', 'Function_arguments': {'query': 'Tere Naina', 'album_name': 'My Name Is Khan'}}, {'Function_name': 'gettrackdetailsrefinedfrommusicbrainz', 'Function_arguments': {'query': 'Tu Hi Mera', 'album_name': 'Jannat 2'}}]</td>\n",
       "      <td>The common artist of \"Tere Naina\" from the album \"My Name Is Khan\" and \"Tu Hi Mera\" from the album \"Jannat 2\" is Shafqat Amanat Ali.</td>\n",
       "    </tr>\n",
       "    <tr>\n",
       "      <th>3</th>\n",
       "      <td>Name one artist whose names start with A who are part of the band that released Shakermaker in the Definitely Maybe.</td>\n",
       "      <td>Alan White/Andy Bell</td>\n",
       "      <td>[{'Function_name': 'gettrackdetailsrefinedfrommusicbrainz', 'Function_arguments': {'query': 'Shakermaker', 'album_name': 'Definitely Maybe'}}, {'Function_name': 'getartistdetailsfrommusicbrainz', 'Function_arguments': {'query': 'Oasis'}}]</td>\n",
       "      <td>One artist whose name starts with A and is part of the band that released \"Shakermaker\" in the album \"Definitely Maybe\" is Alan White.</td>\n",
       "    </tr>\n",
       "    <tr>\n",
       "      <th>4</th>\n",
       "      <td>What is the birth place of the artist who released 24K Magic?</td>\n",
       "      <td>Honolulu</td>\n",
       "      <td>[{'Function_name': 'getartistdetailsfrommusicbrainz', 'Function_arguments': {'query': 'Bruno Mars'}}]</td>\n",
       "      <td>The birthplace of the artist Bruno Mars, who released the album \"24K Magic,\" is Honolulu, United States.</td>\n",
       "    </tr>\n",
       "    <tr>\n",
       "      <th>5</th>\n",
       "      <td>Name the artist who released Raising Sand and I Know Who Holds Tomorrow and was born in Champaign.</td>\n",
       "      <td>Alison Krauss</td>\n",
       "      <td>[{'Function_name': 'getartistdetailsfrommusicbrainz', 'Function_arguments': {'query': 'Raising Sand'}}, {'Function_name': 'getalbumdetailsfrommusicbrainz', 'Function_arguments': {'query': 'Raising Sand'}}]</td>\n",
       "      <td>The artist who released the album \"Raising Sand\" is Robert Plant | Alison Krauss.</td>\n",
       "    </tr>\n",
       "    <tr>\n",
       "      <th>6</th>\n",
       "      <td>Who is the producer of the 2nd song of the album Fearless by Taylor Swift?</td>\n",
       "      <td>Nathan Chapman</td>\n",
       "      <td>[{'Function_name': 'getalbumdetailsfrommusicbrainz', 'Function_arguments': {'query': 'Fearless', 'artist_name': 'Taylor Swift'}}]</td>\n",
       "      <td>The producer of the 2nd song \"Fifteen\" of the album \"Fearless\" by Taylor Swift is not available in the MusicBrainz data.</td>\n",
       "    </tr>\n",
       "    <tr>\n",
       "      <th>7</th>\n",
       "      <td>What is the capital of the country that the artist who released Raising Sand was born in. The artist must not be from a country in North America?</td>\n",
       "      <td>London</td>\n",
       "      <td>[{'Function_name': 'getalbumdetailsfrommusicbrainz', 'Function_arguments': {'query': 'Raising Sand'}}, {'Function_name': 'getartistdetailsfrommusicbrainz', 'Function_arguments': {'query': 'Robert Plant'}}]</td>\n",
       "      <td>The artist Robert Plant, who released the album \"Raising Sand,\" was born in West Bromwich, United Kingdom.</td>\n",
       "    </tr>\n",
       "    <tr>\n",
       "      <th>8</th>\n",
       "      <td>In the year that Taylor Swift released Lover and Cold Play released Everyday Life, England won the 50 over cricket world cup for the first time. What year was it?</td>\n",
       "      <td>2019</td>\n",
       "      <td>[]</td>\n",
       "      <td>The year that Taylor Swift released \"Lover\" and Coldplay released \"Everyday Life\" was 2019. England won the 50 over cricket world cup for the first time in the same year, which was also in 2019.</td>\n",
       "    </tr>\n",
       "    <tr>\n",
       "      <th>9</th>\n",
       "      <td>Out of these four  ÷ - + * , which is one the symbol that Ed Sheeran's music albums are not named after?</td>\n",
       "      <td>*</td>\n",
       "      <td>[{'Function_name': 'getalbumdetailsfrommusicbrainz', 'Function_arguments': {'query': 'Ed Sheeran'}}]</td>\n",
       "      <td>I apologize, but it seems that I couldn't find any album details for Ed Sheeran in the music database. Therefore, I am unable to determine which symbol is not used in his album names.</td>\n",
       "    </tr>\n",
       "  </tbody>\n",
       "</table>\n",
       "</div>"
      ],
      "text/plain": [
       "                                                                                                                                                             Question  \\\n",
       "0                                                                              Its the year 2023. What is the age of the Person whom Elton John sang Cold Heart with?   \n",
       "1                                                                                           Give me the 6th song of the album in which Bruno Mars released Moonshine?   \n",
       "2                                                                           Who is the common artist of Tere Naina from My Name Is Khan and Tu Hi Mera from Jannat 2?   \n",
       "3                                                Name one artist whose names start with A who are part of the band that released Shakermaker in the Definitely Maybe.   \n",
       "4                                                                                                       What is the birth place of the artist who released 24K Magic?   \n",
       "5                                                                  Name the artist who released Raising Sand and I Know Who Holds Tomorrow and was born in Champaign.   \n",
       "6                                                                                          Who is the producer of the 2nd song of the album Fearless by Taylor Swift?   \n",
       "7                   What is the capital of the country that the artist who released Raising Sand was born in. The artist must not be from a country in North America?   \n",
       "8  In the year that Taylor Swift released Lover and Cold Play released Everyday Life, England won the 50 over cricket world cup for the first time. What year was it?   \n",
       "9                                                            Out of these four  ÷ - + * , which is one the symbol that Ed Sheeran's music albums are not named after?   \n",
       "\n",
       "         Correct Answer  \\\n",
       "0                    28   \n",
       "1   When I Was Your Man   \n",
       "2    Shafqat Amanat Ali   \n",
       "3  Alan White/Andy Bell   \n",
       "4              Honolulu   \n",
       "5         Alison Krauss   \n",
       "6        Nathan Chapman   \n",
       "7                London   \n",
       "8                  2019   \n",
       "9                     *   \n",
       "\n",
       "                                                                                                                                                                                                                                                                               steps  \\\n",
       "0                                        [{'Function_name': 'gettrackdetailsrefinedfrommusicbrainz', 'Function_arguments': {'query': 'Cold Heart', 'artist_name': 'Elton John'}}, {'Function_name': 'getartistdetailsfrommusicbrainz', 'Function_arguments': {'query': 'Dua Lipa'}}]   \n",
       "1                                                                                                                                                   [{'Function_name': 'getalbumdetailsfrommusicbrainz', 'Function_arguments': {'query': 'Moonshine', 'artist_name': 'Bruno Mars'}}]   \n",
       "2  [{'Function_name': 'gettrackdetailsrefinedfrommusicbrainz', 'Function_arguments': {'query': 'Tere Naina', 'album_name': 'My Name Is Khan'}}, {'Function_name': 'gettrackdetailsrefinedfrommusicbrainz', 'Function_arguments': {'query': 'Tu Hi Mera', 'album_name': 'Jannat 2'}}]   \n",
       "3                                     [{'Function_name': 'gettrackdetailsrefinedfrommusicbrainz', 'Function_arguments': {'query': 'Shakermaker', 'album_name': 'Definitely Maybe'}}, {'Function_name': 'getartistdetailsfrommusicbrainz', 'Function_arguments': {'query': 'Oasis'}}]   \n",
       "4                                                                                                                                                                              [{'Function_name': 'getartistdetailsfrommusicbrainz', 'Function_arguments': {'query': 'Bruno Mars'}}]   \n",
       "5                                                                      [{'Function_name': 'getartistdetailsfrommusicbrainz', 'Function_arguments': {'query': 'Raising Sand'}}, {'Function_name': 'getalbumdetailsfrommusicbrainz', 'Function_arguments': {'query': 'Raising Sand'}}]   \n",
       "6                                                                                                                                                  [{'Function_name': 'getalbumdetailsfrommusicbrainz', 'Function_arguments': {'query': 'Fearless', 'artist_name': 'Taylor Swift'}}]   \n",
       "7                                                                      [{'Function_name': 'getalbumdetailsfrommusicbrainz', 'Function_arguments': {'query': 'Raising Sand'}}, {'Function_name': 'getartistdetailsfrommusicbrainz', 'Function_arguments': {'query': 'Robert Plant'}}]   \n",
       "8                                                                                                                                                                                                                                                                                 []   \n",
       "9                                                                                                                                                                               [{'Function_name': 'getalbumdetailsfrommusicbrainz', 'Function_arguments': {'query': 'Ed Sheeran'}}]   \n",
       "\n",
       "                                                                                                                                                                                               answer  \n",
       "0                                   The person whom Elton John sang \"Cold Heart\" with is Dua Lipa. Dua Lipa was born on August 22, 1995. Therefore, in the year 2023, Dua Lipa would be 27 years old.  \n",
       "1                                                                               I'm sorry, but I couldn't find any information about an album called \"Moonshine\" by Bruno Mars in the music database.  \n",
       "2                                                                The common artist of \"Tere Naina\" from the album \"My Name Is Khan\" and \"Tu Hi Mera\" from the album \"Jannat 2\" is Shafqat Amanat Ali.  \n",
       "3                                                              One artist whose name starts with A and is part of the band that released \"Shakermaker\" in the album \"Definitely Maybe\" is Alan White.  \n",
       "4                                                                                            The birthplace of the artist Bruno Mars, who released the album \"24K Magic,\" is Honolulu, United States.  \n",
       "5                                                                                                                   The artist who released the album \"Raising Sand\" is Robert Plant | Alison Krauss.  \n",
       "6                                                                            The producer of the 2nd song \"Fifteen\" of the album \"Fearless\" by Taylor Swift is not available in the MusicBrainz data.  \n",
       "7                                                                                          The artist Robert Plant, who released the album \"Raising Sand,\" was born in West Bromwich, United Kingdom.  \n",
       "8  The year that Taylor Swift released \"Lover\" and Coldplay released \"Everyday Life\" was 2019. England won the 50 over cricket world cup for the first time in the same year, which was also in 2019.  \n",
       "9             I apologize, but it seems that I couldn't find any album details for Ed Sheeran in the music database. Therefore, I am unable to determine which symbol is not used in his album names.  "
      ]
     },
     "execution_count": 4,
     "metadata": {},
     "output_type": "execute_result"
    }
   ],
   "source": [
    "\n",
    "results=pd.DataFrame(results)\n",
    "results=pd.merge(left=hard_questions_df,right=results)\n",
    "results"
   ]
  },
  {
   "cell_type": "code",
   "execution_count": null,
   "metadata": {},
   "outputs": [],
   "source": []
  }
 ],
 "metadata": {
  "kernelspec": {
   "display_name": "base",
   "language": "python",
   "name": "python3"
  },
  "language_info": {
   "codemirror_mode": {
    "name": "ipython",
    "version": 3
   },
   "file_extension": ".py",
   "mimetype": "text/x-python",
   "name": "python",
   "nbconvert_exporter": "python",
   "pygments_lexer": "ipython3",
   "version": "3.8.8"
  },
  "orig_nbformat": 4
 },
 "nbformat": 4,
 "nbformat_minor": 2
}
