{
 "cells": [
  {
   "cell_type": "code",
   "execution_count": 1,
   "metadata": {},
   "outputs": [],
   "source": [
    "import helpers\n",
    "import pandas as pd\n",
    "import time\n",
    "import copy\n",
    "from helpers import musicbrainzrefined, spotify,langchainhelpers\n",
    "from tqdm import tqdm\n",
    "from langchain.prompts import ChatPromptTemplate\n",
    "pd.set_option(\"display.max_colwidth\",1000)"
   ]
  },
  {
   "cell_type": "code",
   "execution_count": null,
   "metadata": {},
   "outputs": [],
   "source": [
    "#load functions\n",
    "available_functions = {\"getalbumdetailsfromspotify\":spotify.getalbumdetailsfromspotify,\n",
    "             \"getartistdetailsfromspotify\":spotify.getartistdetailsfromspotify,\n",
    "             \"gettrackdetailsfromspotify\":spotify.gettrackdetailsfromspotify,\n",
    "             \"getrecommendationsfromspotify\":spotify.getrecommendationsfromspotify,\n",
    "             \"getalbumdetailsfrommusicbrainz\":musicbrainzrefined.getalbumdetailsfrommusicbrainz,\n",
    "             \"getartistdetailsfrommusicbrainz\":musicbrainzrefined.getartistdetailsfrommusicbrainz,\n",
    "             \"gettrackdetailsrefinedfrommusicbrainz\":musicbrainzrefined.gettrackdetailsrefinedfrommusicbrainz}"
   ]
  },
  {
   "cell_type": "code",
   "execution_count": null,
   "metadata": {},
   "outputs": [],
   "source": [
    "prompt2 = ChatPromptTemplate.from_messages(\n",
    "        [\n",
    "            (\"system\", \"You are an Music Aficionado and know a lot about this field.\"),\n",
    "            (\"human\", \"You also have access to a music database, so make calls to the relevant functions if and only if necessary. Remember it costs to call the database and the service isn't cheap.\"),\n",
    "            (\"human\", \"{input}\")\n",
    "        ]\n",
    "    )"
   ]
  },
  {
   "cell_type": "code",
   "execution_count": null,
   "metadata": {},
   "outputs": [],
   "source": [
    "prompt3 = ChatPromptTemplate.from_messages(\n",
    "        [\n",
    "            (\"system\", \"You are an Music Aficionado and know a lot about this field.\"),\n",
    "            (\"human\", \"You also have access to a music database which is a combination of data from two sources, so make calls to the relevant functions if and only if necessary.\"),\n",
    "            (\"human\", \"Remember it costs to call the database and the service isn't cheap, and if you don't find information about an entity from one source you also have access to data from another source which you can also try to exploit.\"),\n",
    "            (\"human\", \"{input}\")\n",
    "        ]\n",
    "    )"
   ]
  },
  {
   "cell_type": "code",
   "execution_count": null,
   "metadata": {},
   "outputs": [],
   "source": [
    "prompt5 = ChatPromptTemplate.from_messages(\n",
    "        [\n",
    "            (\"system\", \"You are an Music Aficionado and know a lot about this field.\"),\n",
    "            (\"human\", \"You also have access to a music database which is a combination of data from two sources, so make calls to the relevant functions if and only if necessary.\"),\n",
    "            (\"human\", \"Remember it costs to call the database and the service isn't cheap, and if you don't find information about an entity from one source you also have access to data from another source which you can also try to exploit.\"),\n",
    "            (\"human\", \"Note: Some specifc information about an entity is available only in data from one source and in both sources the entity being referred to is usually the same. So, technically you can also call functions from both sources to answer one question.\"),\n",
    "            (\"human\", \"{input}\")\n",
    "        ]\n",
    "    )"
   ]
  },
  {
   "cell_type": "markdown",
   "metadata": {},
   "source": [
    "# Experimentation"
   ]
  },
  {
   "cell_type": "markdown",
   "metadata": {},
   "source": [
    "# 7 subfunctions available - prompt 2 (MusicBrainz and Spotify)"
   ]
  },
  {
   "cell_type": "code",
   "execution_count": null,
   "metadata": {},
   "outputs": [],
   "source": [
    "domain_specific_questions_df=pd.read_csv(\"data/Musicdata/Knowledge_mixing_questions.csv\")\n",
    "domain_specific_questions_df"
   ]
  },
  {
   "cell_type": "code",
   "execution_count": null,
   "metadata": {},
   "outputs": [],
   "source": [
    "results=[]"
   ]
  },
  {
   "cell_type": "code",
   "execution_count": null,
   "metadata": {},
   "outputs": [],
   "source": [
    "for question in tqdm(domain_specific_questions_df[\"Question\"]): \n",
    "    prompt=copy.deepcopy(prompt2)\n",
    "    results.append(langchainhelpers.run_llm_chain_more_than_once(prompt,available_functions,question,1000,1,5))\n",
    "    helpers.upload_file(\"data/Musicdata/Geodata/Musicdata/intermediate_results.pkl\",results)"
   ]
  },
  {
   "cell_type": "code",
   "execution_count": null,
   "metadata": {},
   "outputs": [],
   "source": [
    "helpers.upload_file(\"data/Musicdata/domain_specific_questions_with_7_subfunctions_available_prompt_2_with_better_descriptions.pkl\",results)\n"
   ]
  },
  {
   "cell_type": "code",
   "execution_count": null,
   "metadata": {},
   "outputs": [],
   "source": [
    "results=helpers.download_file(\"data/Musicdata/domain_specific_questions_with_7_subfunctions_available_prompt_2_with_better_descriptions.pkl\")"
   ]
  },
  {
   "cell_type": "code",
   "execution_count": null,
   "metadata": {},
   "outputs": [],
   "source": [
    "results=pd.DataFrame(results)\n",
    "results=pd.merge(left=domain_specific_questions_df,right=results)\n",
    "results"
   ]
  },
  {
   "cell_type": "markdown",
   "metadata": {},
   "source": [
    "# 7 subfunctions available - prompt 3 (MusicBrainz and Spotify)"
   ]
  },
  {
   "cell_type": "code",
   "execution_count": null,
   "metadata": {},
   "outputs": [],
   "source": [
    "\n",
    "domain_specific_questions_df=pd.read_csv(\"data/Musicdata/Domain_specific_questions.csv\")\n",
    "domain_specific_questions_df\n"
   ]
  },
  {
   "cell_type": "code",
   "execution_count": null,
   "metadata": {},
   "outputs": [],
   "source": [
    "results=[]"
   ]
  },
  {
   "cell_type": "code",
   "execution_count": null,
   "metadata": {},
   "outputs": [],
   "source": [
    "for question in tqdm(domain_specific_questions_df[\"Question\"]): \n",
    "    prompt=copy.deepcopy(prompt3)\n",
    "    results.append(langchainhelpers.run_llm_chain_more_than_once(prompt,available_functions,question,1000,1,5))\n",
    "    helpers.upload_file(\"data/Musicdata/Geodata/Musicdata/intermediate_results.pkl\",results)"
   ]
  },
  {
   "cell_type": "code",
   "execution_count": null,
   "metadata": {},
   "outputs": [],
   "source": [
    "helpers.upload_file(\"data/Musicdata/domain_specific_questions_with_7_subfunctions_available_prompt_3_with_better_descriptions.pkl\",results)\n"
   ]
  },
  {
   "cell_type": "code",
   "execution_count": null,
   "metadata": {},
   "outputs": [],
   "source": [
    "results=helpers.download_file(\"data/Musicdata/domain_specific_questions_with_7_subfunctions_available_prompt_3_with_better_descriptions.pkl\")"
   ]
  },
  {
   "cell_type": "code",
   "execution_count": null,
   "metadata": {},
   "outputs": [],
   "source": [
    "\n",
    "results=pd.DataFrame(results)\n",
    "results=pd.merge(left=results,right=domain_specific_questions_df)\n",
    "results"
   ]
  },
  {
   "cell_type": "markdown",
   "metadata": {},
   "source": [
    "# 7 subfunctions available - prompt 5 (MusicBrainz and Spotify)"
   ]
  },
  {
   "cell_type": "code",
   "execution_count": 2,
   "metadata": {},
   "outputs": [
    {
     "data": {
      "text/html": [
       "<div>\n",
       "<style scoped>\n",
       "    .dataframe tbody tr th:only-of-type {\n",
       "        vertical-align: middle;\n",
       "    }\n",
       "\n",
       "    .dataframe tbody tr th {\n",
       "        vertical-align: top;\n",
       "    }\n",
       "\n",
       "    .dataframe thead th {\n",
       "        text-align: right;\n",
       "    }\n",
       "</style>\n",
       "<table border=\"1\" class=\"dataframe\">\n",
       "  <thead>\n",
       "    <tr style=\"text-align: right;\">\n",
       "      <th></th>\n",
       "      <th>Question</th>\n",
       "      <th>Correct Answer</th>\n",
       "    </tr>\n",
       "  </thead>\n",
       "  <tbody>\n",
       "    <tr>\n",
       "      <th>0</th>\n",
       "      <td>In which year was Kind of Blue by Miles Davis first released?</td>\n",
       "      <td>1959</td>\n",
       "    </tr>\n",
       "    <tr>\n",
       "      <th>1</th>\n",
       "      <td>Before Phil Collins, who was the lead singer of Genesis?</td>\n",
       "      <td>Peter Gabriel</td>\n",
       "    </tr>\n",
       "    <tr>\n",
       "      <th>2</th>\n",
       "      <td>Name one genre starting with letter M that the band that released Shakermaker in the Definitely Maybe is famous for?</td>\n",
       "      <td>Madchester</td>\n",
       "    </tr>\n",
       "    <tr>\n",
       "      <th>3</th>\n",
       "      <td>Is the song:Money in the album:Portamento by artist:The Drums explicit?</td>\n",
       "      <td>false</td>\n",
       "    </tr>\n",
       "    <tr>\n",
       "      <th>4</th>\n",
       "      <td>Who is the feature artist of the album Uncle Dysfunktional?</td>\n",
       "      <td>Happy Mondays</td>\n",
       "    </tr>\n",
       "    <tr>\n",
       "      <th>5</th>\n",
       "      <td>Is the artist who sang the 3rd song in My Name Is Khan famous for his Sufi music?</td>\n",
       "      <td>true</td>\n",
       "    </tr>\n",
       "    <tr>\n",
       "      <th>6</th>\n",
       "      <td>I am a big fan of the One Direction. Name me two other artists to whose songs I can listen to?</td>\n",
       "      <td>NaN</td>\n",
       "    </tr>\n",
       "    <tr>\n",
       "      <th>7</th>\n",
       "      <td>I am a One Direction supporter. I love pop songs. To this day my favourite song is Thinking Out Loud. Could you give a recommendation  based on all the information of a track I would like?</td>\n",
       "      <td>NaN</td>\n",
       "    </tr>\n",
       "    <tr>\n",
       "      <th>8</th>\n",
       "      <td>What is the main genre of the second artist who sang Veni Vidi Vici in the album Rebel Heart along with Madonna?</td>\n",
       "      <td>hip hop</td>\n",
       "    </tr>\n",
       "    <tr>\n",
       "      <th>9</th>\n",
       "      <td>The 3rd song in Cheek to Cheek by Tony Bennett &amp; Lady Gaga is a famous one. On the basis of the track, the artist and genre of the artist of the track give me some recommendations.</td>\n",
       "      <td>NaN</td>\n",
       "    </tr>\n",
       "  </tbody>\n",
       "</table>\n",
       "</div>"
      ],
      "text/plain": [
       "                                                                                                                                                                                       Question  \\\n",
       "0                                                                                                                                 In which year was Kind of Blue by Miles Davis first released?   \n",
       "1                                                                                                                                      Before Phil Collins, who was the lead singer of Genesis?   \n",
       "2                                                                          Name one genre starting with letter M that the band that released Shakermaker in the Definitely Maybe is famous for?   \n",
       "3                                                                                                                       Is the song:Money in the album:Portamento by artist:The Drums explicit?   \n",
       "4                                                                                                                                   Who is the feature artist of the album Uncle Dysfunktional?   \n",
       "5                                                                                                             Is the artist who sang the 3rd song in My Name Is Khan famous for his Sufi music?   \n",
       "6                                                                                                I am a big fan of the One Direction. Name me two other artists to whose songs I can listen to?   \n",
       "7  I am a One Direction supporter. I love pop songs. To this day my favourite song is Thinking Out Loud. Could you give a recommendation  based on all the information of a track I would like?   \n",
       "8                                                                              What is the main genre of the second artist who sang Veni Vidi Vici in the album Rebel Heart along with Madonna?   \n",
       "9          The 3rd song in Cheek to Cheek by Tony Bennett & Lady Gaga is a famous one. On the basis of the track, the artist and genre of the artist of the track give me some recommendations.   \n",
       "\n",
       "  Correct Answer  \n",
       "0           1959  \n",
       "1  Peter Gabriel  \n",
       "2     Madchester  \n",
       "3          false  \n",
       "4  Happy Mondays  \n",
       "5           true  \n",
       "6            NaN  \n",
       "7            NaN  \n",
       "8        hip hop  \n",
       "9            NaN  "
      ]
     },
     "execution_count": 2,
     "metadata": {},
     "output_type": "execute_result"
    }
   ],
   "source": [
    "\n",
    "domain_specific_questions_df=pd.read_csv(\"data/Musicdata/Domain_Specific_questions.csv\")\n",
    "domain_specific_questions_df"
   ]
  },
  {
   "cell_type": "code",
   "execution_count": null,
   "metadata": {},
   "outputs": [],
   "source": [
    "results=[]"
   ]
  },
  {
   "cell_type": "code",
   "execution_count": null,
   "metadata": {},
   "outputs": [],
   "source": [
    "for question in tqdm(domain_specific_questions_df[\"Question\"]): \n",
    "    prompt=copy.deepcopy(prompt5)\n",
    "    results.append(langchainhelpers.run_llm_chain_more_than_once(prompt,available_functions,question,1000,1,5))\n",
    "    helpers.upload_file(\"data/Musicdata/intermediate_results.pkl\",results)"
   ]
  },
  {
   "cell_type": "code",
   "execution_count": null,
   "metadata": {},
   "outputs": [],
   "source": [
    "results"
   ]
  },
  {
   "cell_type": "code",
   "execution_count": null,
   "metadata": {},
   "outputs": [],
   "source": [
    "helpers.upload_file(\"data/Musicdata/domain_specific_questions_with_7_subfunctions_available_prompt_5_with_better_descriptions.pkl\",results)\n",
    "\n"
   ]
  },
  {
   "cell_type": "code",
   "execution_count": 3,
   "metadata": {},
   "outputs": [],
   "source": [
    "results=helpers.download_file(\"data/Musicdata/domain_specific_questions_with_7_subfunctions_available_prompt_5_with_better_descriptions.pkl\")\n"
   ]
  },
  {
   "cell_type": "code",
   "execution_count": 4,
   "metadata": {},
   "outputs": [
    {
     "data": {
      "text/html": [
       "<div>\n",
       "<style scoped>\n",
       "    .dataframe tbody tr th:only-of-type {\n",
       "        vertical-align: middle;\n",
       "    }\n",
       "\n",
       "    .dataframe tbody tr th {\n",
       "        vertical-align: top;\n",
       "    }\n",
       "\n",
       "    .dataframe thead th {\n",
       "        text-align: right;\n",
       "    }\n",
       "</style>\n",
       "<table border=\"1\" class=\"dataframe\">\n",
       "  <thead>\n",
       "    <tr style=\"text-align: right;\">\n",
       "      <th></th>\n",
       "      <th>Question</th>\n",
       "      <th>Correct Answer</th>\n",
       "      <th>steps</th>\n",
       "      <th>answer</th>\n",
       "    </tr>\n",
       "  </thead>\n",
       "  <tbody>\n",
       "    <tr>\n",
       "      <th>0</th>\n",
       "      <td>In which year was Kind of Blue by Miles Davis first released?</td>\n",
       "      <td>1959</td>\n",
       "      <td>[{'Function_name': 'getalbumdetailsfromspotify', 'Function_arguments': {'query': 'Kind of Blue', 'artist_name': 'Miles Davis'}}]</td>\n",
       "      <td>The album \"Kind of Blue\" by Miles Davis was first released in 2018.</td>\n",
       "    </tr>\n",
       "    <tr>\n",
       "      <th>1</th>\n",
       "      <td>Before Phil Collins, who was the lead singer of Genesis?</td>\n",
       "      <td>Peter Gabriel</td>\n",
       "      <td>[{'Function_name': 'getartistdetailsfrommusicbrainz', 'Function_arguments': {'query': 'Genesis'}}]</td>\n",
       "      <td>Before Phil Collins, the lead singer of Genesis was Peter Gabriel.</td>\n",
       "    </tr>\n",
       "    <tr>\n",
       "      <th>2</th>\n",
       "      <td>Name one genre starting with letter M that the band that released Shakermaker in the Definitely Maybe is famous for?</td>\n",
       "      <td>Madchester</td>\n",
       "      <td>[{'Function_name': 'getalbumdetailsfromspotify', 'Function_arguments': {'query': 'Definitely Maybe', 'track_name': 'Shakermaker'}}, {'Function_name': 'getartistdetailsfromspotify', 'Function_arguments': {'query': 'Oasis'}}]</td>\n",
       "      <td>The band Oasis, famous for their album \"Definitely Maybe\" and the track \"Shakermaker\", is known for the genre of Britpop.</td>\n",
       "    </tr>\n",
       "    <tr>\n",
       "      <th>3</th>\n",
       "      <td>Is the song:Money in the album:Portamento by artist:The Drums explicit?</td>\n",
       "      <td>false</td>\n",
       "      <td>[{'Function_name': 'gettrackdetailsfromspotify', 'Function_arguments': {'query': 'Money', 'album_name': 'Portamento', 'artist_name': 'The Drums'}}]</td>\n",
       "      <td>The song \"Money\" by The Drums from the album \"Portamento\" is not explicit.</td>\n",
       "    </tr>\n",
       "    <tr>\n",
       "      <th>4</th>\n",
       "      <td>Who is the feature artist of the album Uncle Dysfunktional?</td>\n",
       "      <td>Happy Mondays</td>\n",
       "      <td>[{'Function_name': 'getalbumdetailsfromspotify', 'Function_arguments': {'query': 'Uncle Dysfunktional'}}]</td>\n",
       "      <td>The feature artist of the album \"Uncle Dysfunktional\" is Mickey Avalon.</td>\n",
       "    </tr>\n",
       "    <tr>\n",
       "      <th>5</th>\n",
       "      <td>Is the artist who sang the 3rd song in My Name Is Khan famous for his Sufi music?</td>\n",
       "      <td>true</td>\n",
       "      <td>[{'Function_name': 'gettrackdetailsfromspotify', 'Function_arguments': {'query': 'My Name Is Khan', 'track_name': '3rd song'}}, {'Function_name': 'gettrackdetailsfromspotify', 'Function_arguments': {'query': 'My Name Is Khan', 'track_name': '3rd song'}}, {'Function_name': 'gettrackdetailsfromspotify', 'Function_arguments': {'query': 'My Name Is Khan', 'track_name': '3rd song'}}, {'Function_name': 'gettrackdetailsfromspotify', 'Function_arguments': {'query': 'My Name Is Khan', 'track_name': '3rd song'}}, {'Function_name': 'gettrackdetailsrefinedfrommusicbrainz', 'Function_arguments': {'query': 'My Name Is Khan', 'track_name': '3rd song'}}]</td>\n",
       "      <td>Too many function calls</td>\n",
       "    </tr>\n",
       "    <tr>\n",
       "      <th>6</th>\n",
       "      <td>I am a big fan of the One Direction. Name me two other artists to whose songs I can listen to?</td>\n",
       "      <td>NaN</td>\n",
       "      <td>[{'Function_name': 'getrecommendationsfromspotify', 'Function_arguments': {'artist_name': 'One Direction', 'limit': 2}}]</td>\n",
       "      <td>I recommend you listen to the following artists:\\n\\n1. Maroon 5 - You can listen to their song \"This Love\" from the album \"Songs About Jane: 10th Anniversary Edition\".\\n\\n2. Cher Lloyd - You can listen to her song \"Want U Back\" from the album \"Sticks &amp; Stones\".\\n\\nEnjoy the music!</td>\n",
       "    </tr>\n",
       "    <tr>\n",
       "      <th>7</th>\n",
       "      <td>I am a One Direction supporter. I love pop songs. To this day my favourite song is Thinking Out Loud. Could you give a recommendation  based on all the information of a track I would like?</td>\n",
       "      <td>NaN</td>\n",
       "      <td>[{'Function_name': 'getrecommendationsfromspotify', 'Function_arguments': {'track_name': 'Thinking Out Loud', 'genre': 'pop', 'limit': 1}}]</td>\n",
       "      <td>Based on your love for pop songs and your favorite song \"Thinking Out Loud\", I recommend you to listen to the track \"Dancing With Your Ghost\" by Sasha Alex Sloan. It is a pop song with a duration of 3 minutes and 17 seconds. The track is not explicit and it was released as a single. Enjoy listening to it!</td>\n",
       "    </tr>\n",
       "    <tr>\n",
       "      <th>8</th>\n",
       "      <td>What is the main genre of the second artist who sang Veni Vidi Vici in the album Rebel Heart along with Madonna?</td>\n",
       "      <td>hip hop</td>\n",
       "      <td>[{'Function_name': 'getartistdetailsfromspotify', 'Function_arguments': {'query': 'Madonna'}}, {'Function_name': 'getartistdetailsfromspotify', 'Function_arguments': {'query': 'Nas'}}]</td>\n",
       "      <td>The main genre of the second artist who sang \"Veni Vidi Vici\" in the album \"Rebel Heart\" along with Madonna is hip hop.</td>\n",
       "    </tr>\n",
       "    <tr>\n",
       "      <th>9</th>\n",
       "      <td>The 3rd song in Cheek to Cheek by Tony Bennett &amp; Lady Gaga is a famous one. On the basis of the track, the artist and genre of the artist of the track give me some recommendations.</td>\n",
       "      <td>NaN</td>\n",
       "      <td>[{'Function_name': 'gettrackdetailsfromspotify', 'Function_arguments': {'query': 'Cheek to Cheek', 'artist_name': 'Tony Bennett &amp; Lady Gaga'}}, {'Function_name': 'gettrackdetailsfrommusicbrainz', 'Function_arguments': {'query': 'Cheek to Cheek', 'artist_name': 'Tony Bennett &amp; Lady Gaga'}}]</td>\n",
       "      <td>Wrong function called</td>\n",
       "    </tr>\n",
       "  </tbody>\n",
       "</table>\n",
       "</div>"
      ],
      "text/plain": [
       "                                                                                                                                                                                       Question  \\\n",
       "0                                                                                                                                 In which year was Kind of Blue by Miles Davis first released?   \n",
       "1                                                                                                                                      Before Phil Collins, who was the lead singer of Genesis?   \n",
       "2                                                                          Name one genre starting with letter M that the band that released Shakermaker in the Definitely Maybe is famous for?   \n",
       "3                                                                                                                       Is the song:Money in the album:Portamento by artist:The Drums explicit?   \n",
       "4                                                                                                                                   Who is the feature artist of the album Uncle Dysfunktional?   \n",
       "5                                                                                                             Is the artist who sang the 3rd song in My Name Is Khan famous for his Sufi music?   \n",
       "6                                                                                                I am a big fan of the One Direction. Name me two other artists to whose songs I can listen to?   \n",
       "7  I am a One Direction supporter. I love pop songs. To this day my favourite song is Thinking Out Loud. Could you give a recommendation  based on all the information of a track I would like?   \n",
       "8                                                                              What is the main genre of the second artist who sang Veni Vidi Vici in the album Rebel Heart along with Madonna?   \n",
       "9          The 3rd song in Cheek to Cheek by Tony Bennett & Lady Gaga is a famous one. On the basis of the track, the artist and genre of the artist of the track give me some recommendations.   \n",
       "\n",
       "  Correct Answer  \\\n",
       "0           1959   \n",
       "1  Peter Gabriel   \n",
       "2     Madchester   \n",
       "3          false   \n",
       "4  Happy Mondays   \n",
       "5           true   \n",
       "6            NaN   \n",
       "7            NaN   \n",
       "8        hip hop   \n",
       "9            NaN   \n",
       "\n",
       "                                                                                                                                                                                                                                                                                                                                                                                                                                                                                                                                                                                                                                                                    steps  \\\n",
       "0                                                                                                                                                                                                                                                                                                                                                                                                                                                                                                                                        [{'Function_name': 'getalbumdetailsfromspotify', 'Function_arguments': {'query': 'Kind of Blue', 'artist_name': 'Miles Davis'}}]   \n",
       "1                                                                                                                                                                                                                                                                                                                                                                                                                                                                                                                                                                      [{'Function_name': 'getartistdetailsfrommusicbrainz', 'Function_arguments': {'query': 'Genesis'}}]   \n",
       "2                                                                                                                                                                                                                                                                                                                                                                                                                                         [{'Function_name': 'getalbumdetailsfromspotify', 'Function_arguments': {'query': 'Definitely Maybe', 'track_name': 'Shakermaker'}}, {'Function_name': 'getartistdetailsfromspotify', 'Function_arguments': {'query': 'Oasis'}}]   \n",
       "3                                                                                                                                                                                                                                                                                                                                                                                                                                                                                                                     [{'Function_name': 'gettrackdetailsfromspotify', 'Function_arguments': {'query': 'Money', 'album_name': 'Portamento', 'artist_name': 'The Drums'}}]   \n",
       "4                                                                                                                                                                                                                                                                                                                                                                                                                                                                                                                                                               [{'Function_name': 'getalbumdetailsfromspotify', 'Function_arguments': {'query': 'Uncle Dysfunktional'}}]   \n",
       "5  [{'Function_name': 'gettrackdetailsfromspotify', 'Function_arguments': {'query': 'My Name Is Khan', 'track_name': '3rd song'}}, {'Function_name': 'gettrackdetailsfromspotify', 'Function_arguments': {'query': 'My Name Is Khan', 'track_name': '3rd song'}}, {'Function_name': 'gettrackdetailsfromspotify', 'Function_arguments': {'query': 'My Name Is Khan', 'track_name': '3rd song'}}, {'Function_name': 'gettrackdetailsfromspotify', 'Function_arguments': {'query': 'My Name Is Khan', 'track_name': '3rd song'}}, {'Function_name': 'gettrackdetailsrefinedfrommusicbrainz', 'Function_arguments': {'query': 'My Name Is Khan', 'track_name': '3rd song'}}]   \n",
       "6                                                                                                                                                                                                                                                                                                                                                                                                                                                                                                                                                [{'Function_name': 'getrecommendationsfromspotify', 'Function_arguments': {'artist_name': 'One Direction', 'limit': 2}}]   \n",
       "7                                                                                                                                                                                                                                                                                                                                                                                                                                                                                                                             [{'Function_name': 'getrecommendationsfromspotify', 'Function_arguments': {'track_name': 'Thinking Out Loud', 'genre': 'pop', 'limit': 1}}]   \n",
       "8                                                                                                                                                                                                                                                                                                                                                                                                                                                                                [{'Function_name': 'getartistdetailsfromspotify', 'Function_arguments': {'query': 'Madonna'}}, {'Function_name': 'getartistdetailsfromspotify', 'Function_arguments': {'query': 'Nas'}}]   \n",
       "9                                                                                                                                                                                                                                                                                                                                                                      [{'Function_name': 'gettrackdetailsfromspotify', 'Function_arguments': {'query': 'Cheek to Cheek', 'artist_name': 'Tony Bennett & Lady Gaga'}}, {'Function_name': 'gettrackdetailsfrommusicbrainz', 'Function_arguments': {'query': 'Cheek to Cheek', 'artist_name': 'Tony Bennett & Lady Gaga'}}]   \n",
       "\n",
       "                                                                                                                                                                                                                                                                                                               answer  \n",
       "0                                                                                                                                                                                                                                                 The album \"Kind of Blue\" by Miles Davis was first released in 2018.  \n",
       "1                                                                                                                                                                                                                                                  Before Phil Collins, the lead singer of Genesis was Peter Gabriel.  \n",
       "2                                                                                                                                                                                           The band Oasis, famous for their album \"Definitely Maybe\" and the track \"Shakermaker\", is known for the genre of Britpop.  \n",
       "3                                                                                                                                                                                                                                          The song \"Money\" by The Drums from the album \"Portamento\" is not explicit.  \n",
       "4                                                                                                                                                                                                                                             The feature artist of the album \"Uncle Dysfunktional\" is Mickey Avalon.  \n",
       "5                                                                                                                                                                                                                                                                                             Too many function calls  \n",
       "6                           I recommend you listen to the following artists:\\n\\n1. Maroon 5 - You can listen to their song \"This Love\" from the album \"Songs About Jane: 10th Anniversary Edition\".\\n\\n2. Cher Lloyd - You can listen to her song \"Want U Back\" from the album \"Sticks & Stones\".\\n\\nEnjoy the music!  \n",
       "7  Based on your love for pop songs and your favorite song \"Thinking Out Loud\", I recommend you to listen to the track \"Dancing With Your Ghost\" by Sasha Alex Sloan. It is a pop song with a duration of 3 minutes and 17 seconds. The track is not explicit and it was released as a single. Enjoy listening to it!  \n",
       "8                                                                                                                                                                                             The main genre of the second artist who sang \"Veni Vidi Vici\" in the album \"Rebel Heart\" along with Madonna is hip hop.  \n",
       "9                                                                                                                                                                                                                                                                                               Wrong function called  "
      ]
     },
     "execution_count": 4,
     "metadata": {},
     "output_type": "execute_result"
    }
   ],
   "source": [
    "results=pd.DataFrame(results)\n",
    "results=pd.merge(left=domain_specific_questions_df,right=results)\n",
    "results"
   ]
  }
 ],
 "metadata": {
  "kernelspec": {
   "display_name": "base",
   "language": "python",
   "name": "python3"
  },
  "language_info": {
   "codemirror_mode": {
    "name": "ipython",
    "version": 3
   },
   "file_extension": ".py",
   "mimetype": "text/x-python",
   "name": "python",
   "nbconvert_exporter": "python",
   "pygments_lexer": "ipython3",
   "version": "3.8.8"
  },
  "orig_nbformat": 4
 },
 "nbformat": 4,
 "nbformat_minor": 2
}
