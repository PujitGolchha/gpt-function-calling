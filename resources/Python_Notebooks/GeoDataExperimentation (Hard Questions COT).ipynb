{
 "cells": [
  {
   "cell_type": "code",
   "execution_count": null,
   "metadata": {},
   "outputs": [],
   "source": [
    "import helpers\n",
    "import pandas as pd\n",
    "import time\n",
    "import copy\n",
    "from helpers import geodata,langchainhelpers\n",
    "from tqdm import tqdm\n",
    "from langchain.prompts import ChatPromptTemplate\n",
    "pd.set_option(\"display.max_colwidth\",1000)"
   ]
  },
  {
   "cell_type": "code",
   "execution_count": null,
   "metadata": {},
   "outputs": [],
   "source": [
    "output_parser=langchainhelpers.customOutputFunctionsParser()"
   ]
  },
  {
   "cell_type": "code",
   "execution_count": null,
   "metadata": {},
   "outputs": [],
   "source": [
    "#load functions of music brainz\n",
    "all_available_functions = {\"searchdetails\":geodata.searchdetails,\n",
    "             \"get_city_details\":geodata.get_city_details,\n",
    "             \"get_country_details\":geodata.get_country_details,\n",
    "             \"get_state_details\":geodata.get_state_details,\n",
    "             \"get_airport_details\":geodata.get_airport_details,\n",
    "             \"get_university_details\":geodata.get_university_details,\n",
    "             \"get_attraction_details\":geodata.get_attraction_details}\n"
   ]
  },
  {
   "cell_type": "code",
   "execution_count": null,
   "metadata": {},
   "outputs": [],
   "source": [
    "prompt4 = ChatPromptTemplate.from_messages(\n",
    "        [\n",
    "            (\"system\", \"You are a geography enthusiast and know a lot about this field.\"),\n",
    "            (\"human\", \"You also have access to a Geographical database, so make calls to the relevant functions if and only if necessary. Remember it costs to call the database and the service isn't cheap.\"),\n",
    "            (\"human\", \"Here are some examples to help you out.\"),\n",
    "            (\"human\", \"Example 1: Question: Give me a city in Germany whose name starts with the letter R in the state in which the city Baden-Baden is located? \\\n",
    "            Step 1: Decide which entity to query about first: Here it is a city.\\\n",
    "            Step 2: As we have access to a function that returns details about a city, I would call the function asking for details of city Baden-Baden. I would also fill all the other possible parameters as that would give me the most accurate answer. Here it would be the country name as Germany.\\\n",
    "            Step 3: After receiving the results from the function I would look for the state in which the city is located.  In this case it would be Baden-Württemberg. \\\n",
    "            Step 4: As we have access to a function that returns details about a state, I would then call the function asking for details of state Baden-Württemberg. I would also fill all the other possible parameters as that would give me the most accurate answer. Here it would be the country name as Germany.\\\n",
    "            Step 5: After receiving the results I would go through the list of Cities in Baden-Württemberg and look for the city with the name staring with R. In this case it would be Reutlingen.\"),\n",
    "            (\"human\", \"Example 2: Question: In the year that The Great Divine Temple in Vietnam and Barstow Bridge in United States were completed, India attained Independence. What year was it?\\\n",
    "            Step 1: Decide which entity to query about first: Here it would be no entity, because I already know the year in which India attained Independence. Hence, I need not query the database at all. I can use my own knowledge and answer this question.\\\n",
    "            Step 2: In this case it would be 1947.\"),\n",
    "            (\"human\", \"Example 3: Question: What is the postal code of the city in Bulagaria, whose name is the same as the name of the state in which Glacier National Park is located?\\\n",
    "            Step 1: Decide which entity to query about: Here it is an attraction.\\\n",
    "            Step 2: As we have access to a function that returns details about an attraction, I would call the function asking for details of attraction Glacier National Park. I would also fill all the other possible parameters as that would give me the most accurate answer. Here it would be nothing. \\\n",
    "            Step 3: After receiving the results from the function I would look for the State. In this case it would be Montana. \\\n",
    "            Step 4: As we have access to a function that returns details about a city, I would then call the function asking for details of city Montana. I would also fill all the other possible parameters as that would give me the most accurate answer. Here it would be the country name as Bulgaria. \\\n",
    "            Step 5: After receiving the results I would check for the postal code. In this case it would be 3400.\"),\n",
    "            (\"human\", \"{input}\")\n",
    "        ]\n",
    "    )"
   ]
  },
  {
   "cell_type": "code",
   "execution_count": null,
   "metadata": {},
   "outputs": [],
   "source": [
    "results=helpers.download_file(\"data/Geodata/intermediate_results.pkl\")"
   ]
  },
  {
   "cell_type": "markdown",
   "metadata": {},
   "source": [
    "# Experimentation"
   ]
  },
  {
   "cell_type": "markdown",
   "metadata": {},
   "source": [
    "# Only one function available Prompt 4"
   ]
  },
  {
   "cell_type": "code",
   "execution_count": null,
   "metadata": {},
   "outputs": [],
   "source": [
    "hard_questions_df=pd.read_csv(\"data/Geodata/Hard_questions.csv\")\n",
    "hard_questions_df"
   ]
  },
  {
   "cell_type": "code",
   "execution_count": null,
   "metadata": {},
   "outputs": [],
   "source": [
    "available_functions={k:v for k,v in all_available_functions.items() if  v.__name__==\"searchdetails\"}\n",
    "available_functions"
   ]
  },
  {
   "cell_type": "code",
   "execution_count": null,
   "metadata": {},
   "outputs": [],
   "source": [
    "results=[]"
   ]
  },
  {
   "cell_type": "code",
   "execution_count": null,
   "metadata": {},
   "outputs": [],
   "source": [
    "for question in tqdm(hard_questions_df[11:12][\"Question\"]): \n",
    "    prompt=copy.deepcopy(prompt4)\n",
    "    results.append(langchainhelpers.run_llm_chain_more_than_once(prompt,available_functions,question,1000,1,10))\n",
    "    helpers.upload_file(\"data/GeoData/intermediate_results.pkl\",results)"
   ]
  },
  {
   "cell_type": "code",
   "execution_count": null,
   "metadata": {},
   "outputs": [],
   "source": [
    "helpers.upload_file(\"data/Geodata/hard_questions_with_one_function_available_prompt_4.pkl\",results)"
   ]
  },
  {
   "cell_type": "code",
   "execution_count": null,
   "metadata": {},
   "outputs": [],
   "source": [
    "results=helpers.download_file(\"data/Geodata/hard_questions_with_one_function_available_prompt_4.pkl\")"
   ]
  },
  {
   "cell_type": "code",
   "execution_count": null,
   "metadata": {},
   "outputs": [],
   "source": [
    "\n",
    "results=pd.DataFrame(results)\n",
    "results=pd.merge(right=results,left=hard_questions_df)\n",
    "results"
   ]
  },
  {
   "cell_type": "markdown",
   "metadata": {},
   "source": [
    "# 6 subfunctions available Prompt 2 "
   ]
  },
  {
   "cell_type": "code",
   "execution_count": null,
   "metadata": {},
   "outputs": [],
   "source": [
    "hard_questions_df=pd.read_csv(\"data/Geodata/Hard_questions.csv\")\n",
    "hard_questions_df"
   ]
  },
  {
   "cell_type": "code",
   "execution_count": null,
   "metadata": {},
   "outputs": [],
   "source": [
    "available_functions={k:v for k,v in all_available_functions.items() if  v.__name__!=\"searchdetails\"}\n",
    "available_functions"
   ]
  },
  {
   "cell_type": "code",
   "execution_count": null,
   "metadata": {},
   "outputs": [],
   "source": [
    "results=[]"
   ]
  },
  {
   "cell_type": "code",
   "execution_count": null,
   "metadata": {},
   "outputs": [],
   "source": [
    "for question in tqdm(hard_questions_df[11:12][\"Question\"]): \n",
    "    prompt=copy.deepcopy(prompt4)\n",
    "    results.append(langchainhelpers.run_llm_chain_more_than_once(prompt,available_functions,question,1000,1,10))\n",
    "    helpers.upload_file(\"data/GeoData/intermediate_results.pkl\",results)"
   ]
  },
  {
   "cell_type": "code",
   "execution_count": null,
   "metadata": {},
   "outputs": [],
   "source": [
    "helpers.upload_file(\"data/Geodata/hard_questions_with_6_subfunctions_available_prompt_4.pkl\",results)"
   ]
  },
  {
   "cell_type": "code",
   "execution_count": null,
   "metadata": {},
   "outputs": [],
   "source": [
    "results=helpers.download_file(\"data/Geodata/hard_questions_with_6_subfunctions_available_prompt_4.pkl\")"
   ]
  },
  {
   "cell_type": "code",
   "execution_count": null,
   "metadata": {},
   "outputs": [],
   "source": [
    "\n",
    "results=pd.DataFrame(results)\n",
    "results=pd.merge(right=results,left=hard_questions_df)\n",
    "results"
   ]
  },
  {
   "cell_type": "code",
   "execution_count": null,
   "metadata": {},
   "outputs": [],
   "source": []
  }
 ],
 "metadata": {
  "kernelspec": {
   "display_name": "base",
   "language": "python",
   "name": "python3"
  },
  "language_info": {
   "codemirror_mode": {
    "name": "ipython",
    "version": 3
   },
   "file_extension": ".py",
   "mimetype": "text/x-python",
   "name": "python",
   "nbconvert_exporter": "python",
   "pygments_lexer": "ipython3",
   "version": "3.8.8"
  },
  "orig_nbformat": 4
 },
 "nbformat": 4,
 "nbformat_minor": 2
}
