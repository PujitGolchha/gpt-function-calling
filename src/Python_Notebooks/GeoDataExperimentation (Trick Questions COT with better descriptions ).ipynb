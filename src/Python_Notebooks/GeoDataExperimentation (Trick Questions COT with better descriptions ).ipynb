{
 "cells": [
  {
   "cell_type": "code",
   "execution_count": null,
   "metadata": {},
   "outputs": [],
   "source": [
    "import helpers\n",
    "import pandas as pd\n",
    "import time\n",
    "import copy\n",
    "from helpers import geodatarefined,langchainhelpers\n",
    "from tqdm import tqdm\n",
    "from langchain.prompts import ChatPromptTemplate\n",
    "pd.set_option(\"display.max_colwidth\",1000)"
   ]
  },
  {
   "cell_type": "code",
   "execution_count": null,
   "metadata": {},
   "outputs": [],
   "source": [
    "output_parser=langchainhelpers.customOutputFunctionsParser()"
   ]
  },
  {
   "cell_type": "code",
   "execution_count": null,
   "metadata": {},
   "outputs": [],
   "source": [
    "#load functions \n",
    "all_available_functions = {\"searchdetails\":geodatarefined.searchdetails,\n",
    "             \"get_city_details\":geodatarefined.get_city_details,\n",
    "             \"get_country_details\":geodatarefined.get_country_details,\n",
    "             \"get_state_details\":geodatarefined.get_state_details,\n",
    "             \"get_airport_details\":geodatarefined.get_airport_details,\n",
    "             \"get_university_details\":geodatarefined.get_university_details,\n",
    "             \"get_attraction_details\":geodatarefined.get_attraction_details}\n"
   ]
  },
  {
   "cell_type": "code",
   "execution_count": null,
   "metadata": {},
   "outputs": [],
   "source": [
    "prompt4 = ChatPromptTemplate.from_messages(\n",
    "        [\n",
    "            (\"system\", \"You are a geography enthusiast and know a lot about this field.\"),\n",
    "            (\"human\", \"You also have access to a Geographical database, so make calls to the relevant functions if and only if necessary. Remember it costs to call the database and the service isn't cheap.\"),\n",
    "            (\"human\", \"Here are some examples to help you out.\"),\n",
    "            (\"human\", \"Example 1: Question: Vancouver is named after George Vancouver, a weathered Royal Navigator of the seas. Similarly, Vasco da Gama in Goa is a city that gets its name from the Portuguese explorer of the same name. What is the population of the city? \\\n",
    "            Step 1: Decide which entity to query about first: Here it is a city.\\\n",
    "            Step 2: As we have access to a function that returns details about a city, I would call the function asking for details of city Vasco Da Gama. I would also fill all the other possible parameters as that would give me the most accurate answer. Here it would be the state name as Goa.\\\n",
    "            Step 3: After receiving the results from the function I would look for the population of the city.  In this case it would be 100000\"),\n",
    "            (\"human\", \"Example 2: Question: What is the name of the state in Australia whose geo coordinates are -41, 145?\\\n",
    "            Step 1: Decide which entity to query about first: Here it is an country because we only have the proper name of the country.\\\n",
    "            Step 2: As we have access to a function that returns details about a country, I would call the function asking for details of the country Australia. I would also fill all the other possible parameters as that would give me the most accurate answer. Here there are no more details to be filled.\\\n",
    "            Step 3: After receiving the results I would go through the list of States in Australia and look for the state with the geo coordinates -41, 145. In this case it would be Tasmania.\"),\n",
    "            (\"human\", \"Example 3: Question: The Indian Institute of Technology is located in multiple cities like - Mumbai, Chennai, Delhi, Dhanbad, Palakkad. In the second city starting with letter D of the list, what is the code of the state in which the university is located?\\\n",
    "            Step 1: Decide which entity to query about: Here it is an university.\\\n",
    "            Step 2: As we have access to a function that returns details about an university, I would call the function asking for details of university Indian Institute of Technology. I would also fill all the other possible parameters as that would give me the most accurate answer. Here it would be the city name as Dhanbad because it is the second city starting with letter D of the list. \\\n",
    "            Step 3: After receiving the results from the function I would look for the state code. In this case it would be JK.\"),\n",
    "            (\"human\", \"{input}\")\n",
    "        ]\n",
    "    )"
   ]
  },
  {
   "cell_type": "code",
   "execution_count": null,
   "metadata": {},
   "outputs": [],
   "source": [
    "results=helpers.download_file(\"data/Geodata/intermediate_results.pkl\")"
   ]
  },
  {
   "cell_type": "markdown",
   "metadata": {},
   "source": [
    "# Experimentation"
   ]
  },
  {
   "cell_type": "markdown",
   "metadata": {},
   "source": [
    "# Only one function available Prompt 4"
   ]
  },
  {
   "cell_type": "code",
   "execution_count": null,
   "metadata": {},
   "outputs": [],
   "source": [
    "tricky_questions_df=pd.read_csv(\"data/Geodata/Tricky_questions.csv\")\n",
    "tricky_questions_df"
   ]
  },
  {
   "cell_type": "code",
   "execution_count": null,
   "metadata": {},
   "outputs": [],
   "source": [
    "available_functions={k:v for k,v in all_available_functions.items() if  v.__name__==\"searchdetails\"}\n",
    "available_functions"
   ]
  },
  {
   "cell_type": "code",
   "execution_count": null,
   "metadata": {},
   "outputs": [],
   "source": [
    "results=[]"
   ]
  },
  {
   "cell_type": "code",
   "execution_count": null,
   "metadata": {},
   "outputs": [],
   "source": [
    "for question in tqdm(tricky_questions_df[\"Question\"]): \n",
    "    prompt=copy.deepcopy(prompt4)\n",
    "    results.append(langchainhelpers.run_llm_chain_once(prompt,available_functions,question))\n",
    "    helpers.upload_file(\"data/GeoData/intermediate_results.pkl\",results)"
   ]
  },
  {
   "cell_type": "code",
   "execution_count": null,
   "metadata": {},
   "outputs": [],
   "source": [
    "results"
   ]
  },
  {
   "cell_type": "code",
   "execution_count": null,
   "metadata": {},
   "outputs": [],
   "source": [
    "helpers.upload_file(\"data/Geodata/tricky_questions_with_one_function_available_prompt_4_with_better_descriptions.pkl\",results)"
   ]
  },
  {
   "cell_type": "code",
   "execution_count": null,
   "metadata": {},
   "outputs": [],
   "source": [
    "results=helpers.download_file(\"data/Geodata/tricky_questions_with_one_function_available_prompt_4_with_better_descriptions.pkl\")\n",
    "results=pd.DataFrame(results)\n",
    "results=pd.merge(left=results,right=tricky_questions_df)\n",
    "results"
   ]
  },
  {
   "cell_type": "markdown",
   "metadata": {},
   "source": [
    "# 6 subfunctions available Prompt 4"
   ]
  },
  {
   "cell_type": "code",
   "execution_count": null,
   "metadata": {},
   "outputs": [],
   "source": [
    "tricky_questions_df=pd.read_csv(\"data/Geodata/Tricky_questions.csv\")\n",
    "tricky_questions_df"
   ]
  },
  {
   "cell_type": "code",
   "execution_count": null,
   "metadata": {},
   "outputs": [],
   "source": [
    "available_functions={k:v for k,v in all_available_functions.items() if  v.__name__!=\"searchdetails\"}\n",
    "available_functions"
   ]
  },
  {
   "cell_type": "code",
   "execution_count": null,
   "metadata": {},
   "outputs": [],
   "source": [
    "results=[]"
   ]
  },
  {
   "cell_type": "code",
   "execution_count": null,
   "metadata": {},
   "outputs": [],
   "source": [
    "for question in tqdm(tricky_questions_df[\"Question\"]): \n",
    "    prompt=copy.deepcopy(prompt4)\n",
    "    results.append(langchainhelpers.run_llm_chain_once(prompt,available_functions,question))\n",
    "    helpers.upload_file(\"data/GeoData/intermediate_results.pkl\",results)"
   ]
  },
  {
   "cell_type": "code",
   "execution_count": null,
   "metadata": {},
   "outputs": [],
   "source": [
    "results"
   ]
  },
  {
   "cell_type": "code",
   "execution_count": null,
   "metadata": {},
   "outputs": [],
   "source": [
    "helpers.upload_file(\"data/Geodata/tricky_questions_with_6_subfunctions_available_prompt_4_with_better_descriptions.pkl\",results)"
   ]
  },
  {
   "cell_type": "code",
   "execution_count": null,
   "metadata": {},
   "outputs": [],
   "source": [
    "results=helpers.download_file(\"data/Geodata/tricky_questions_with_6_subfunctions_available_prompt_4_with_better_descriptions.pkl\")\n",
    "results=pd.DataFrame(results)\n",
    "results=pd.merge(left=results,right=tricky_questions_df)\n",
    "\n",
    "results"
   ]
  },
  {
   "cell_type": "code",
   "execution_count": null,
   "metadata": {},
   "outputs": [],
   "source": []
  }
 ],
 "metadata": {
  "kernelspec": {
   "display_name": "base",
   "language": "python",
   "name": "python3"
  },
  "language_info": {
   "codemirror_mode": {
    "name": "ipython",
    "version": 3
   },
   "file_extension": ".py",
   "mimetype": "text/x-python",
   "name": "python",
   "nbconvert_exporter": "python",
   "pygments_lexer": "ipython3",
   "version": "3.8.8"
  },
  "orig_nbformat": 4
 },
 "nbformat": 4,
 "nbformat_minor": 2
}
