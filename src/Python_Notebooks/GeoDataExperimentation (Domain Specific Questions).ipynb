{
 "cells": [
  {
   "cell_type": "code",
   "execution_count": null,
   "metadata": {},
   "outputs": [],
   "source": [
    "import helpers\n",
    "import pandas as pd\n",
    "import time\n",
    "import copy\n",
    "from helpers import geodatarefined,langchainhelpers\n",
    "from tqdm import tqdm\n",
    "from langchain.prompts import ChatPromptTemplate\n",
    "pd.set_option(\"display.max_colwidth\",1000)"
   ]
  },
  {
   "cell_type": "code",
   "execution_count": null,
   "metadata": {},
   "outputs": [],
   "source": [
    "output_parser=langchainhelpers.customOutputFunctionsParser()"
   ]
  },
  {
   "cell_type": "code",
   "execution_count": null,
   "metadata": {},
   "outputs": [],
   "source": [
    "#load functions \n",
    "all_available_functions = {\"searchdetails\":geodatarefined.searchdetails,\n",
    "             \"get_city_details\":geodatarefined.get_city_details,\n",
    "             \"get_country_details\":geodatarefined.get_country_details,\n",
    "             \"get_state_details\":geodatarefined.get_state_details,\n",
    "             \"get_airport_details\":geodatarefined.get_airport_details,\n",
    "             \"get_university_details\":geodatarefined.get_university_details,\n",
    "             \"get_attraction_details\":geodatarefined.get_attraction_details,\n",
    "             \"search_open_street_maps\":geodatarefined.search_open_street_maps,\n",
    "             \"calculate_distance\":geodatarefined.calculate_distance}\n"
   ]
  },
  {
   "cell_type": "code",
   "execution_count": null,
   "metadata": {},
   "outputs": [],
   "source": [
    "prompt2 = ChatPromptTemplate.from_messages(\n",
    "        [\n",
    "            (\"system\", \"You are a geography enthusiast and know a lot about this field.\"),\n",
    "            (\"human\", \"You also have access to a Geographical database, so make calls to the relevant functions if and only if necessary. Remember it costs to call the database and the service isn't cheap.\"),\n",
    "            (\"human\", \"{input}\")\n",
    "        ]\n",
    "    )"
   ]
  },
  {
   "cell_type": "code",
   "execution_count": null,
   "metadata": {},
   "outputs": [],
   "source": [
    "results=helpers.download_file(\"data/Geodata/intermediate_results.pkl\")"
   ]
  },
  {
   "cell_type": "markdown",
   "metadata": {},
   "source": [
    "# Experimentation"
   ]
  },
  {
   "cell_type": "markdown",
   "metadata": {},
   "source": [
    "# 8 subfunctions available Prompt 2 "
   ]
  },
  {
   "cell_type": "code",
   "execution_count": null,
   "metadata": {},
   "outputs": [],
   "source": [
    "domain_specific_questions_df=pd.read_csv(\"data/Geodata/Domain_specific_questions.csv\")\n",
    "domain_specific_questions_df"
   ]
  },
  {
   "cell_type": "code",
   "execution_count": null,
   "metadata": {},
   "outputs": [],
   "source": [
    "available_functions={k:v for k,v in all_available_functions.items() if  v.__name__!=\"searchdetails\"}\n",
    "available_functions"
   ]
  },
  {
   "cell_type": "code",
   "execution_count": null,
   "metadata": {},
   "outputs": [],
   "source": [
    "results=[]"
   ]
  },
  {
   "cell_type": "code",
   "execution_count": null,
   "metadata": {},
   "outputs": [],
   "source": [
    "for question in tqdm(domain_specific_questions_df[\"Question\"]): \n",
    "    prompt=copy.deepcopy(prompt2)\n",
    "    results.append(langchainhelpers.run_llm_chain_once(prompt,available_functions,question))\n",
    "    helpers.upload_file(\"data/GeoData/intermediate_results.pkl\",results)"
   ]
  },
  {
   "cell_type": "code",
   "execution_count": null,
   "metadata": {},
   "outputs": [],
   "source": [
    "results"
   ]
  },
  {
   "cell_type": "code",
   "execution_count": null,
   "metadata": {},
   "outputs": [],
   "source": [
    "helpers.upload_file(\"data/Geodata/domain_specific_questions_with_8_subfunctions_available_prompt_2_with_better_descriptions.pkl\",results)"
   ]
  },
  {
   "cell_type": "code",
   "execution_count": null,
   "metadata": {},
   "outputs": [],
   "source": [
    "results=helpers.download_file(\"data/Geodata/domain_specific_questions_with_8_subfunctions_available_prompt_2_with_better_descriptions.pkl\")\n",
    "results=pd.DataFrame(results)\n",
    "results=pd.merge(left=results,right=domain_specific_questions_df)\n",
    "results"
   ]
  },
  {
   "cell_type": "code",
   "execution_count": null,
   "metadata": {},
   "outputs": [],
   "source": []
  },
  {
   "cell_type": "markdown",
   "metadata": {},
   "source": [
    "# 2 subfunctions available Prompt 2 "
   ]
  },
  {
   "cell_type": "code",
   "execution_count": null,
   "metadata": {},
   "outputs": [],
   "source": [
    "domain_specific_questions_df=pd.read_csv(\"data/Geodata/Domain_specific_questions.csv\")\n",
    "domain_specific_questions_df"
   ]
  },
  {
   "cell_type": "code",
   "execution_count": null,
   "metadata": {},
   "outputs": [],
   "source": [
    "available_functions={k:v for k,v in all_available_functions.items() if  v.__name__==\"search_Open_Street_Maps\" or v.__name__==\"calculate_distance\"}\n",
    "available_functions"
   ]
  },
  {
   "cell_type": "code",
   "execution_count": null,
   "metadata": {},
   "outputs": [],
   "source": [
    "results=[]"
   ]
  },
  {
   "cell_type": "code",
   "execution_count": null,
   "metadata": {},
   "outputs": [],
   "source": [
    "for question in tqdm(domain_specific_questions_df[\"Question\"]): \n",
    "    prompt=copy.deepcopy(prompt2)\n",
    "    results.append(langchainhelpers.run_llm_chain_once(prompt,available_functions,question))\n",
    "    helpers.upload_file(\"data/GeoData/intermediate_results.pkl\",results)"
   ]
  },
  {
   "cell_type": "code",
   "execution_count": null,
   "metadata": {},
   "outputs": [],
   "source": [
    "helpers.upload_file(\"data/Geodata/domain_specific_questions_with_2_subfunctions_available_prompt_2_with_better_descriptions.pkl\",results)"
   ]
  },
  {
   "cell_type": "code",
   "execution_count": null,
   "metadata": {},
   "outputs": [],
   "source": [
    "results=helpers.download_file(\"data/Geodata/domain_specific_questions_with_2_subfunctions_available_prompt_2_with_better_descriptions.pkl\")\n",
    "results=pd.DataFrame(results)\n",
    "results=pd.merge(left=results,right=domain_specific_questions_df)\n",
    "results"
   ]
  },
  {
   "cell_type": "markdown",
   "metadata": {},
   "source": [
    "# 8 subfunctions available Prompt 2 (Multiple Calls)"
   ]
  },
  {
   "cell_type": "code",
   "execution_count": null,
   "metadata": {},
   "outputs": [],
   "source": [
    "domain_specific_questions_df=pd.read_csv(\"data/Geodata/Domain_specific_questions.csv\")\n",
    "domain_specific_questions_df"
   ]
  },
  {
   "cell_type": "code",
   "execution_count": null,
   "metadata": {},
   "outputs": [],
   "source": [
    "available_functions={k:v for k,v in all_available_functions.items() if  v.__name__!=\"searchdetails\"}\n",
    "available_functions"
   ]
  },
  {
   "cell_type": "code",
   "execution_count": null,
   "metadata": {},
   "outputs": [],
   "source": [
    "results=[]"
   ]
  },
  {
   "cell_type": "code",
   "execution_count": null,
   "metadata": {},
   "outputs": [],
   "source": [
    "for question in tqdm(domain_specific_questions_df[\"Question\"]): \n",
    "    prompt=copy.deepcopy(prompt2)\n",
    "    results.append(langchainhelpers.run_llm_chain_more_than_once(prompt,available_functions,question,1000,1,10))\n",
    "    helpers.upload_file(\"data/GeoData/intermediate_results.pkl\",results)"
   ]
  },
  {
   "cell_type": "code",
   "execution_count": null,
   "metadata": {},
   "outputs": [],
   "source": [
    "results"
   ]
  },
  {
   "cell_type": "code",
   "execution_count": null,
   "metadata": {},
   "outputs": [],
   "source": [
    "helpers.upload_file(\"data/Geodata/domain_specific_questions_with_8_subfunctions_available_prompt_2_with_better_descriptions_multiple_calls.pkl\",results)"
   ]
  },
  {
   "cell_type": "code",
   "execution_count": null,
   "metadata": {},
   "outputs": [],
   "source": [
    "results=helpers.download_file(\"data/Geodata/domain_specific_questions_with_8_subfunctions_available_prompt_2_with_better_descriptions_multiple_calls.pkl\")\n",
    "results=pd.DataFrame(results)\n",
    "results=pd.merge(left=results,right=domain_specific_questions_df)\n",
    "results"
   ]
  },
  {
   "cell_type": "markdown",
   "metadata": {},
   "source": [
    "# 2 subfunctions available Prompt 2 (Multiple Calls)"
   ]
  },
  {
   "cell_type": "code",
   "execution_count": null,
   "metadata": {},
   "outputs": [],
   "source": [
    "domain_specific_questions_df=pd.read_csv(\"data/Geodata/Domain_specific_questions.csv\")\n",
    "domain_specific_questions_df"
   ]
  },
  {
   "cell_type": "code",
   "execution_count": null,
   "metadata": {},
   "outputs": [],
   "source": [
    "available_functions={k:v for k,v in all_available_functions.items() if  v.__name__==\"search_Open_Street_Maps\" or v.__name__==\"calculate_distance\"}\n",
    "available_functions"
   ]
  },
  {
   "cell_type": "code",
   "execution_count": null,
   "metadata": {},
   "outputs": [],
   "source": [
    "results=[]"
   ]
  },
  {
   "cell_type": "code",
   "execution_count": null,
   "metadata": {},
   "outputs": [],
   "source": [
    "for question in tqdm(domain_specific_questions_df[\"Question\"]): \n",
    "    prompt=copy.deepcopy(prompt2)\n",
    "    results.append(langchainhelpers.run_llm_chain_more_than_once(prompt,available_functions,question,1000,1,10))\n",
    "    helpers.upload_file(\"data/GeoData/intermediate_results.pkl\",results)"
   ]
  },
  {
   "cell_type": "code",
   "execution_count": null,
   "metadata": {},
   "outputs": [],
   "source": [
    "results"
   ]
  },
  {
   "cell_type": "code",
   "execution_count": null,
   "metadata": {},
   "outputs": [],
   "source": [
    "helpers.upload_file(\"data/Geodata/domain_specific_questions_with_2_subfunctions_available_prompt_2_with_better_descriptions_multiple_calls.pkl\",results)"
   ]
  },
  {
   "cell_type": "code",
   "execution_count": null,
   "metadata": {},
   "outputs": [],
   "source": [
    "results=helpers.download_file(\"data/Geodata/domain_specific_questions_with_2_subfunctions_available_prompt_2_with_better_descriptions_multiple_calls.pkl\")\n",
    "results=pd.DataFrame(results)\n",
    "results=pd.merge(left=results,right=domain_specific_questions_df)\n",
    "results"
   ]
  },
  {
   "cell_type": "code",
   "execution_count": null,
   "metadata": {},
   "outputs": [],
   "source": [
    "def create_ground_truth_function_call(steps):\n",
    "    ground_truth_function_call=\"\"\n",
    "    for step in steps:\n",
    "        ground_truth_function_call= ground_truth_function_call + step[\"Function_name\"]+ \\\n",
    "            str(step[\"Function_arguments\"]).replace(\"{\",\"(\")\\\n",
    "            .replace(\"}\",\")\").replace(\":\",\"=\")+\", \"\n",
    "    return ground_truth_function_call\n",
    "\n",
    "results[\"Correct Function Call\"]=results[\"steps\"].apply(lambda x: create_ground_truth_function_call(x) )\n",
    "results[[\"Question\",\"Correct Answer\",\"Correct Function Call\"]]"
   ]
  },
  {
   "cell_type": "code",
   "execution_count": null,
   "metadata": {},
   "outputs": [],
   "source": []
  }
 ],
 "metadata": {
  "kernelspec": {
   "display_name": "base",
   "language": "python",
   "name": "python3"
  },
  "language_info": {
   "codemirror_mode": {
    "name": "ipython",
    "version": 3
   },
   "file_extension": ".py",
   "mimetype": "text/x-python",
   "name": "python",
   "nbconvert_exporter": "python",
   "pygments_lexer": "ipython3",
   "version": "3.8.8"
  },
  "orig_nbformat": 4
 },
 "nbformat": 4,
 "nbformat_minor": 2
}
