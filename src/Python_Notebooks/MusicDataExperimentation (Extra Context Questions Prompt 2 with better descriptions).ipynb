{
 "cells": [
  {
   "cell_type": "code",
   "execution_count": 2,
   "metadata": {},
   "outputs": [],
   "source": [
    "from dotenv import dotenv_values\n",
    "import helpers\n",
    "import pandas as pd\n",
    "import time\n",
    "import copy\n",
    "from helpers import musicbrainzrefined,langchainhelpers\n",
    "from tqdm import tqdm\n",
    "from langchain.prompts import ChatPromptTemplate\n",
    "pd.set_option(\"display.max_colwidth\",1000)"
   ]
  },
  {
   "cell_type": "code",
   "execution_count": 2,
   "metadata": {},
   "outputs": [],
   "source": [
    "#load functions of music brainz\n",
    "all_available_functions = {\"searchdetailsrefinedfrommusicbrainz\":musicbrainzrefined.searchdetailsfrommusicbrainz,\n",
    "             \"getalbumdetailsfrommusicbrainz\":musicbrainzrefined.getalbumdetailsfrommusicbrainz,\n",
    "             \"getartistdetailsfrommusicbrainz\":musicbrainzrefined.getartistdetailsfrommusicbrainz,\n",
    "             \"gettrackdetailsrefinedfrommusicbrainz\":musicbrainzrefined.gettrackdetailsfrommusicbrainz}"
   ]
  },
  {
   "cell_type": "code",
   "execution_count": 3,
   "metadata": {},
   "outputs": [],
   "source": [
    "prompt2 = ChatPromptTemplate.from_messages(\n",
    "        [\n",
    "            (\"system\", \"You are an Music Aficionado and know a lot about this field.\"),\n",
    "            (\"human\", \"You also have access to a music database, so make calls to the relevant functions if and only if necessary. Remember it costs to call the database and the service isn't cheap.\"),\n",
    "            (\"human\", \"{input}\")\n",
    "        ]\n",
    "    )"
   ]
  },
  {
   "cell_type": "markdown",
   "metadata": {},
   "source": [
    "# Experimentation"
   ]
  },
  {
   "cell_type": "markdown",
   "metadata": {},
   "source": [
    "# one function available"
   ]
  },
  {
   "cell_type": "code",
   "execution_count": 3,
   "metadata": {},
   "outputs": [
    {
     "data": {
      "text/html": [
       "<div>\n",
       "<style scoped>\n",
       "    .dataframe tbody tr th:only-of-type {\n",
       "        vertical-align: middle;\n",
       "    }\n",
       "\n",
       "    .dataframe tbody tr th {\n",
       "        vertical-align: top;\n",
       "    }\n",
       "\n",
       "    .dataframe thead th {\n",
       "        text-align: right;\n",
       "    }\n",
       "</style>\n",
       "<table border=\"1\" class=\"dataframe\">\n",
       "  <thead>\n",
       "    <tr style=\"text-align: right;\">\n",
       "      <th></th>\n",
       "      <th>Question</th>\n",
       "      <th>Correct Answer</th>\n",
       "    </tr>\n",
       "  </thead>\n",
       "  <tbody>\n",
       "    <tr>\n",
       "      <th>0</th>\n",
       "      <td>In the year 2010 like every other year loads of music albums were released by multiple artists. Evacuate Chicago released Veracity, Living Sacrifice released The Infinite Order, DJ Khaled released Victory, Jazmine Sullivan released Love Me Back and Kesha released Cannibal. Similarly in 2011 Cake released Showroom of Compassion, Covenant released Modern Ruin, Pearl Jam released Live on Ten Legs and White Lies released Ritual. Veracity's main genre is Metalcore and so is The Infinite Order's main genre. In which year was the former released?</td>\n",
       "      <td>2010</td>\n",
       "    </tr>\n",
       "    <tr>\n",
       "      <th>1</th>\n",
       "      <td>Genesis are an English rock band formed at Charterhouse School, Godalming, Surrey, in 1967.  In the 1970s, during which the band also included singer Peter Gabriel and guitarist Steve Hackett, Genesis were among the pioneers of progressive rock. The band's longest-existing and most commercially successful line-up consisted of keyboardist Tony Banks, bassist/guitarist Mike Rutherford and drummer/singer Phil Collins. Before Phil Collins, who was the lead singer of Genesis?</td>\n",
       "      <td>Peter Gabriel</td>\n",
       "    </tr>\n",
       "    <tr>\n",
       "      <th>2</th>\n",
       "      <td>Ultraviolence is the third studio album by American singer-songwriter Lana Del Rey, released on June 13, 2014, by Polydor and Interscope Records. To promote the album, five singles West Coast, Shades of Cool, Ultraviolence, Black Beauty and Brooklyn Baby. Out of these 5, one song  is explicit and the other 4 are not. The 5th song in the list is explicit. What is its name?</td>\n",
       "      <td>Brooklyn Baby</td>\n",
       "    </tr>\n",
       "    <tr>\n",
       "      <th>3</th>\n",
       "      <td>Shafqat Amanat Ali Khan pronounced is a Pakistani pop and classical singer, songwriter, and composer belonging to the Patiala Gharana tradition of music. Ali was introduced to the Indian film industry by singer and music composer Shankar Mahadevan and eventually went on to sing the massively popular Sufi rock ballad Mitwa for the film Kabhi Alvida Naa Kehna. Along with this genre, he is also famous for his Hindustani classical semi-classical songs. Is the artist who sang the 3rd song Tere Naina in My Name Is Khan famous for his Sufi music? For reference it is Ali who sang this particular song.</td>\n",
       "      <td>True</td>\n",
       "    </tr>\n",
       "    <tr>\n",
       "      <th>4</th>\n",
       "      <td>Sonu Nigam and Shreya Ghoshal sang mutilple duets together which inlude Main Hoon Na, Zoobi Doobi, Main Agar Kahoon, Piyu Bole, Shukran Allah. Zoobi Doobi is from 3 Idiots and Main Agar Kahoon is from Om Shanti Om. Can you name a common artist in these two albums?</td>\n",
       "      <td>Sonu Nigam/Shreya Ghoshal</td>\n",
       "    </tr>\n",
       "    <tr>\n",
       "      <th>5</th>\n",
       "      <td>An Indian rock band formed in Chandigarh in 2008 and based in New Delhi since 2015, started their career by releasing a stream of singles. The band's debut album Aalas Ka Pedh has been among the top 5 most-streamed rock music albums on Apple Music India. Could you name the band?</td>\n",
       "      <td>The Local Train</td>\n",
       "    </tr>\n",
       "    <tr>\n",
       "      <th>6</th>\n",
       "      <td>The album Dazed and Confused was released by an English rock band, formed in London in 1963. The band started the careers of three of rock's most famous guitarists: Eric Clapton , Jeff Beck  and Jimmy Page , all of whom ranked in the top five of Rolling Stone magazine's list of 100 greatest guitarists. What is the name of the band?</td>\n",
       "      <td>The Yardbirds</td>\n",
       "    </tr>\n",
       "    <tr>\n",
       "      <th>7</th>\n",
       "      <td>Chale Chalo is part of the hindi movie Lagaan which stars Aamir Khan and has the most number of British actors playing a significant role in the entire history of Bollywood cinema. Who is the artist of this song?</td>\n",
       "      <td>A. R. Rahman</td>\n",
       "    </tr>\n",
       "    <tr>\n",
       "      <th>8</th>\n",
       "      <td>Ed Sheeran released a song named Lego House whose official video stars Rupert Grint, also known as Ron Weasley from Harry Potter. Thinking Out Loud is another hit of his which has become an all time favourite. Could you tell me what is the duration of the latter?</td>\n",
       "      <td>281560/252520</td>\n",
       "    </tr>\n",
       "    <tr>\n",
       "      <th>9</th>\n",
       "      <td>Keith Urban is an Australian and American singer, guitarist, and songwriter known for his work in country music. Urban has released 11 studio albums, as well as one album with the Ranch.In 2018 he released Graffiti U. How many tracks does it have?</td>\n",
       "      <td>15</td>\n",
       "    </tr>\n",
       "  </tbody>\n",
       "</table>\n",
       "</div>"
      ],
      "text/plain": [
       "                                                                                                                                                                                                                                                                                                                                                                                                                                                                                                                                                                                                                   Question  \\\n",
       "0                                                         In the year 2010 like every other year loads of music albums were released by multiple artists. Evacuate Chicago released Veracity, Living Sacrifice released The Infinite Order, DJ Khaled released Victory, Jazmine Sullivan released Love Me Back and Kesha released Cannibal. Similarly in 2011 Cake released Showroom of Compassion, Covenant released Modern Ruin, Pearl Jam released Live on Ten Legs and White Lies released Ritual. Veracity's main genre is Metalcore and so is The Infinite Order's main genre. In which year was the former released?   \n",
       "1                                                                                                                               Genesis are an English rock band formed at Charterhouse School, Godalming, Surrey, in 1967.  In the 1970s, during which the band also included singer Peter Gabriel and guitarist Steve Hackett, Genesis were among the pioneers of progressive rock. The band's longest-existing and most commercially successful line-up consisted of keyboardist Tony Banks, bassist/guitarist Mike Rutherford and drummer/singer Phil Collins. Before Phil Collins, who was the lead singer of Genesis?   \n",
       "2                                                                                                                                                                                                                                    Ultraviolence is the third studio album by American singer-songwriter Lana Del Rey, released on June 13, 2014, by Polydor and Interscope Records. To promote the album, five singles West Coast, Shades of Cool, Ultraviolence, Black Beauty and Brooklyn Baby. Out of these 5, one song  is explicit and the other 4 are not. The 5th song in the list is explicit. What is its name?   \n",
       "3  Shafqat Amanat Ali Khan pronounced is a Pakistani pop and classical singer, songwriter, and composer belonging to the Patiala Gharana tradition of music. Ali was introduced to the Indian film industry by singer and music composer Shankar Mahadevan and eventually went on to sing the massively popular Sufi rock ballad Mitwa for the film Kabhi Alvida Naa Kehna. Along with this genre, he is also famous for his Hindustani classical semi-classical songs. Is the artist who sang the 3rd song Tere Naina in My Name Is Khan famous for his Sufi music? For reference it is Ali who sang this particular song.   \n",
       "4                                                                                                                                                                                                                                                                                                                                                  Sonu Nigam and Shreya Ghoshal sang mutilple duets together which inlude Main Hoon Na, Zoobi Doobi, Main Agar Kahoon, Piyu Bole, Shukran Allah. Zoobi Doobi is from 3 Idiots and Main Agar Kahoon is from Om Shanti Om. Can you name a common artist in these two albums?   \n",
       "5                                                                                                                                                                                                                                                                                                                                   An Indian rock band formed in Chandigarh in 2008 and based in New Delhi since 2015, started their career by releasing a stream of singles. The band's debut album Aalas Ka Pedh has been among the top 5 most-streamed rock music albums on Apple Music India. Could you name the band?   \n",
       "6                                                                                                                                                                                                                                                                             The album Dazed and Confused was released by an English rock band, formed in London in 1963. The band started the careers of three of rock's most famous guitarists: Eric Clapton , Jeff Beck  and Jimmy Page , all of whom ranked in the top five of Rolling Stone magazine's list of 100 greatest guitarists. What is the name of the band?   \n",
       "7                                                                                                                                                                                                                                                                                                                                                                                                      Chale Chalo is part of the hindi movie Lagaan which stars Aamir Khan and has the most number of British actors playing a significant role in the entire history of Bollywood cinema. Who is the artist of this song?   \n",
       "8                                                                                                                                                                                                                                                                                                                                                   Ed Sheeran released a song named Lego House whose official video stars Rupert Grint, also known as Ron Weasley from Harry Potter. Thinking Out Loud is another hit of his which has become an all time favourite. Could you tell me what is the duration of the latter?   \n",
       "9                                                                                                                                                                                                                                                                                                                                                                   Keith Urban is an Australian and American singer, guitarist, and songwriter known for his work in country music. Urban has released 11 studio albums, as well as one album with the Ranch.In 2018 he released Graffiti U. How many tracks does it have?   \n",
       "\n",
       "              Correct Answer  \n",
       "0                       2010  \n",
       "1              Peter Gabriel  \n",
       "2              Brooklyn Baby  \n",
       "3                       True  \n",
       "4  Sonu Nigam/Shreya Ghoshal  \n",
       "5            The Local Train  \n",
       "6              The Yardbirds  \n",
       "7               A. R. Rahman  \n",
       "8              281560/252520  \n",
       "9                         15  "
      ]
     },
     "execution_count": 3,
     "metadata": {},
     "output_type": "execute_result"
    }
   ],
   "source": [
    "ec_questions_df=pd.read_csv(\"data/Musicdata/Extra_context_questions.csv\")\n",
    "ec_questions_df\n"
   ]
  },
  {
   "cell_type": "code",
   "execution_count": null,
   "metadata": {},
   "outputs": [],
   "source": [
    "available_functions={k:v for k,v in all_available_functions.items() if  v.__name__==\"searchdetailsrefinedfrommusicbrainz\"}\n",
    "available_functions"
   ]
  },
  {
   "cell_type": "code",
   "execution_count": null,
   "metadata": {},
   "outputs": [],
   "source": [
    "results=[]"
   ]
  },
  {
   "cell_type": "code",
   "execution_count": null,
   "metadata": {},
   "outputs": [],
   "source": [
    "for question in ec_questions_df[3:10][\"Question\"]:\n",
    "    prompt=copy.deepcopy(prompt2)\n",
    "    results.append(langchainhelpers.run_llm_chain_once(prompt,available_functions,question))\n",
    "    helpers.upload_file(\"data/Musicdata/intermediate_results.pkl\",results)"
   ]
  },
  {
   "cell_type": "code",
   "execution_count": 9,
   "metadata": {},
   "outputs": [],
   "source": [
    "helpers.upload_file(\"data/Musicdata/extra_context_questions_with_only_function_available_music_brainz_prompt_2_with_better_descriptions.pkl\",results)\n"
   ]
  },
  {
   "cell_type": "code",
   "execution_count": 10,
   "metadata": {},
   "outputs": [],
   "source": [
    "results=helpers.download_file(\"data/Musicdata/extra_context_questions_with_only_function_available_music_brainz_prompt_2_with_better_descriptions.pkl\")"
   ]
  },
  {
   "cell_type": "code",
   "execution_count": 11,
   "metadata": {},
   "outputs": [
    {
     "data": {
      "text/html": [
       "<div>\n",
       "<style scoped>\n",
       "    .dataframe tbody tr th:only-of-type {\n",
       "        vertical-align: middle;\n",
       "    }\n",
       "\n",
       "    .dataframe tbody tr th {\n",
       "        vertical-align: top;\n",
       "    }\n",
       "\n",
       "    .dataframe thead th {\n",
       "        text-align: right;\n",
       "    }\n",
       "</style>\n",
       "<table border=\"1\" class=\"dataframe\">\n",
       "  <thead>\n",
       "    <tr style=\"text-align: right;\">\n",
       "      <th></th>\n",
       "      <th>Question</th>\n",
       "      <th>Correct Answer</th>\n",
       "      <th>Function_name</th>\n",
       "      <th>Function_arguments</th>\n",
       "      <th>answer</th>\n",
       "    </tr>\n",
       "  </thead>\n",
       "  <tbody>\n",
       "    <tr>\n",
       "      <th>0</th>\n",
       "      <td>In the year 2010 like every other year loads of music albums were released by multiple artists. Evacuate Chicago released Veracity, Living Sacrifice released The Infinite Order, DJ Khaled released Victory, Jazmine Sullivan released Love Me Back and Kesha released Cannibal. Similarly in 2011 Cake released Showroom of Compassion, Covenant released Modern Ruin, Pearl Jam released Live on Ten Legs and White Lies released Ritual. Veracity's main genre is Metalcore and so is The Infinite Order's main genre. In which year was the former released?</td>\n",
       "      <td>2010</td>\n",
       "      <td></td>\n",
       "      <td></td>\n",
       "      <td>Veracity by Evacuate Chicago was released in the year 2010.</td>\n",
       "    </tr>\n",
       "    <tr>\n",
       "      <th>1</th>\n",
       "      <td>Genesis are an English rock band formed at Charterhouse School, Godalming, Surrey, in 1967.  In the 1970s, during which the band also included singer Peter Gabriel and guitarist Steve Hackett, Genesis were among the pioneers of progressive rock. The band's longest-existing and most commercially successful line-up consisted of keyboardist Tony Banks, bassist/guitarist Mike Rutherford and drummer/singer Phil Collins. Before Phil Collins, who was the lead singer of Genesis?</td>\n",
       "      <td>Peter Gabriel</td>\n",
       "      <td>searchdetailsrefinedfrommusicbrainz</td>\n",
       "      <td>{'query': 'Genesis', 'entity_type': 'artist'}</td>\n",
       "      <td>Before Phil Collins, the lead singer of Genesis was Peter Gabriel.</td>\n",
       "    </tr>\n",
       "    <tr>\n",
       "      <th>2</th>\n",
       "      <td>Ultraviolence is the third studio album by American singer-songwriter Lana Del Rey, released on June 13, 2014, by Polydor and Interscope Records. To promote the album, five singles West Coast, Shades of Cool, Ultraviolence, Black Beauty and Brooklyn Baby. Out of these 5, one song  is explicit and the other 4 are not. The 5th song in the list is explicit. What is its name?</td>\n",
       "      <td>Brooklyn Baby</td>\n",
       "      <td>searchdetailsrefinedfrommusicbrainz</td>\n",
       "      <td>{'query': 'Ultraviolence', 'entity_type': 'album'}</td>\n",
       "      <td>The explicit song on the album \"Ultraviolence\" by Lana Del Rey is called \"ULTRAVIOLENCE\". However, please note that this information is incorrect as the album \"Ultraviolence\" by Lana Del Rey does not have an explicit song.</td>\n",
       "    </tr>\n",
       "    <tr>\n",
       "      <th>3</th>\n",
       "      <td>Shafqat Amanat Ali Khan pronounced is a Pakistani pop and classical singer, songwriter, and composer belonging to the Patiala Gharana tradition of music. Ali was introduced to the Indian film industry by singer and music composer Shankar Mahadevan and eventually went on to sing the massively popular Sufi rock ballad Mitwa for the film Kabhi Alvida Naa Kehna. Along with this genre, he is also famous for his Hindustani classical semi-classical songs. Is the artist who sang the 3rd song Tere Naina in My Name Is Khan famous for his Sufi music? For reference it is Ali who sang this particular song.</td>\n",
       "      <td>True</td>\n",
       "      <td>searchdetailsrefinedfrommusicbrainz</td>\n",
       "      <td>{'query': 'Shafqat Amanat Ali Khan', 'entity_type': 'artist'}</td>\n",
       "      <td>Yes, Shafqat Amanat Ali Khan is famous for his Sufi music. He is known for his soulful renditions of Sufi rock and Sufi classical songs.</td>\n",
       "    </tr>\n",
       "    <tr>\n",
       "      <th>4</th>\n",
       "      <td>Sonu Nigam and Shreya Ghoshal sang mutilple duets together which inlude Main Hoon Na, Zoobi Doobi, Main Agar Kahoon, Piyu Bole, Shukran Allah. Zoobi Doobi is from 3 Idiots and Main Agar Kahoon is from Om Shanti Om. Can you name a common artist in these two albums?</td>\n",
       "      <td>Sonu Nigam/Shreya Ghoshal</td>\n",
       "      <td>searchdetailsrefinedfrommusicbrainz</td>\n",
       "      <td>{'query': '3 Idiots', 'entity_type': 'album'}</td>\n",
       "      <td>{'function_call': {'name': 'searchdetailsrefinedfrommusicbrainz', 'arguments': '{\\n  \"query\": \"Om Shanti Om\",\\n  \"entity_type\": \"album\"\\n}'}}</td>\n",
       "    </tr>\n",
       "    <tr>\n",
       "      <th>5</th>\n",
       "      <td>An Indian rock band formed in Chandigarh in 2008 and based in New Delhi since 2015, started their career by releasing a stream of singles. The band's debut album Aalas Ka Pedh has been among the top 5 most-streamed rock music albums on Apple Music India. Could you name the band?</td>\n",
       "      <td>The Local Train</td>\n",
       "      <td>searchdetailsrefinedfrommusicbrainz</td>\n",
       "      <td>{'query': 'Aalas Ka Pedh', 'entity_type': 'album'}</td>\n",
       "      <td>The band you are referring to is The Local Train. They released their debut album \"Aalas Ka Pedh\" on September 25, 2015. It has been one of the top 5 most-streamed rock music albums on Apple Music India.</td>\n",
       "    </tr>\n",
       "    <tr>\n",
       "      <th>6</th>\n",
       "      <td>The album Dazed and Confused was released by an English rock band, formed in London in 1963. The band started the careers of three of rock's most famous guitarists: Eric Clapton , Jeff Beck  and Jimmy Page , all of whom ranked in the top five of Rolling Stone magazine's list of 100 greatest guitarists. What is the name of the band?</td>\n",
       "      <td>The Yardbirds</td>\n",
       "      <td>searchdetailsrefinedfrommusicbrainz</td>\n",
       "      <td>{'album_name': 'Dazed and Confused', 'country': 'GB', 'entity_type': 'album'}</td>\n",
       "      <td>I apologize for the error. The band you are referring to is Led Zeppelin. They released the album \"Dazed and Confused\" in 1969. Led Zeppelin is known for their influential contributions to rock music and their iconic guitarists, including Jimmy Page.</td>\n",
       "    </tr>\n",
       "    <tr>\n",
       "      <th>7</th>\n",
       "      <td>Chale Chalo is part of the hindi movie Lagaan which stars Aamir Khan and has the most number of British actors playing a significant role in the entire history of Bollywood cinema. Who is the artist of this song?</td>\n",
       "      <td>A. R. Rahman</td>\n",
       "      <td>searchdetailsrefinedfrommusicbrainz</td>\n",
       "      <td>{'query': 'Chale Chalo', 'entity_type': 'track', 'album_name': 'Lagaan'}</td>\n",
       "      <td>The artist of the song \"Chale Chalo\" from the movie Lagaan is A. R. Rahman.</td>\n",
       "    </tr>\n",
       "    <tr>\n",
       "      <th>8</th>\n",
       "      <td>Ed Sheeran released a song named Lego House whose official video stars Rupert Grint, also known as Ron Weasley from Harry Potter. Thinking Out Loud is another hit of his which has become an all time favourite. Could you tell me what is the duration of the latter?</td>\n",
       "      <td>281560/252520</td>\n",
       "      <td>searchdetailsrefinedfrommusicbrainz</td>\n",
       "      <td>{'query': 'Thinking Out Loud', 'entity_type': 'track', 'artist_name': 'Ed Sheeran'}</td>\n",
       "      <td>The duration of Ed Sheeran's song \"Thinking Out Loud\" is approximately 4 minutes and 12 seconds.</td>\n",
       "    </tr>\n",
       "    <tr>\n",
       "      <th>9</th>\n",
       "      <td>Keith Urban is an Australian and American singer, guitarist, and songwriter known for his work in country music. Urban has released 11 studio albums, as well as one album with the Ranch.In 2018 he released Graffiti U. How many tracks does it have?</td>\n",
       "      <td>15</td>\n",
       "      <td>searchdetailsrefinedfrommusicbrainz</td>\n",
       "      <td>{'query': 'Graffiti U', 'entity_type': 'album', 'artist_name': 'Keith Urban'}</td>\n",
       "      <td>Keith Urban's album \"Graffiti U\" has 15 tracks.</td>\n",
       "    </tr>\n",
       "  </tbody>\n",
       "</table>\n",
       "</div>"
      ],
      "text/plain": [
       "                                                                                                                                                                                                                                                                                                                                                                                                                                                                                                                                                                                                                   Question  \\\n",
       "0                                                         In the year 2010 like every other year loads of music albums were released by multiple artists. Evacuate Chicago released Veracity, Living Sacrifice released The Infinite Order, DJ Khaled released Victory, Jazmine Sullivan released Love Me Back and Kesha released Cannibal. Similarly in 2011 Cake released Showroom of Compassion, Covenant released Modern Ruin, Pearl Jam released Live on Ten Legs and White Lies released Ritual. Veracity's main genre is Metalcore and so is The Infinite Order's main genre. In which year was the former released?   \n",
       "1                                                                                                                               Genesis are an English rock band formed at Charterhouse School, Godalming, Surrey, in 1967.  In the 1970s, during which the band also included singer Peter Gabriel and guitarist Steve Hackett, Genesis were among the pioneers of progressive rock. The band's longest-existing and most commercially successful line-up consisted of keyboardist Tony Banks, bassist/guitarist Mike Rutherford and drummer/singer Phil Collins. Before Phil Collins, who was the lead singer of Genesis?   \n",
       "2                                                                                                                                                                                                                                    Ultraviolence is the third studio album by American singer-songwriter Lana Del Rey, released on June 13, 2014, by Polydor and Interscope Records. To promote the album, five singles West Coast, Shades of Cool, Ultraviolence, Black Beauty and Brooklyn Baby. Out of these 5, one song  is explicit and the other 4 are not. The 5th song in the list is explicit. What is its name?   \n",
       "3  Shafqat Amanat Ali Khan pronounced is a Pakistani pop and classical singer, songwriter, and composer belonging to the Patiala Gharana tradition of music. Ali was introduced to the Indian film industry by singer and music composer Shankar Mahadevan and eventually went on to sing the massively popular Sufi rock ballad Mitwa for the film Kabhi Alvida Naa Kehna. Along with this genre, he is also famous for his Hindustani classical semi-classical songs. Is the artist who sang the 3rd song Tere Naina in My Name Is Khan famous for his Sufi music? For reference it is Ali who sang this particular song.   \n",
       "4                                                                                                                                                                                                                                                                                                                                                  Sonu Nigam and Shreya Ghoshal sang mutilple duets together which inlude Main Hoon Na, Zoobi Doobi, Main Agar Kahoon, Piyu Bole, Shukran Allah. Zoobi Doobi is from 3 Idiots and Main Agar Kahoon is from Om Shanti Om. Can you name a common artist in these two albums?   \n",
       "5                                                                                                                                                                                                                                                                                                                                   An Indian rock band formed in Chandigarh in 2008 and based in New Delhi since 2015, started their career by releasing a stream of singles. The band's debut album Aalas Ka Pedh has been among the top 5 most-streamed rock music albums on Apple Music India. Could you name the band?   \n",
       "6                                                                                                                                                                                                                                                                             The album Dazed and Confused was released by an English rock band, formed in London in 1963. The band started the careers of three of rock's most famous guitarists: Eric Clapton , Jeff Beck  and Jimmy Page , all of whom ranked in the top five of Rolling Stone magazine's list of 100 greatest guitarists. What is the name of the band?   \n",
       "7                                                                                                                                                                                                                                                                                                                                                                                                      Chale Chalo is part of the hindi movie Lagaan which stars Aamir Khan and has the most number of British actors playing a significant role in the entire history of Bollywood cinema. Who is the artist of this song?   \n",
       "8                                                                                                                                                                                                                                                                                                                                                   Ed Sheeran released a song named Lego House whose official video stars Rupert Grint, also known as Ron Weasley from Harry Potter. Thinking Out Loud is another hit of his which has become an all time favourite. Could you tell me what is the duration of the latter?   \n",
       "9                                                                                                                                                                                                                                                                                                                                                                   Keith Urban is an Australian and American singer, guitarist, and songwriter known for his work in country music. Urban has released 11 studio albums, as well as one album with the Ranch.In 2018 he released Graffiti U. How many tracks does it have?   \n",
       "\n",
       "              Correct Answer                        Function_name  \\\n",
       "0                       2010                                        \n",
       "1              Peter Gabriel  searchdetailsrefinedfrommusicbrainz   \n",
       "2              Brooklyn Baby  searchdetailsrefinedfrommusicbrainz   \n",
       "3                       True  searchdetailsrefinedfrommusicbrainz   \n",
       "4  Sonu Nigam/Shreya Ghoshal  searchdetailsrefinedfrommusicbrainz   \n",
       "5            The Local Train  searchdetailsrefinedfrommusicbrainz   \n",
       "6              The Yardbirds  searchdetailsrefinedfrommusicbrainz   \n",
       "7               A. R. Rahman  searchdetailsrefinedfrommusicbrainz   \n",
       "8              281560/252520  searchdetailsrefinedfrommusicbrainz   \n",
       "9                         15  searchdetailsrefinedfrommusicbrainz   \n",
       "\n",
       "                                                                    Function_arguments  \\\n",
       "0                                                                                        \n",
       "1                                        {'query': 'Genesis', 'entity_type': 'artist'}   \n",
       "2                                   {'query': 'Ultraviolence', 'entity_type': 'album'}   \n",
       "3                        {'query': 'Shafqat Amanat Ali Khan', 'entity_type': 'artist'}   \n",
       "4                                        {'query': '3 Idiots', 'entity_type': 'album'}   \n",
       "5                                   {'query': 'Aalas Ka Pedh', 'entity_type': 'album'}   \n",
       "6        {'album_name': 'Dazed and Confused', 'country': 'GB', 'entity_type': 'album'}   \n",
       "7             {'query': 'Chale Chalo', 'entity_type': 'track', 'album_name': 'Lagaan'}   \n",
       "8  {'query': 'Thinking Out Loud', 'entity_type': 'track', 'artist_name': 'Ed Sheeran'}   \n",
       "9        {'query': 'Graffiti U', 'entity_type': 'album', 'artist_name': 'Keith Urban'}   \n",
       "\n",
       "                                                                                                                                                                                                                                                       answer  \n",
       "0                                                                                                                                                                                                 Veracity by Evacuate Chicago was released in the year 2010.  \n",
       "1                                                                                                                                                                                          Before Phil Collins, the lead singer of Genesis was Peter Gabriel.  \n",
       "2                              The explicit song on the album \"Ultraviolence\" by Lana Del Rey is called \"ULTRAVIOLENCE\". However, please note that this information is incorrect as the album \"Ultraviolence\" by Lana Del Rey does not have an explicit song.  \n",
       "3                                                                                                                    Yes, Shafqat Amanat Ali Khan is famous for his Sufi music. He is known for his soulful renditions of Sufi rock and Sufi classical songs.  \n",
       "4                                                                                                               {'function_call': {'name': 'searchdetailsrefinedfrommusicbrainz', 'arguments': '{\\n  \"query\": \"Om Shanti Om\",\\n  \"entity_type\": \"album\"\\n}'}}  \n",
       "5                                                 The band you are referring to is The Local Train. They released their debut album \"Aalas Ka Pedh\" on September 25, 2015. It has been one of the top 5 most-streamed rock music albums on Apple Music India.  \n",
       "6  I apologize for the error. The band you are referring to is Led Zeppelin. They released the album \"Dazed and Confused\" in 1969. Led Zeppelin is known for their influential contributions to rock music and their iconic guitarists, including Jimmy Page.  \n",
       "7                                                                                                                                                                                 The artist of the song \"Chale Chalo\" from the movie Lagaan is A. R. Rahman.  \n",
       "8                                                                                                                                                            The duration of Ed Sheeran's song \"Thinking Out Loud\" is approximately 4 minutes and 12 seconds.  \n",
       "9                                                                                                                                                                                                             Keith Urban's album \"Graffiti U\" has 15 tracks.  "
      ]
     },
     "execution_count": 11,
     "metadata": {},
     "output_type": "execute_result"
    }
   ],
   "source": [
    "\n",
    "results=pd.DataFrame(results)\n",
    "results=pd.merge(left=ec_questions_df,right=results)\n",
    "results"
   ]
  },
  {
   "cell_type": "markdown",
   "metadata": {},
   "source": [
    "# 3 subfunctions available "
   ]
  },
  {
   "cell_type": "code",
   "execution_count": null,
   "metadata": {},
   "outputs": [],
   "source": [
    "ec_questions_df=pd.read_csv(\"data/Musicdata/Extra_context_questions.csv\")\n",
    "ec_questions_df\n"
   ]
  },
  {
   "cell_type": "code",
   "execution_count": null,
   "metadata": {},
   "outputs": [],
   "source": [
    "results=[]"
   ]
  },
  {
   "cell_type": "code",
   "execution_count": null,
   "metadata": {},
   "outputs": [],
   "source": [
    "available_functions={k:v for k,v in all_available_functions.items() if  v.__name__!=\"searchdetailsrefinedfrommusicbrainz\"}\n",
    "available_functions"
   ]
  },
  {
   "cell_type": "code",
   "execution_count": null,
   "metadata": {},
   "outputs": [],
   "source": [
    "for question in ec_questions_df[\"Question\"]:\n",
    "    prompt=copy.deepcopy(prompt2)\n",
    "    results.append(langchainhelpers.run_llm_chain_once(prompt,available_functions,question))\n",
    "    helpers.upload_file(\"data/Musicdata/Geodata/Musicdata/intermediate_results.pkl\",results)"
   ]
  },
  {
   "cell_type": "code",
   "execution_count": null,
   "metadata": {},
   "outputs": [],
   "source": [
    "results\n"
   ]
  },
  {
   "cell_type": "code",
   "execution_count": 22,
   "metadata": {},
   "outputs": [],
   "source": [
    "helpers.upload_file(\"data/Musicdata/extra_context_questions_with_3_subfunctions_available_music_brainz_prompt_2_with_better_descriptions.pkl\",results)\n"
   ]
  },
  {
   "cell_type": "code",
   "execution_count": 4,
   "metadata": {},
   "outputs": [],
   "source": [
    "results=helpers.download_file(\"data/Musicdata/extra_context_questions_with_3_subfunctions_available_music_brainz_prompt_2_with_better_descriptions.pkl\")"
   ]
  },
  {
   "cell_type": "code",
   "execution_count": null,
   "metadata": {},
   "outputs": [],
   "source": [
    "\n",
    "results=pd.DataFrame(results)\n",
    "results=pd.merge(left=ec_questions_df,right=results)\n",
    "results"
   ]
  }
 ],
 "metadata": {
  "kernelspec": {
   "display_name": "base",
   "language": "python",
   "name": "python3"
  },
  "language_info": {
   "codemirror_mode": {
    "name": "ipython",
    "version": 3
   },
   "file_extension": ".py",
   "mimetype": "text/x-python",
   "name": "python",
   "nbconvert_exporter": "python",
   "pygments_lexer": "ipython3",
   "version": "3.8.8"
  },
  "orig_nbformat": 4
 },
 "nbformat": 4,
 "nbformat_minor": 2
}
