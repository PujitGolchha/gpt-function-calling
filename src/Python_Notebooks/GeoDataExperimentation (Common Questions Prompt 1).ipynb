{
 "cells": [
  {
   "cell_type": "code",
   "execution_count": null,
   "metadata": {},
   "outputs": [],
   "source": [
    "import helpers\n",
    "import pandas as pd\n",
    "import time\n",
    "import copy\n",
    "from helpers import geodata,langchainhelpers\n",
    "from tqdm import tqdm\n",
    "from langchain.prompts import ChatPromptTemplate\n",
    "pd.set_option(\"display.max_colwidth\",1000)"
   ]
  },
  {
   "cell_type": "code",
   "execution_count": null,
   "metadata": {},
   "outputs": [],
   "source": [
    "output_parser=langchainhelpers.customOutputFunctionsParser()"
   ]
  },
  {
   "cell_type": "code",
   "execution_count": null,
   "metadata": {},
   "outputs": [],
   "source": [
    "#load functions\n",
    "all_available_functions = {\"searchdetails\":geodata.searchdetails,\n",
    "             \"get_city_details\":geodata.get_city_details,\n",
    "             \"get_country_details\":geodata.get_country_details,\n",
    "             \"get_state_details\":geodata.get_state_details,\n",
    "             \"get_airport_details\":geodata.get_airport_details,\n",
    "             \"get_university_details\":geodata.get_university_details,\n",
    "             \"get_attraction_details\":geodata.get_attraction_details}"
   ]
  },
  {
   "cell_type": "code",
   "execution_count": null,
   "metadata": {},
   "outputs": [],
   "source": [
    "prompt1= ChatPromptTemplate.from_messages(\n",
    "        [\n",
    "            (\"system\", \"You are a geography enthusiast and know a lot about this field.\"),\n",
    "            (\"human\", \"You also have access to a Geographical database, so make calls to the relevant functions if necessary: {input}\")\n",
    "        ]\n",
    "    )"
   ]
  },
  {
   "cell_type": "code",
   "execution_count": null,
   "metadata": {},
   "outputs": [],
   "source": [
    "results=helpers.download_file(\"data/GeoData/intermediate_results.pkl\")"
   ]
  },
  {
   "cell_type": "markdown",
   "metadata": {},
   "source": [
    "# Experimentation"
   ]
  },
  {
   "cell_type": "markdown",
   "metadata": {},
   "source": [
    "# One function available - Common Knoweldge Questions"
   ]
  },
  {
   "cell_type": "code",
   "execution_count": null,
   "metadata": {},
   "outputs": [],
   "source": [
    "common_questions_df=pd.read_csv(\"data/GeoData/Common_questions.csv\")\n",
    "common_questions_df"
   ]
  },
  {
   "cell_type": "code",
   "execution_count": null,
   "metadata": {},
   "outputs": [],
   "source": [
    "results=[]"
   ]
  },
  {
   "cell_type": "code",
   "execution_count": null,
   "metadata": {},
   "outputs": [],
   "source": [
    "available_functions={k:v for k,v in all_available_functions.items() if  v.__name__==\"searchdetails\"}\n",
    "available_functions"
   ]
  },
  {
   "cell_type": "code",
   "execution_count": null,
   "metadata": {},
   "outputs": [],
   "source": [
    "for question in tqdm(common_questions_df[\"Question\"]): \n",
    "    prompt=copy.deepcopy(prompt1)\n",
    "    results.append(langchainhelpers.run_llm_chain_once(prompt,available_functions,question))\n",
    "    helpers.upload_file(\"data/GeoData/intermediate_results.pkl\",results)"
   ]
  },
  {
   "cell_type": "code",
   "execution_count": null,
   "metadata": {},
   "outputs": [],
   "source": [
    "results"
   ]
  },
  {
   "cell_type": "code",
   "execution_count": null,
   "metadata": {},
   "outputs": [],
   "source": [
    "helpers.upload_file(\"data/GeoData/common_questions_with_only_function_available.pkl\",results)"
   ]
  },
  {
   "cell_type": "code",
   "execution_count": null,
   "metadata": {},
   "outputs": [],
   "source": [
    "results=helpers.download_file(\"data/GeoData/common_questions_with_only_function_available.pkl\")"
   ]
  },
  {
   "cell_type": "code",
   "execution_count": null,
   "metadata": {},
   "outputs": [],
   "source": [
    "\n",
    "results=pd.DataFrame(results)\n",
    "results=pd.merge(left=common_questions_df,right=results)\n",
    "results"
   ]
  },
  {
   "cell_type": "code",
   "execution_count": null,
   "metadata": {},
   "outputs": [],
   "source": []
  },
  {
   "cell_type": "markdown",
   "metadata": {},
   "source": [
    "# 6 subfunctions available"
   ]
  },
  {
   "cell_type": "code",
   "execution_count": null,
   "metadata": {},
   "outputs": [],
   "source": [
    "common_questions_df=pd.read_csv(\"data/GeoData/Common_questions.csv\")\n",
    "common_questions_df"
   ]
  },
  {
   "cell_type": "code",
   "execution_count": null,
   "metadata": {},
   "outputs": [],
   "source": [
    "results=[]"
   ]
  },
  {
   "cell_type": "code",
   "execution_count": null,
   "metadata": {},
   "outputs": [],
   "source": [
    "available_functions={k:v for k,v in all_available_functions.items() if  v.__name__!=\"searchdetails\"}\n",
    "available_functions"
   ]
  },
  {
   "cell_type": "code",
   "execution_count": null,
   "metadata": {},
   "outputs": [],
   "source": [
    "for question in tqdm(common_questions_df[\"Question\"]): \n",
    "    prompt=copy.deepcopy(prompt1)\n",
    "    results.append(langchainhelpers.run_llm_chain_once(prompt,available_functions,question))\n",
    "    helpers.upload_file(\"data/GeoData/intermediate_results.pkl\",results)"
   ]
  },
  {
   "cell_type": "code",
   "execution_count": null,
   "metadata": {},
   "outputs": [],
   "source": [
    "results"
   ]
  },
  {
   "cell_type": "code",
   "execution_count": null,
   "metadata": {},
   "outputs": [],
   "source": [
    "helpers.upload_file(\"data/GeoData/common_questions_with_6_subfunctions_available.pkl\",results)"
   ]
  },
  {
   "cell_type": "code",
   "execution_count": null,
   "metadata": {},
   "outputs": [],
   "source": [
    "results=helpers.download_file(\"data/GeoData/common_questions_with_6_subfunctions_available.pkl\")"
   ]
  },
  {
   "cell_type": "code",
   "execution_count": null,
   "metadata": {},
   "outputs": [],
   "source": [
    "\n",
    "results=pd.DataFrame(results)\n",
    "results=pd.merge(left=common_questions_df,right=results)\n",
    "results"
   ]
  },
  {
   "cell_type": "code",
   "execution_count": null,
   "metadata": {},
   "outputs": [],
   "source": []
  }
 ],
 "metadata": {
  "kernelspec": {
   "display_name": "base",
   "language": "python",
   "name": "python3"
  },
  "language_info": {
   "codemirror_mode": {
    "name": "ipython",
    "version": 3
   },
   "file_extension": ".py",
   "mimetype": "text/x-python",
   "name": "python",
   "nbconvert_exporter": "python",
   "pygments_lexer": "ipython3",
   "version": "3.8.8"
  },
  "orig_nbformat": 4
 },
 "nbformat": 4,
 "nbformat_minor": 2
}
