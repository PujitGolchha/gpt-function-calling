{
 "cells": [
  {
   "cell_type": "code",
   "execution_count": null,
   "metadata": {},
   "outputs": [],
   "source": [
    "from dotenv import dotenv_values\n",
    "import helpers\n",
    "import pandas as pd\n",
    "import time\n",
    "import copy\n",
    "from helpers import musicbrainz,langchainhelpers\n",
    "from tqdm import tqdm\n",
    "from langchain.prompts import ChatPromptTemplate\n",
    "pd.set_option(\"display.max_colwidth\",1000)"
   ]
  },
  {
   "cell_type": "code",
   "execution_count": null,
   "metadata": {},
   "outputs": [],
   "source": [
    "#load functions of music brainz\n",
    "all_available_functions = {\"searchdetailsrefined\":musicbrainz.searchdetailsrefined,\n",
    "             \"getalbumdetails\":musicbrainz.getalbumdetails,\n",
    "             \"getartistdetails\":musicbrainz.getartistdetails,\n",
    "             \"gettrackdetailsrefined\":musicbrainz.gettrackdetailsrefined}"
   ]
  },
  {
   "cell_type": "code",
   "execution_count": null,
   "metadata": {},
   "outputs": [],
   "source": [
    "prompt4 = ChatPromptTemplate.from_messages(\n",
    "        [\n",
    "    (\"system\", \"You are an Music Aficionado and know a lot about this field.\"),\n",
    "    (\"human\", \"You also have access to a music database, so make calls to the relevant functions if and only if necessary. Remember it costs to call the database and the service isn't cheap.\"),\n",
    "    (\"human\", \"Here are some examples to help you out.\"),\n",
    "    (\"human\", \"Example 1: Question:  Give me the next song after Golden of the album in which Harry Styles released Golden.\\\n",
    "     Step 1: Decide which entity to query about first: Here it is an track.\\\n",
    "     Step 2: As we have access to a function that returns details about a track, I would call the function asking for details of track Golden. I would also fill all the other possible parameters as that would give me the most accurate answer. Here it would be the artist name as Harry Styles.\\\n",
    "     Step 3: After receiving the results from the function I would look for the album name.  In this case it would be the album Fine Line.\\\n",
    "     Step 4: As we have access to a function that returns details about an album, I would then call the function asking for details of album Fine Line. I would also fill all the other possible parameters as that would give me the most accurate answer. Here it would be the artist name as Harry Styles.\\\n",
    "     Step 5: After receiving the results from the function I would then go over all tracks and find the track that is after Golden. In this case it would be the track Watermelon Sugar.\"),\n",
    "    (\"human\", \"Example 2: Question: Out of the two, Fine Line and Nobody Is Listening, which is not a Harry Styles music album?\\\n",
    "     Step 1: Decide which entity to query about first: Here it is an album.\\\n",
    "     Step 2: As we have access to a function that returns details about an album, I would call the function asking for details of album Fine Line. I would also fill all the other possible parameters as that would give me the most accurate answer. Here it would be the artist name as Harry Styles.\\\n",
    "     Step 3: After receiving the results I would look if no results were returned for that album. \\\n",
    "     Step 4: If results were returend for the album, I would repeat steps 2 and 3 with the next album until no results are found. In this case the answer would be the album Nobody Is Listening.\"),\n",
    "    (\"human\", \"Example 3: Question: Name the artist who released Love This Giant and was born on 1952.\\\n",
    "     Step 1: Decide which entity to query about: Here it is an album.\\\n",
    "     Step 2: As we have access to a function that returns details about an album, I would call the function asking for details of album Love This Giant.\\\n",
    "     Step 3: After receiving the results from the function I would look for the artists. In this case it would be the artists David Byrne and St. Vincent.\\\n",
    "     Step 4: As we have access to a function that returns details about an artist, I would then call the function asking for details of artist David Byrne.\\\n",
    "     Step 5: After receiving the results I would look if the artist's birth date is 1952.\\\n",
    "     Step 6: If not I would repeat steps 4 and 5 with the next artist until the results are found. In this case it would be the artist David Byrne.\"),\n",
    "    (\"human\", \"{input}\")\n",
    "])"
   ]
  },
  {
   "cell_type": "markdown",
   "metadata": {},
   "source": [
    "# Experimentation"
   ]
  },
  {
   "cell_type": "markdown",
   "metadata": {},
   "source": [
    "# Only one function available "
   ]
  },
  {
   "cell_type": "code",
   "execution_count": null,
   "metadata": {},
   "outputs": [],
   "source": [
    "hard_questions_df=pd.read_csv(\"data/Musicdata/Hard_questions.csv\")\n",
    "hard_questions_df\n"
   ]
  },
  {
   "cell_type": "code",
   "execution_count": null,
   "metadata": {},
   "outputs": [],
   "source": [
    "results=[]"
   ]
  },
  {
   "cell_type": "code",
   "execution_count": null,
   "metadata": {},
   "outputs": [],
   "source": [
    "available_functions={k:v for k,v in all_available_functions.items() if  v.__name__==\"searchdetailsrefined\"}\n",
    "available_functions"
   ]
  },
  {
   "cell_type": "code",
   "execution_count": null,
   "metadata": {},
   "outputs": [],
   "source": [
    "for question in tqdm(hard_questions_df[6:7][\"Question\"]): \n",
    "    prompt=copy.deepcopy(prompt4)\n",
    "    results.append(langchainhelpers.run_llm_chain_more_than_once(prompt,available_functions,question,300,1,5))\n",
    "    helpers.upload_file(\"data/Musicdata/intermediate_results.pkl\",results)"
   ]
  },
  {
   "cell_type": "code",
   "execution_count": null,
   "metadata": {},
   "outputs": [],
   "source": [
    "helpers.upload_file(\"data/Musicdata/hard_questions_with_only_function_available_music_brainz_prompt_4.pkl\",results)\n"
   ]
  },
  {
   "cell_type": "code",
   "execution_count": null,
   "metadata": {},
   "outputs": [],
   "source": [
    "results=helpers.download_file(\"data/Musicdata/hard_questions_with_only_function_available_music_brainz_prompt_4.pkl\")"
   ]
  },
  {
   "cell_type": "code",
   "execution_count": null,
   "metadata": {},
   "outputs": [],
   "source": [
    "\n",
    "results=pd.DataFrame(results)\n",
    "results=pd.merge(left=hard_questions_df,right=results)\n",
    "results"
   ]
  },
  {
   "cell_type": "markdown",
   "metadata": {},
   "source": [
    "# 3 subfunctions available "
   ]
  },
  {
   "cell_type": "code",
   "execution_count": null,
   "metadata": {},
   "outputs": [],
   "source": [
    "hard_questions_df=pd.read_csv(\"data/Musicdata/Hard_questions.csv\")\n",
    "hard_questions_df"
   ]
  },
  {
   "cell_type": "code",
   "execution_count": null,
   "metadata": {},
   "outputs": [],
   "source": [
    "results=[]"
   ]
  },
  {
   "cell_type": "code",
   "execution_count": null,
   "metadata": {},
   "outputs": [],
   "source": [
    "available_functions={k:v for k,v in all_available_functions.items() if  v.__name__!=\"searchdetailsrefined\"}\n",
    "available_functions"
   ]
  },
  {
   "cell_type": "code",
   "execution_count": null,
   "metadata": {},
   "outputs": [],
   "source": [
    "for question in tqdm(hard_questions_df[\"Question\"]): \n",
    "    prompt=copy.deepcopy(prompt4)\n",
    "    results.append(langchainhelpers.run_llm_chain_more_than_once(prompt,available_functions,question,300,1,5))\n",
    "    helpers.upload_file(\"data/Musicdata/intermediate_results.pkl\",results)"
   ]
  },
  {
   "cell_type": "code",
   "execution_count": null,
   "metadata": {},
   "outputs": [],
   "source": [
    "results"
   ]
  },
  {
   "cell_type": "code",
   "execution_count": null,
   "metadata": {},
   "outputs": [],
   "source": [
    "helpers.upload_file(\"data/Musicdata/hard_questions_with_3_subfunctions_available_music_brainz_prompt_4.pkl\",results)\n"
   ]
  },
  {
   "cell_type": "code",
   "execution_count": null,
   "metadata": {},
   "outputs": [],
   "source": [
    "results=helpers.download_file(\"data/Musicdata/hard_questions_with_3_subfunctions_available_music_brainz_prompt_4.pkl\")"
   ]
  },
  {
   "cell_type": "code",
   "execution_count": null,
   "metadata": {},
   "outputs": [],
   "source": [
    "\n",
    "results=pd.DataFrame(results)\n",
    "results=pd.merge(left=results,right=hard_questions_df)\n",
    "results"
   ]
  },
  {
   "cell_type": "markdown",
   "metadata": {},
   "source": [
    "# Only one function available Prompt 5"
   ]
  },
  {
   "cell_type": "code",
   "execution_count": null,
   "metadata": {},
   "outputs": [],
   "source": [
    "hard_questions_df=pd.read_csv(\"data/Musicdata/Hard_questions.csv\")\n",
    "hard_questions_df"
   ]
  },
  {
   "cell_type": "code",
   "execution_count": null,
   "metadata": {},
   "outputs": [],
   "source": [
    "results=[]\n",
    "for question in hard_questions_df[\"Question\"]:\n",
    "    counter=0\n",
    "    steps={\"Question\":question}\n",
    "    steps[\"steps\"]=[]\n",
    "    prompt = ChatPromptTemplate.from_messages(\n",
    "       [\n",
    "    (\"system\", \"You are an Music Aficionado and know a lot about this field.\"),\n",
    "    (\"human\", \"You also have access to a music database, so make calls to the relevant functions if and only if necessary. Remember it costs to call the database and the service isn't cheap.\"),\n",
    "    (\"human\", \"Here are some examples to help you out.\"),\n",
    "    (\"human\", \"Example 1: Question:  Give me the next song after Golden of the album in which Harry Styles released Golden?\\\n",
    "     Step 1: Decide which entity to query about first: Here it is an track.\\\n",
    "     Step 2: As we have access to a function that returns details about a track, I would call the function asking for details of track Golden. I would also fill all the other possible parameters as that would give me the most accurate answer. Here it would be the artist name as Harry Styles.\\\n",
    "     Step 3: After receiving the results from the function I would look for the album name.  In this case it would be the album Fine Line.\\\n",
    "     Step 4: As we have access to a function that returns details about an album, I would then call the function asking for details of album Fine Line. I would also fill all the other possible parameters as that would give me the most accurate answer. Here it would be the artist name as Harry Styles.\\\n",
    "     Step 5: After receiving the results from the function I would then go over all tracks and find the track that is after Golden. In this case it would be the track Watermelon Sugar.\\\n",
    "     Final Answer: Watermelon Sugar\"),\n",
    "    (\"human\", \"Example 2: Question: Out of the two, Fine Line and Nobody Is Listening, which is not a Harry Styles's music albums?\\\n",
    "     Step 1: Decide which entity to query about first: Here it is an album.\\\n",
    "     Step 2: As we have access to a function that returns details about an album, I would call the function asking for details of album Fine Line. I would also fill all the other possible parameters as that would give me the most accurate answer. Here it would be the artist name as Harry Styles.\\\n",
    "     Step 3: After receiving the results I would look if no results were returned for that album. \\\n",
    "     Step 4: If results were returend for the album, I would repeat steps 2 and 3 with the next album until no results are found. In this case the answer would be the album Nobody Is Listening.\\\n",
    "     Final Answer: Nobody Is Listening\"),\n",
    "    (\"human\", \"Example 3: Question: Name the artist who released Love This Giant and was born on 1952?\\\n",
    "     Step 1: Decide which entity to query about: Here it is an album.\\\n",
    "     Step 2: As we have access to a function that returns details about an album, I would call the function asking for details of album Love This Giant.\\\n",
    "     Step 3: After receiving the results from the function I would look for the artists. In this case it would be the artists David Byrne and St. Vincent.\\\n",
    "     Step 4: As we have access to a function that returns details about an artist, I would then call the function asking for details of artist David Byrne.\\\n",
    "     Step 5: After receiving the results I would look if the artist's birth date is 1952.\\\n",
    "     Step 6: If not I would repeat steps 4 and 5 with the next artist until the results are found. In this case it would be the artist David Byrne.\\\n",
    "     Final Answer: David Byrne\"),\n",
    "    (\"human\", \"{input}\")\n",
    "])\n",
    "    function_llm_chain = create_openai_fn_chain([available_functions[\"searchdetailsrefined\"]], llm, prompt, verbose=True,output_parser=output_parser)\n",
    "    output=function_llm_chain.run(input=question)\n",
    "    \n",
    "    while 'function_call' in output[\"Message\"]:\n",
    "        counter+=1\n",
    "        try:\n",
    "            function_name=output['Parsed_Function_Call'][\"name\"]\n",
    "            function_arguments=output['Parsed_Function_Call'][\"arguments\"]\n",
    "        except:\n",
    "            steps[\"answer\"]=output[\"Message\"]\n",
    "            break\n",
    "        \n",
    "        if function_name in available_functions:\n",
    "            steps[\"steps\"].append({\"Function_name\":function_name,\"Function_arguments\":function_arguments})\n",
    "            retrieved_results=available_functions[function_name](**function_arguments)\n",
    "            prompt.extend([AIMessage(content=str(output[\"Message\"]))])\n",
    "            prompt.extend([FunctionMessage(content=str(retrieved_results),name=function_name)])\n",
    "            try:\n",
    "                output=function_llm_chain.run(input=question)\n",
    "            except:\n",
    "                steps[\"answer\"]=\"Wrong output from LLM\"\n",
    "                break\n",
    "        else:\n",
    "            steps[\"steps\"].append({\"Function_name\":function_name,\"Function_arguments\":function_arguments})\n",
    "            steps[\"answer\"]=\"Wrong function called\"\n",
    "            break\n",
    "        \n",
    "        if counter==5:\n",
    "            steps[\"answer\"]=\"Too many function calls\"\n",
    "            break\n",
    "        time.sleep(30)\n",
    "       \n",
    "    if \"answer\" not in steps:\n",
    "        steps[\"answer\"]=output[\"Message\"]\n",
    "    results.append(steps)\n",
    "function_llm_chain.llm_kwargs\n"
   ]
  },
  {
   "cell_type": "code",
   "execution_count": null,
   "metadata": {},
   "outputs": [],
   "source": [
    "results"
   ]
  },
  {
   "cell_type": "code",
   "execution_count": null,
   "metadata": {},
   "outputs": [],
   "source": [
    "helpers.upload_file(\"data/Musicdata/hard_questions_with_only_function_available_music_brainz_prompt_5.pkl\",results)\n",
    "\n"
   ]
  },
  {
   "cell_type": "code",
   "execution_count": null,
   "metadata": {},
   "outputs": [],
   "source": [
    "results=helpers.download_file(\"data/Musicdata/hard_questions_with_only_function_available_music_brainz_prompt_5.pkl\")\n",
    "\n"
   ]
  },
  {
   "cell_type": "code",
   "execution_count": null,
   "metadata": {},
   "outputs": [],
   "source": [
    "results=pd.DataFrame(results)\n",
    "results=pd.merge(left=results,right=hard_questions_df)\n",
    "results"
   ]
  },
  {
   "cell_type": "code",
   "execution_count": null,
   "metadata": {},
   "outputs": [],
   "source": []
  },
  {
   "cell_type": "markdown",
   "metadata": {},
   "source": [
    "# 3 subfunctions available Prompt 5 "
   ]
  },
  {
   "cell_type": "code",
   "execution_count": null,
   "metadata": {},
   "outputs": [],
   "source": [
    "hard_questions_df=pd.read_csv(\"data/Musicdata/Hard_questions.csv\")\n",
    "hard_questions_df"
   ]
  },
  {
   "cell_type": "code",
   "execution_count": null,
   "metadata": {},
   "outputs": [],
   "source": [
    "results=[]"
   ]
  },
  {
   "cell_type": "code",
   "execution_count": null,
   "metadata": {},
   "outputs": [],
   "source": [
    "for question in hard_questions_df[5:10][\"Question\"]:\n",
    "    counter=0\n",
    "    steps={\"Question\":question}\n",
    "    steps[\"steps\"]=[]\n",
    "    prompt = ChatPromptTemplate.from_messages(\n",
    "       [\n",
    "    (\"system\", \"You are an Music Aficionado and know a lot about this field.\"),\n",
    "    (\"human\", \"You also have access to a music database, so make calls to the relevant functions if and only if necessary. Remember it costs to call the database and the service isn't cheap.\"),\n",
    "    (\"human\", \"Here are some examples to help you out.\"),\n",
    "    (\"human\", \"Example 1: Question:  Give me the next song after Golden of the album in which Harry Styles released Golden?\\\n",
    "     Step 1: Decide which entity to query about first: Here it is an track.\\\n",
    "     Step 2: As we have access to a function that returns details about a track, I would call the function asking for details of track Golden. I would also fill all the other possible parameters as that would give me the most accurate answer. Here it would be the artist name as Harry Styles.\\\n",
    "     Step 3: After receiving the results from the function I would look for the album name.  In this case it would be the album Fine Line.\\\n",
    "     Step 4: As we have access to a function that returns details about an album, I would then call the function asking for details of album Fine Line. I would also fill all the other possible parameters as that would give me the most accurate answer. Here it would be the artist name as Harry Styles.\\\n",
    "     Step 5: After receiving the results from the function I would then go over all tracks and find the track that is after Golden. In this case it would be the track Watermelon Sugar.\\\n",
    "     Final Answer: Watermelon Sugar\"),\n",
    "    (\"human\", \"Example 2: Question: Out of the two, Fine Line and Nobody Is Listening, which is not a Harry Styles's music albums?\\\n",
    "     Step 1: Decide which entity to query about first: Here it is an album.\\\n",
    "     Step 2: As we have access to a function that returns details about an album, I would call the function asking for details of album Fine Line. I would also fill all the other possible parameters as that would give me the most accurate answer. Here it would be the artist name as Harry Styles.\\\n",
    "     Step 3: After receiving the results I would look if no results were returned for that album. \\\n",
    "     Step 4: If results were returend for the album, I would repeat steps 2 and 3 with the next album until no results are found. In this case the answer would be the album Nobody Is Listening.\\\n",
    "     Final Answer: Nobody Is Listening\"),\n",
    "    (\"human\", \"Example 3: Question: Name the artist who released Love This Giant and was born on 1952?\\\n",
    "     Step 1: Decide which entity to query about: Here it is an album.\\\n",
    "     Step 2: As we have access to a function that returns details about an album, I would call the function asking for details of album Love This Giant.\\\n",
    "     Step 3: After receiving the results from the function I would look for the artists. In this case it would be the artists David Byrne and St. Vincent.\\\n",
    "     Step 4: As we have access to a function that returns details about an artist, I would then call the function asking for details of artist David Byrne.\\\n",
    "     Step 5: After receiving the results I would look if the artist's birth date is 1952.\\\n",
    "     Step 6: If not I would repeat steps 4 and 5 with the next artist until the results are found. In this case it would be the artist David Byrne.\\\n",
    "     Final Answer: David Byrne\"),\n",
    "    (\"human\", \"{input}\")\n",
    "])\n",
    "    function_llm_chain = create_openai_fn_chain([available_functions[\"gettrackdetailsrefined\"],available_functions[\"getartistdetails\"],available_functions[\"getalbumdetails\"]], llm, prompt, verbose=True,output_parser=output_parser)\n",
    "    output=function_llm_chain.run(input=question)\n",
    "    \n",
    "    while 'function_call' in output[\"Message\"]:\n",
    "        counter+=1\n",
    "        try:\n",
    "            function_name=output['Parsed_Function_Call'][\"name\"]\n",
    "            function_arguments=output['Parsed_Function_Call'][\"arguments\"]\n",
    "        except:\n",
    "            steps[\"answer\"]=output[\"Message\"]\n",
    "            break\n",
    "        if function_name in available_functions:\n",
    "            steps[\"steps\"].append({\"Function_name\":function_name,\"Function_arguments\":function_arguments})\n",
    "            retrieved_results=available_functions[function_name](**function_arguments)\n",
    "            prompt.extend([AIMessage(content=str(output[\"Message\"]))])\n",
    "            prompt.extend([FunctionMessage(content=str(retrieved_results),name=function_name)])\n",
    "            output=function_llm_chain.run(input=question)\n",
    "        else:\n",
    "            steps[\"steps\"].append({\"Function_name\":function_name,\"Function_arguments\":function_arguments})\n",
    "            steps[\"answer\"]=\"Wrong function called\"\n",
    "            break\n",
    "        \n",
    "        if counter==5:\n",
    "            steps[\"answer\"]=\"Too many function calls\"\n",
    "            break\n",
    "        time.sleep(30)\n",
    "       \n",
    "    if \"answer\" not in steps:\n",
    "        steps[\"answer\"]=output[\"Message\"]\n",
    "    results.append(steps)\n",
    "    \n",
    "function_llm_chain.llm_kwargs\n"
   ]
  },
  {
   "cell_type": "code",
   "execution_count": null,
   "metadata": {},
   "outputs": [],
   "source": [
    "results"
   ]
  },
  {
   "cell_type": "code",
   "execution_count": null,
   "metadata": {},
   "outputs": [],
   "source": [
    "helpers.upload_file(\"data/Musicdata/hard_questions_with_3_subfunctions_available_music_brainz_prompt_5.pkl\",results)"
   ]
  },
  {
   "cell_type": "code",
   "execution_count": null,
   "metadata": {},
   "outputs": [],
   "source": [
    "results=helpers.download_file(\"data/Musicdata/hard_questions_with_3_subfunctions_available_music_brainz_prompt_5.pkl\")"
   ]
  },
  {
   "cell_type": "code",
   "execution_count": null,
   "metadata": {},
   "outputs": [],
   "source": [
    "\n",
    "\n",
    "results=pd.DataFrame(results)\n",
    "results=pd.merge(left=results,right=hard_questions_df)\n",
    "results\n"
   ]
  }
 ],
 "metadata": {
  "kernelspec": {
   "display_name": "base",
   "language": "python",
   "name": "python3"
  },
  "language_info": {
   "codemirror_mode": {
    "name": "ipython",
    "version": 3
   },
   "file_extension": ".py",
   "mimetype": "text/x-python",
   "name": "python",
   "nbconvert_exporter": "python",
   "pygments_lexer": "ipython3",
   "version": "3.8.8"
  },
  "orig_nbformat": 4
 },
 "nbformat": 4,
 "nbformat_minor": 2
}
