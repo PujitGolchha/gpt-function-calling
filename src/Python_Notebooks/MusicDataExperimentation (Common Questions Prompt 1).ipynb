{
 "cells": [
  {
   "cell_type": "code",
   "execution_count": null,
   "metadata": {},
   "outputs": [],
   "source": [
    "import helpers\n",
    "import pandas as pd\n",
    "import time\n",
    "import copy\n",
    "from helpers import musicbrainz,langchainhelpers\n",
    "from tqdm import tqdm\n",
    "from langchain.prompts import ChatPromptTemplate\n",
    "pd.set_option(\"display.max_colwidth\",1000)"
   ]
  },
  {
   "cell_type": "code",
   "execution_count": null,
   "metadata": {},
   "outputs": [],
   "source": [
    "#load functions of music brainz\n",
    "all_available_functions = {\"searchdetails\":musicbrainz.searchdetails,\n",
    "             \"getalbumdetails\":musicbrainz.getalbumdetails,\n",
    "             \"getartistdetails\":musicbrainz.getartistdetails,\n",
    "             \"gettrackdetails\":musicbrainz.gettrackdetails}"
   ]
  },
  {
   "cell_type": "code",
   "execution_count": null,
   "metadata": {},
   "outputs": [],
   "source": [
    "prompt1 = ChatPromptTemplate.from_messages(\n",
    "        [\n",
    "            (\"system\", \"You are an Music Aficionado and know a lot about this field.\"),\n",
    "            (\"human\", \"You also have access to a music database, so make calls to the relevant functions if necessary: {input}\")\n",
    "        ]\n",
    "    )"
   ]
  },
  {
   "cell_type": "markdown",
   "metadata": {},
   "source": [
    "# Experimentation"
   ]
  },
  {
   "cell_type": "markdown",
   "metadata": {},
   "source": [
    "# One function available "
   ]
  },
  {
   "cell_type": "code",
   "execution_count": null,
   "metadata": {},
   "outputs": [],
   "source": [
    "common_questions_df=pd.read_csv(\"data/Musicdata/Common_questions.csv\")\n",
    "common_questions_df"
   ]
  },
  {
   "cell_type": "code",
   "execution_count": null,
   "metadata": {},
   "outputs": [],
   "source": [
    "available_functions={k:v for k,v in all_available_functions.items() if  v.__name__==\"searchdetailsfrommusicbrainz\"}\n",
    "available_functions\n"
   ]
  },
  {
   "cell_type": "code",
   "execution_count": null,
   "metadata": {},
   "outputs": [],
   "source": [
    "results=[]"
   ]
  },
  {
   "cell_type": "code",
   "execution_count": null,
   "metadata": {},
   "outputs": [],
   "source": [
    "for question in common_questions_df[\"Question\"]:\n",
    "    prompt=copy.deepcopy(prompt1)\n",
    "    results.append(langchainhelpers.run_llm_chain_once(prompt,available_functions,question))\n",
    "    helpers.upload_file(\"data/Musicdata/intermediate_results.pkl\",results)"
   ]
  },
  {
   "cell_type": "code",
   "execution_count": null,
   "metadata": {},
   "outputs": [],
   "source": [
    "results"
   ]
  },
  {
   "cell_type": "code",
   "execution_count": null,
   "metadata": {},
   "outputs": [],
   "source": [
    "helpers.upload_file(\"data/Musicdata/common_questions_with_only_function_available_music_brainz_search_details.pkl\",results)"
   ]
  },
  {
   "cell_type": "code",
   "execution_count": null,
   "metadata": {},
   "outputs": [],
   "source": [
    "results=helpers.download_file(\"data/Musicdata/common_questions_with_only_function_available_music_brainz_search_details.pkl\")"
   ]
  },
  {
   "cell_type": "code",
   "execution_count": null,
   "metadata": {},
   "outputs": [],
   "source": [
    "results=pd.DataFrame(results)\n",
    "results=pd.merge(left=results,right=common_questions_df)\n",
    "results"
   ]
  },
  {
   "cell_type": "markdown",
   "metadata": {},
   "source": [
    "# 3 functions available"
   ]
  },
  {
   "cell_type": "code",
   "execution_count": null,
   "metadata": {},
   "outputs": [],
   "source": [
    "common_questions_df=pd.read_csv(\"data/Musicdata/Common_questions.csv\")\n",
    "common_questions_df"
   ]
  },
  {
   "cell_type": "code",
   "execution_count": null,
   "metadata": {},
   "outputs": [],
   "source": [
    "available_functions={k:v for k,v in all_available_functions.items() if  v.__name__!=\"searchdetailsfrommusicbrainz\"}\n",
    "available_functions\n"
   ]
  },
  {
   "cell_type": "code",
   "execution_count": null,
   "metadata": {},
   "outputs": [],
   "source": [
    "results=[]"
   ]
  },
  {
   "cell_type": "code",
   "execution_count": null,
   "metadata": {},
   "outputs": [],
   "source": [
    "for question in common_questions_df[\"Question\"]:\n",
    "    prompt=copy.deepcopy(prompt1)\n",
    "    results.append(langchainhelpers.run_llm_chain_once(prompt,available_functions,question))\n",
    "    helpers.upload_file(\"data/Musicdata/intermediate_results.pkl\",results)"
   ]
  },
  {
   "cell_type": "code",
   "execution_count": null,
   "metadata": {},
   "outputs": [],
   "source": [
    "helpers.upload_file(\"data/Musicdata/common_questions_with_3_subfunctions_available.pkl\",results)"
   ]
  },
  {
   "cell_type": "code",
   "execution_count": null,
   "metadata": {},
   "outputs": [],
   "source": [
    "results=helpers.download_file(\"data/Musicdata/common_questions_with_3_subfunctions_available.pkl\")"
   ]
  },
  {
   "cell_type": "code",
   "execution_count": null,
   "metadata": {},
   "outputs": [],
   "source": [
    "results=pd.DataFrame(results)\n",
    "results=pd.merge(left=common_questions_df,right=results)\n",
    "results"
   ]
  },
  {
   "cell_type": "code",
   "execution_count": null,
   "metadata": {},
   "outputs": [],
   "source": []
  }
 ],
 "metadata": {
  "kernelspec": {
   "display_name": "base",
   "language": "python",
   "name": "python3"
  },
  "language_info": {
   "codemirror_mode": {
    "name": "ipython",
    "version": 3
   },
   "file_extension": ".py",
   "mimetype": "text/x-python",
   "name": "python",
   "nbconvert_exporter": "python",
   "pygments_lexer": "ipython3",
   "version": "3.8.8"
  },
  "orig_nbformat": 4
 },
 "nbformat": 4,
 "nbformat_minor": 2
}
