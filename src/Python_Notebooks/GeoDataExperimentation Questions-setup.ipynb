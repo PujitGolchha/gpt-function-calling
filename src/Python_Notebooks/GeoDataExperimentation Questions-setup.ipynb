{
 "cells": [
  {
   "cell_type": "code",
   "execution_count": null,
   "metadata": {},
   "outputs": [],
   "source": [
    "import pandas as pd\n",
    "from helpers import geodata,geodatarefined,openstreetmaps\n",
    "pd.set_option(\"max_colwidth\",1000)"
   ]
  },
  {
   "cell_type": "markdown",
   "metadata": {},
   "source": [
    "# Easy Questions"
   ]
  },
  {
   "cell_type": "code",
   "execution_count": null,
   "metadata": {},
   "outputs": [],
   "source": [
    "easy_questions=[\"What are the Hispanics from Texas, United States also known as?\",\n",
    "                \"Who is the current President of Kyrgyzstan?\",\n",
    "                \"What is the nickname of the city Valletta in Malta?\",\n",
    "                \"What are the two main purposes that the Eiffel Tower is used for?\",\n",
    "                \"What are the runways in Changi Airport, Singapore made up of?\",\n",
    "                \"What is the name of the IIT located in Chennai, Tamil Nadu, India and how many students study there?\",\n",
    "                \"What is the total population in millions of Hyderabad, Pakistan and according to which year?\",\n",
    "                \"Name a city starting with letter M in Baden-Württemberg, Germany?\",\n",
    "                \"What is the country code of Sri Lanka?\",\n",
    "                \"In which district is the Wieskirche a UNESCO World Heritage Site since 1983, located?\"]\n",
    "easy_questions_answers=[\"Tejano\",\n",
    "         \"Sadyr Japarov\",\n",
    "         \"Il-Belt\",\n",
    "         \"['Broadcasting tower', 'Observation tower']\",\n",
    "         \"['Grooved asphalt concrete','Asphalt concrete','Groovedasphalt concrete']\",\n",
    "         \"Indian Institute of Technology Madras, 10180 students.\",\n",
    "         \"1.7 Million, 2017\",\n",
    "         \"Mannheim\",\n",
    "         \"LK\",\n",
    "         \"Weilheim-Schongau district\"]"
   ]
  },
  {
   "cell_type": "code",
   "execution_count": null,
   "metadata": {},
   "outputs": [],
   "source": [
    "easy_questions_df=pd.DataFrame({\"Question\":easy_questions,\"Correct Answer\":easy_questions_answers})\n",
    "easy_questions_df.to_csv(\"data/Geodata/Easy_questions.csv\",index=False)"
   ]
  },
  {
   "cell_type": "code",
   "execution_count": null,
   "metadata": {},
   "outputs": [],
   "source": [
    "easy_questions_df=pd.read_csv(\"data/Geodata/Easy_questions.csv\")\n",
    "easy_questions_df"
   ]
  },
  {
   "cell_type": "markdown",
   "metadata": {},
   "source": [
    "# Common Questions"
   ]
  },
  {
   "cell_type": "code",
   "execution_count": null,
   "metadata": {},
   "outputs": [],
   "source": [
    "common_questions=[\"What is the capital city of Australia?\",\n",
    "                \"Machu Picchu, a famous Incan citadel, is a World Heritage Site located in which country?\",\n",
    "                \"The Great Barrier Reef, a UNESCO World Heritage Site, is located in which ocean?\",\n",
    "                \"What Ivy League university is located in the state of New Jersey?\",\n",
    "                \"In which Asian city would you find the Petronas Towers, once the tallest twin towers in the world?\",\n",
    "                \"Dubai, known for its modern architecture and luxury shopping, is a major city in which Middle Eastern country?\",\n",
    "                \"Which U.S. state is often referred to as the Sunshine State and is famous for its theme parks and oranges?\",\n",
    "                \"Queensland, famous for the Great Barrier Reef and the Gold Coast, is a state in which Southern Hemisphere country?\",\n",
    "                \"Which Middle Eastern airport is a major hub for international travel and is the home base for Qatar Airways\",\n",
    "                \"In which city would you find Heathrow Airport, one of the busiest airports in Europe?\"]\n",
    "common_questions_answers=[\"Canberra\",\"Peru\",\"Coral Sea\",\"Princeton University\",\"Kuala Lumpur\",\"United Arab Emirates\",\n",
    "                          \"Florida\",\"Australia\",\"Hamad International Airport\",\"London\"]"
   ]
  },
  {
   "cell_type": "code",
   "execution_count": null,
   "metadata": {},
   "outputs": [],
   "source": [
    "common_questions_df=pd.DataFrame({\"Question\":common_questions,\"Correct Answer\":common_questions_answers})\n",
    "common_questions_df.to_csv(\"data/Geodata/Common_questions.csv\",index=False)"
   ]
  },
  {
   "cell_type": "code",
   "execution_count": null,
   "metadata": {},
   "outputs": [],
   "source": [
    "common_questions_df=pd.read_csv(\"data/Geodata/Common_questions.csv\")\n",
    "common_questions_df"
   ]
  },
  {
   "cell_type": "markdown",
   "metadata": {},
   "source": [
    "# Hard Questions"
   ]
  },
  {
   "cell_type": "code",
   "execution_count": null,
   "metadata": {},
   "outputs": [],
   "source": [
    "# Name the German architect whose works include the Barcelona Pavilion, the Villa Tugendhat and the Carr Memorial Chapel?\n",
    "# Name a common state between the country where the state Azad Kashmir is located and India"
   ]
  },
  {
   "cell_type": "code",
   "execution_count": null,
   "metadata": {},
   "outputs": [],
   "source": [
    "\n",
    "hard_questions=[\"Its the year 2023. How long has it been since the Neuschwanstein Castle in Germany has been built?\",\n",
    "                \"Give me the state whose name starts with the letter R in the country in which the Devils Tower is located?\",\n",
    "                \"Name the state which shares the same name in the country where the state Azad Kashmir is located and India?\",\n",
    "                \"What is the common material that is used in the runways of Frankfurt Airport, Munich Airport and Berlin Brandenburg Airport?\",\n",
    "                \"Who is the leader of the capital of the country, whose name is the same as the name of the state in which Columbus State University is located?\",\n",
    "                \"Name the architect whose works include the Leeza SOHO, the BMW Central Building and the Jockey Club Innovation Tower?\",\n",
    "                \"Who is the 2nd leader of the country in which Sajama National Park is located and what is his/her designation?\",\n",
    "                \"What is the capital of the country in which two out of the three: Aston University, Belfast Metropolitan College and Open University, are located?\",\n",
    "                \"In the year that the Statue of Liberty Museum and National Museum opened, England won the 50 over cricket world cup for the first time. What year was it?\",\n",
    "                \"Out of the four universities: University of Mannheim, Karlsruhe Institute of Technology, Heidelberg University and University of Freiburg, name one university that has more than 22000 students? \",\n",
    "                \"Give me the state whose name starts with the letter L in the country in which the Fort Amiel is located?\",\n",
    "                \"How many years passed between the construction of Schwerin Castle in Germany and the construction of Neuschwanstein Castle?\"]\n",
    "\n",
    "hard_questions_answers=[\"137 years\",\"Rhode Island\",\"Punjab\",\"Concrete\",\"Kakha Kaladze\",\n",
    "                        \"Zaha Hadid\",\"David Choquehuanca (Vice President of Bolivia)\",\"London\",\"2019\",\"Karlsruhe Institute of Technology\",\"Limpopo\",\"913\"]\n"
   ]
  },
  {
   "cell_type": "code",
   "execution_count": null,
   "metadata": {},
   "outputs": [],
   "source": [
    "hard_questions_df=pd.DataFrame({\"Question\":hard_questions,\"Correct Answer\":hard_questions_answers})\n",
    "hard_questions_df.to_csv(\"data/Geodata/Hard_questions.csv\",index=False)\n"
   ]
  },
  {
   "cell_type": "code",
   "execution_count": null,
   "metadata": {},
   "outputs": [],
   "source": [
    "hard_questions_df=pd.read_csv(\"data/Geodata/Hard_questions.csv\")\n",
    "hard_questions_df\n"
   ]
  },
  {
   "cell_type": "markdown",
   "metadata": {},
   "source": [
    "# Knowledge mixing"
   ]
  },
  {
   "cell_type": "code",
   "execution_count": null,
   "metadata": {},
   "outputs": [],
   "source": [
    "km_questions=[\"I am currently in the University of Mannheim and am not feeling well. Could you please give me atleast 5 names of hospitals I can visit? \",\n",
    "               \"Name all the Rivers in Mannheim, Germany.\",\n",
    "                \"Out of Mannheim, Frankfurt and Heidelberg, which two cities are the closest?\",\n",
    "                \"Approximately how far is Mannheim (Lat:49.4892913, Long:8.4673098) from Berlin (Lat:52.5170365, Long:3.3888599) in miles as well as kms?\",\n",
    "                \"Name two restaurants in Mannheim, Germany and tell me the distance to each of them from the hauptbahnhof?\",\n",
    "                \"I am studying in the library of my university and am not feeling well. Could you please give me atleast 5 names of hospitals I can visit from Nmims, Vile Parle?\"]\n",
    "\n",
    "km_answers=[\"\",\"Bellenkrappen, Neckar and Rhein\",\"Mannheim and Heidelberg\",\"304, 490\",\"\",\"\"]\n",
    "\n"
   ]
  },
  {
   "cell_type": "code",
   "execution_count": null,
   "metadata": {},
   "outputs": [],
   "source": [
    "openstreetmaps.search_Open_Street_Maps(\"Rivers in Mannheim\", top=5)"
   ]
  },
  {
   "cell_type": "code",
   "execution_count": null,
   "metadata": {},
   "outputs": [],
   "source": [
    "# openstreetmaps.calculate_distance(49.4892913,8.4673098,52.5170365,3.3888599,\"miles\")"
   ]
  },
  {
   "cell_type": "code",
   "execution_count": null,
   "metadata": {},
   "outputs": [],
   "source": [
    "km_df=pd.DataFrame({\"Question\":km_questions,\"Correct Answer\":km_answers})\n",
    "km_df.to_csv(\"data/GeoData/Knowledge_mixing_questions.csv\",index=False)\n",
    "\n"
   ]
  },
  {
   "cell_type": "code",
   "execution_count": null,
   "metadata": {},
   "outputs": [],
   "source": [
    "km_df=pd.read_csv(\"data/GeoData/Knowledge_mixing_questions.csv\")\n",
    "km_df"
   ]
  },
  {
   "cell_type": "markdown",
   "metadata": {},
   "source": [
    "# Tricky Questions"
   ]
  },
  {
   "cell_type": "code",
   "execution_count": null,
   "metadata": {},
   "outputs": [],
   "source": [
    "\n",
    "tricky_questions=[\"What are coordinates of the city in Texas, United States with the same name as the capital of France?\",\n",
    "                  \"Like many other cities in Little Egypt or Southern Illinois, Lebanon was named after the Eastern Mediterranean country of the same name. It is also home to McKendree University, the oldest college in Illinois. What is its population?\",\n",
    "                  \"How many distinct time zones does Micronesia have?\",\n",
    "                  \"What is the name of the state in Malaysia whose geo coordinates are 5, 115?\",\n",
    "                  \"Punjab bordered by Pakistan's Punjab on the west, is a state in northern India. What is its population in millions?\",\n",
    "                  \"The Santa Rosa Airport is located in 5 different countries - United States, Argentina, Bolivia, Brazil and Honduras. In the second country starting with letter B of the list, what is the code of the state in which the airport is located?\",\n",
    "                  \"When was the Eiffel Tower handed over?\",\n",
    "                  \"A University has the same name as a very famous super-hero who appears in comic books published by DC Comics, as the alias of Bruce Wayne. In which country is the university located?\",\n",
    "                  \"In which year was the construction of the Eltz Castle finished?\",\n",
    "                  \"New York City is the most populous city in its state. Oklahoma is another state whose most populous city is named similarly. Approximately at what height is the city located?\"]\n",
    "                 \n",
    "\n",
    "tricky_questions_answers=[\"Latitude: 33.6617962 Longitude: -95.555513\",\"4691\",\"2\",\"Labuan\",\"2.77\",\"RS\",\"1889-3-15\",\"Turkey\",\"NA (start date mentioned as prior to 1157)\",\"365\"]\n",
    "\n"
   ]
  },
  {
   "cell_type": "code",
   "execution_count": null,
   "metadata": {},
   "outputs": [],
   "source": [
    "tricky_questions_df=pd.DataFrame({\"Question\":tricky_questions,\"Correct Answer\":tricky_questions_answers})\n",
    "tricky_questions_df.to_csv(\"data/Geodata/Tricky_questions.csv\",index=False)\n"
   ]
  },
  {
   "cell_type": "code",
   "execution_count": null,
   "metadata": {},
   "outputs": [],
   "source": [
    "\n",
    "tricky_questions_df=pd.read_csv(\"data/Geodata/Tricky_questions.csv\")\n",
    "tricky_questions_df"
   ]
  },
  {
   "cell_type": "markdown",
   "metadata": {},
   "source": [
    "# Extra Context Questions"
   ]
  },
  {
   "cell_type": "code",
   "execution_count": null,
   "metadata": {},
   "outputs": [],
   "source": [
    "\n",
    "ec_questions=[\"The 2017 Census of Pakistan was a detailed enumeration of the Pakistani population which began on 15 March and ended on 25 May of the same year. Lahore is home to 11,126,285 people while Hyderabad, including the cantonment area, is home to 1,733,622 people, according to the census. Hyderabad thus has more than 1.7 million people according to which year?\",\n",
    "               \"Colt State Park is an public open space that occupies 464 acres on Poppasquash Neck in the town of Bristol, Rhode Island, United States. The United States has mulitple attractions like this across the country. Could you name one state in the United States whose name starts with the letter R?\",\n",
    "               \"Turkey has a university which has the same name as a very famous super-hero who appears in comic books published by DC Comics, as the alias of Bruce Wayne. It's called the Batman University. Do you know in which country is the university located?\",\n",
    "                \"A runway is a defined rectangular area on a land aerodrome prepared for the landing and takeoff of aircraft. It is usually made up of asphalt or concrete. Out of Frankfurt Airport, Munich Airport and Berlin Brandenburg Airport which also have runways made up of these, Munich has only one surface made up of the second material while the other two have surfaces made up of both. What is the common material used in the runways of these 3 airports?\",\n",
    "                \"Specifically located in the northern part of the Indian subcontinent, Punjab is a geopolitical, cultural, and historical region comprising areas of modern-day eastern-Pakistan and northwestern-India. It is also a state in both countries. Name a state which shares the same name in India and Pakistan?\",\n",
    "                \"Currently, the euro (€) is the official currency of 20 out of 27 EU member countries which together constitute the Eurozone, officially called the euro area. Lithuania a member of the EU and Eurozone, is also part of the Council of Europe, the Nordic Investment Bank, the Schengen Agreement, NATO, and OECD. What is the currency used in the country? \",\n",
    "                \"Frank-Walter Steinmeier is the Federal President of Germany since March 19, 2017. On February 13, 2022, he was re-elected for a second term, which ends on March 18, 2027. Who is the current chancellor of the country?\",\n",
    "                \"Labuan is an island federal territory of Malaysia. The name Labuan derives from the Malay word labuhan which means harbour. What is the total area of the state in sq km.\",\n",
    "                \"Mainhattan is a term referring to Frankfurt's skyline. Most international banks have a seat here and the city has sprouted a good selection of skyscrapers over the last few decades, which, together with the fact that the city lies on the river Main has given it its moniker of Mainhattan. Of which state is Frankfurt the most populous city of?\",\n",
    "                \"The Leaning Tower of Niles is a half-size replica of the Leaning Tower of Pisa, which is the campanile, or freestanding bell tower, of Pisa Cathedral. The tower is one of three structures in the Pisa's Cathedral Square, which includes the cathedral and Pisa Baptistry. What is the location of the replica?\",\n",
    "                \"The 2017 Census of Pakistan was a detailed enumeration of the Pakistani population which began on 15 March and ended on 25 May of the same year. Lahore is home to 11,126,285 people while Hyderabad, including the cantonment area, is home to 1,733,622 people, according to this census. Hyderabad thus has more than 1.7 million people according to which year?\"]\n",
    "\n",
    "ec_answers=[\"2017\",\"Rhode Island\",\"Turkey\",\"Concrete\",\"Punjab\",\"Euro\",\"Olaf Scholz\",\"92\",\"Hesse\",\"Illinois, United States\",\"2017\"]\n",
    "\n"
   ]
  },
  {
   "cell_type": "code",
   "execution_count": null,
   "metadata": {},
   "outputs": [],
   "source": [
    "# geodata.get_attraction_details(\"Leaning Tower of Pisa\")"
   ]
  },
  {
   "cell_type": "code",
   "execution_count": null,
   "metadata": {},
   "outputs": [],
   "source": [
    "# geodata.get_attraction_details(\"Leaning Tower of Niles\")"
   ]
  },
  {
   "cell_type": "code",
   "execution_count": null,
   "metadata": {},
   "outputs": [],
   "source": [
    "geodata.get_city_details(\"Frankfurt\")"
   ]
  },
  {
   "cell_type": "code",
   "execution_count": null,
   "metadata": {},
   "outputs": [],
   "source": [
    "ec_df=pd.DataFrame({\"Question\":ec_questions,\"Correct Answer\":ec_answers})\n",
    "ec_df.to_csv(\"data/Geodata/Extra_context_questions.csv\",index=False)"
   ]
  },
  {
   "cell_type": "code",
   "execution_count": null,
   "metadata": {},
   "outputs": [],
   "source": [
    "ec_df=pd.read_csv(\"data/Geodata/Extra_context_questions.csv\")\n",
    "ec_df\n"
   ]
  },
  {
   "cell_type": "code",
   "execution_count": null,
   "metadata": {},
   "outputs": [],
   "source": []
  }
 ],
 "metadata": {
  "kernelspec": {
   "display_name": "base",
   "language": "python",
   "name": "python3"
  },
  "language_info": {
   "codemirror_mode": {
    "name": "ipython",
    "version": 3
   },
   "file_extension": ".py",
   "mimetype": "text/x-python",
   "name": "python",
   "nbconvert_exporter": "python",
   "pygments_lexer": "ipython3",
   "version": "3.8.8"
  },
  "orig_nbformat": 4
 },
 "nbformat": 4,
 "nbformat_minor": 2
}
