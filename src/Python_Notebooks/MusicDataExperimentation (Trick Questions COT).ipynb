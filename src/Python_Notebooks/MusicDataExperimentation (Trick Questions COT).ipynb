{
 "cells": [
  {
   "cell_type": "code",
   "execution_count": null,
   "metadata": {},
   "outputs": [],
   "source": [
    "import helpers\n",
    "import pandas as pd\n",
    "import time\n",
    "import copy\n",
    "from helpers import musicbrainz,langchainhelpers\n",
    "from tqdm import tqdm\n",
    "from langchain.prompts import ChatPromptTemplate\n",
    "pd.set_option(\"display.max_colwidth\",1000)"
   ]
  },
  {
   "cell_type": "code",
   "execution_count": null,
   "metadata": {},
   "outputs": [],
   "source": [
    "#load functions of music brainz\n",
    "all_available_functions = {\"searchdetails\":musicbrainz.searchdetails,\n",
    "             \"getalbumdetails\":musicbrainz.getalbumdetails,\n",
    "             \"getartistdetails\":musicbrainz.getartistdetails,\n",
    "             \"gettrackdetails\":musicbrainz.gettrackdetails}"
   ]
  },
  {
   "cell_type": "code",
   "execution_count": null,
   "metadata": {},
   "outputs": [],
   "source": [
    "prompt3=ChatPromptTemplate.from_messages([\n",
    "    (\"system\", \"You are an Music Aficionado and know a lot about this field.\"),\n",
    "    (\"human\", \"You also have access to a music database, so make calls to the relevant functions if and only if necessary. Remember it costs to call the database and the service isn't cheap.\"),\n",
    "    (\"human\", \"Here are some examples to help you out.\"),\n",
    "    (\"human\", \"Example 1: Question: In Fine Line by Harry Styles, which track starts with the letter G?\\\n",
    "     Step 1: Decide which entity to query about: Here it is an album.\\\n",
    "     Step 2: As we have access to a function that returns details about an album, I would call the function asking for details of album Fine Line. I would also fill all the other possible parameters as that would give me the most accurate answer. Here it would be the artist name as Harry Styles.\\\n",
    "     Step 3: After receiving the results from the function I would then go over all track names and find the track which starts with the Letter G. In this case it would be the track Golden.\"),\n",
    "     (\"human\", \"Example 2: Question:  What is the length of the track whose name is the same name as the album, in Fine Line by Harry Styles?\\\n",
    "     Step 1: Decide which entity to query about: Here it is a track.\\\n",
    "     Step 2: As we have access to a function that returns details about a track, I would call the function asking for details of track Fine Line. I would also fill all the other possible parameters as that would give me the most accurate answer. Here it would be the artist name as Harry Styles and album name as Fine Line.\\\n",
    "     Step 3: After receiving the results from the function, I would look for the duration and return the answer. In this case it would be 377960 ms.\"),\n",
    "    (\"human\", \"Example 3: Question: In the Album ★ by David Bowie, what is the name of the track with the starting letter same as the name of the symbol the album is named after?\\\n",
    "     Step 1: Decide which entity to query about: Here it is an album.\\\n",
    "     Step 2: As we have access to a function that returns details about an album, I would call the function asking for details of album ★. I would also fill all the other possible parameters as that would give me the most accurate answer. Here it would be the artist name as David Bowie.\\\n",
    "     Step 3: After receiving the results from the function I would then go over all track names and find the track which starts with letter S, because the symbol is of a Star. In this case it would be track Sue.\"),\n",
    "    (\"human\", \"{input}\")\n",
    "])"
   ]
  },
  {
   "cell_type": "markdown",
   "metadata": {},
   "source": [
    "# Experimentation"
   ]
  },
  {
   "cell_type": "markdown",
   "metadata": {},
   "source": [
    "# Only one function available (MusicBrainz)"
   ]
  },
  {
   "cell_type": "code",
   "execution_count": null,
   "metadata": {},
   "outputs": [],
   "source": [
    "tricky_questions_df=pd.read_csv(\"data/Musicdata/Tricky_questions.csv\")\n",
    "tricky_questions_df"
   ]
  },
  {
   "cell_type": "code",
   "execution_count": null,
   "metadata": {},
   "outputs": [],
   "source": [
    "available_functions={k:v for k,v in all_available_functions.items() if  v.__name__==\"searchdetails\"}\n",
    "available_functions"
   ]
  },
  {
   "cell_type": "code",
   "execution_count": null,
   "metadata": {},
   "outputs": [],
   "source": [
    "results=[]"
   ]
  },
  {
   "cell_type": "code",
   "execution_count": null,
   "metadata": {},
   "outputs": [],
   "source": [
    "for question in tricky_questions_df[\"Question\"]:\n",
    "    prompt=copy.deepcopy(prompt3)\n",
    "    results.append(langchainhelpers.run_llm_chain_once(prompt,available_functions,question))\n",
    "    helpers.upload_file(\"data/Musicdata/intermediate_results.pkl\",results)"
   ]
  },
  {
   "cell_type": "code",
   "execution_count": null,
   "metadata": {},
   "outputs": [],
   "source": [
    "results"
   ]
  },
  {
   "cell_type": "code",
   "execution_count": null,
   "metadata": {},
   "outputs": [],
   "source": [
    "helpers.upload_file(\"data/Musicdata/tricky_questions_with_only_function_available_music_brainz_prompt_4.pkl\",results)\n"
   ]
  },
  {
   "cell_type": "code",
   "execution_count": null,
   "metadata": {},
   "outputs": [],
   "source": [
    "results=helpers.download_file(\"data/Musicdata/tricky_questions_with_only_function_available_music_brainz_prompt_4.pkl\")"
   ]
  },
  {
   "cell_type": "code",
   "execution_count": null,
   "metadata": {},
   "outputs": [],
   "source": [
    "\n",
    "results=pd.DataFrame(results)\n",
    "results=pd.merge(left=tricky_questions_df,right=results)\n",
    "results"
   ]
  },
  {
   "cell_type": "markdown",
   "metadata": {},
   "source": [
    "# 3 subfunctions available (MusicBrainz)"
   ]
  },
  {
   "cell_type": "code",
   "execution_count": null,
   "metadata": {},
   "outputs": [],
   "source": [
    "tricky_questions_df=pd.read_csv(\"data/Musicdata/Tricky_questions.csv\")\n",
    "tricky_questions_df"
   ]
  },
  {
   "cell_type": "code",
   "execution_count": null,
   "metadata": {},
   "outputs": [],
   "source": [
    "available_functions={k:v for k,v in all_available_functions.items() if  v.__name__!=\"searchdetails\"}\n",
    "available_functions"
   ]
  },
  {
   "cell_type": "code",
   "execution_count": null,
   "metadata": {},
   "outputs": [],
   "source": [
    "results=[]"
   ]
  },
  {
   "cell_type": "code",
   "execution_count": null,
   "metadata": {},
   "outputs": [],
   "source": [
    "for question in tricky_questions_df[\"Question\"]:\n",
    "    prompt=copy.deepcopy(prompt3)\n",
    "    results.append(langchainhelpers.run_llm_chain_once(prompt,available_functions,question))\n",
    "    helpers.upload_file(\"data/Musicdata/intermediate_results.pkl\",results)"
   ]
  },
  {
   "cell_type": "code",
   "execution_count": null,
   "metadata": {},
   "outputs": [],
   "source": [
    "results"
   ]
  },
  {
   "cell_type": "code",
   "execution_count": null,
   "metadata": {},
   "outputs": [],
   "source": [
    "helpers.upload_file(\"data/Musicdata/tricky_questions_with_3_subfunctions_available_music_brainz_prompt_4.pkl\",results)\n"
   ]
  },
  {
   "cell_type": "code",
   "execution_count": null,
   "metadata": {},
   "outputs": [],
   "source": [
    "results=helpers.download_file(\"data/Musicdata/tricky_questions_with_3_subfunctions_available_music_brainz_prompt_4.pkl\")"
   ]
  },
  {
   "cell_type": "code",
   "execution_count": null,
   "metadata": {},
   "outputs": [],
   "source": [
    "\n",
    "results=pd.DataFrame(results)\n",
    "results=pd.merge(left=results,right=tricky_questions_df)\n",
    "results"
   ]
  },
  {
   "cell_type": "code",
   "execution_count": null,
   "metadata": {},
   "outputs": [],
   "source": []
  }
 ],
 "metadata": {
  "kernelspec": {
   "display_name": "base",
   "language": "python",
   "name": "python3"
  },
  "language_info": {
   "codemirror_mode": {
    "name": "ipython",
    "version": 3
   },
   "file_extension": ".py",
   "mimetype": "text/x-python",
   "name": "python",
   "nbconvert_exporter": "python",
   "pygments_lexer": "ipython3",
   "version": "3.8.8"
  },
  "orig_nbformat": 4
 },
 "nbformat": 4,
 "nbformat_minor": 2
}
