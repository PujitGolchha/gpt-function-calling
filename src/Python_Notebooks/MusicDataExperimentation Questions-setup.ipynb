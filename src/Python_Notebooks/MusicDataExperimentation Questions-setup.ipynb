{
 "cells": [
  {
   "cell_type": "code",
   "execution_count": null,
   "metadata": {},
   "outputs": [],
   "source": [
    "import pandas as pd\n",
    "pd.set_option(\"max_colwidth\",1000)"
   ]
  },
  {
   "cell_type": "markdown",
   "metadata": {},
   "source": [
    "# Easy Questions"
   ]
  },
  {
   "cell_type": "code",
   "execution_count": null,
   "metadata": {},
   "outputs": [],
   "source": [
    "easy_questions=[\"Who is the lead singer of The Cocteau Twins?\",\n",
    "                \"Before Phil Collins, who was the lead singer of Genesis?\",\n",
    "                \"Name all the members of Busted.\",\n",
    "                \"Who sang the song Billie Jean?\",\n",
    "                \"What is the 3rd track of Kind of Blue by Miles Davis?\",\n",
    "                \"Where are The Beatles from?\",\n",
    "                \"In which album did Rihanna release Pon de Replay?\",\n",
    "                \"Uncle Dysfunktional was the fifth studio album released by which band in 2007?\",\n",
    "                \"Which year did Snoop Dogg release his club-classic Drop It Like It's Hot?\",\n",
    "                \"What year was Kate Bush's track Running Up That Hill released?\"]\n",
    "easy_questions_answers=[\"Elizabeth Fraser\",\n",
    "         \"Peter Gabriel\",\n",
    "         \"James Bourne, Matt Willis, Charlie Simpson\",\n",
    "         \"MJ\",\n",
    "         \"Blue in Green\",\n",
    "         \"England\",\n",
    "         \"Music of the Sun\",\n",
    "         \"The Happy Mondays\",\n",
    "         \"2004\",\n",
    "         \"1985\"]"
   ]
  },
  {
   "cell_type": "code",
   "execution_count": null,
   "metadata": {},
   "outputs": [],
   "source": [
    "easy_questions_df=pd.DataFrame({\"Question\":easy_questions,\"Correct Answer\":easy_questions_answers})\n",
    "easy_questions_df.to_csv(\"data/Easy_questions.csv\",index=False)"
   ]
  },
  {
   "cell_type": "code",
   "execution_count": null,
   "metadata": {},
   "outputs": [],
   "source": [
    "easy_questions_df=pd.read_csv(\"data/Easy_questions.csv\")\n",
    "easy_questions_df"
   ]
  },
  {
   "cell_type": "markdown",
   "metadata": {},
   "source": [
    "# Common Questions"
   ]
  },
  {
   "cell_type": "code",
   "execution_count": null,
   "metadata": {},
   "outputs": [],
   "source": [
    "common_questions=[\"What is the name of the British rock band known for hits like Bohemian Rhapsody and We Will Rock You?\",\n",
    "                \"Who was the lead singer of the legendary rock band Led Zeppelin?\",\n",
    "                \"Which English rock band released the iconic album Abbey Road?\",\n",
    "                \"Which 1980s pop icon sang hits like Like a Virgin and Material Girl?\",\n",
    "                \"Who is often referred to as the King of Pop?\"]\n",
    "common_questions_answers=[\"Queen\",\"Robert Plant\",\"The Beatles\",\"Madonna\",\"Michael Jackson\"]"
   ]
  },
  {
   "cell_type": "code",
   "execution_count": null,
   "metadata": {},
   "outputs": [],
   "source": [
    "common_questions_df=pd.DataFrame({\"Question\":common_questions,\"Correct Answer\":common_questions_answers})\n",
    "common_questions_df.to_csv(\"data/Common_questions.csv\",index=False)"
   ]
  },
  {
   "cell_type": "code",
   "execution_count": null,
   "metadata": {},
   "outputs": [],
   "source": [
    "common_questions_df=pd.read_csv(\"data/Common_questions.csv\")\n",
    "common_questions_df"
   ]
  },
  {
   "cell_type": "markdown",
   "metadata": {},
   "source": [
    "# Hard Questions"
   ]
  },
  {
   "cell_type": "code",
   "execution_count": null,
   "metadata": {},
   "outputs": [],
   "source": [
    "\n",
    "hard_questions=[\"Its the year 2023. What is the age of the Person whom Elton John sang Cold Heart with?\",\n",
    "                \"Give me the 6th song of the album in which Bruno Mars released Moonshine?\",\n",
    "                \"Who is the common artist of Tere Naina from My Name Is Khan and Tu Hi Mera from Jannat 2?\",\n",
    "                \"Name one artist whose names start with A who are part of the band that released Shakermaker in the Definitely Maybe.\",\n",
    "                \"What is the birth place of the artist who released 24K Magic?\",\n",
    "                \"Name the artist who released Raising Sand and I Know Who Holds Tomorrow and was born in Champaign.\",\n",
    "                \"Who is the producer of the 2nd song of the album Fearless by Taylor Swift?\",\n",
    "                \"What is the capital of the country that the artist who released Raising Sand was born in. The artist must not be from a country in North America?\",\n",
    "                \"In the year that Taylor Swift released Lover and Cold Play released Everyday Life, England won the 50 over cricket world cup for the first time. What year was it?\",\n",
    "                \"Out of these four  ÷ - + * , which is one the symbol that Ed Sheeran's music albums are not named after?\"]\n",
    "\n",
    "hard_questions_answers=[\"28\",\"When I Was Your Man\",\"Shafqat Amanat Ali\",\"Alan White/Andy Bell\",\n",
    "                        \"Honolulu\",\"Alison Krauss\",\"Nathan Chapman\",\"London\",\"2019\",\"*\"]\n"
   ]
  },
  {
   "cell_type": "code",
   "execution_count": null,
   "metadata": {},
   "outputs": [],
   "source": [
    "hard_questions_df=pd.DataFrame({\"Question\":hard_questions,\"Correct Answer\":hard_questions_answers})\n",
    "hard_questions_df.to_csv(\"data/Hard_questions.csv\",index=False)\n"
   ]
  },
  {
   "cell_type": "code",
   "execution_count": null,
   "metadata": {},
   "outputs": [],
   "source": [
    "hard_questions_df=pd.read_csv(\"data/Hard_questions.csv\")\n",
    "hard_questions_df\n"
   ]
  },
  {
   "cell_type": "markdown",
   "metadata": {},
   "source": [
    "# Knowledge mixing"
   ]
  },
  {
   "cell_type": "code",
   "execution_count": null,
   "metadata": {},
   "outputs": [],
   "source": [
    "\n",
    "km_questions=[\"In which year was Kind of Blue by Miles Davis first released?\",\n",
    "               \"Before Phil Collins, who was the lead singer of Genesis?\",\n",
    "                \"Name one genre starting with letter M that the band that released Shakermaker in the Definitely Maybe is famous for?\",\n",
    "                \"Is the song:Money in the album:Portamento by artist:The Drums explicit?\",\n",
    "                \"Who is the feature artist of the album Uncle Dysfunktional?\",\n",
    "                \"Is the artist who sang the 3rd song in My Name Is Khan famous for his Sufi music?\",\n",
    "                \"I am a big fan of the One Direction. Name me two other artists to whose songs I can listen to?\",\n",
    "                \"I am a One Direction supporter. I love pop songs. To this day my favourite song is Thinking Out Loud. Could you give a recommendation  based on all the information of a track I would like?\",\n",
    "                \"What is the main genre of the second artist who sang Veni Vidi Vici in the album Rebel Heart along with Madonna?\",\n",
    "                \"The 3rd song in Cheek to Cheek by Tony Bennett & Lady Gaga is a famous one. On the basis of the track, the artist and genre of the artist of the track give me some recommendations.\"]\n",
    "\n",
    "km_answers=[\"1959\",\"Peter Gabriel\",\"Madchester\",\"false\",\"Happy Mondays\",\"true\",\"\",\"\",\"hip hop\",\"\"]\n",
    "\n"
   ]
  },
  {
   "cell_type": "code",
   "execution_count": null,
   "metadata": {},
   "outputs": [],
   "source": [
    "km_df=pd.DataFrame({\"Question\":km_questions,\"Correct Answer\":km_answers})\n",
    "km_df.to_csv(\"data/Knowledge_mixing_questions.csv\",index=False)\n",
    "\n"
   ]
  },
  {
   "cell_type": "code",
   "execution_count": null,
   "metadata": {},
   "outputs": [],
   "source": [
    "km_df=pd.read_csv(\"data/Knowledge_mixing_questions.csv\")\n",
    "km_df"
   ]
  },
  {
   "cell_type": "markdown",
   "metadata": {},
   "source": [
    "# Tricky Questions"
   ]
  },
  {
   "cell_type": "code",
   "execution_count": null,
   "metadata": {},
   "outputs": [],
   "source": [
    "\n",
    "\n",
    "tricky_questions=[\"In the popular hindi movie 3 Idiots, what was the name of the male artist who sings Zoobi Doobi?\",\n",
    "                  \"Apart from Freddie Freeloader in Kind of Blue by Miles Davis, what other track starts with the letter F?\",\n",
    "                  \"When did One Direction die?\",\n",
    "                  \"Who were the original members of the band Genesis whose main work area was the UK?\",\n",
    "                  \"Whom did Simon Raymonde replace in the band The Cocteau Twins?\",\n",
    "                  \"In which album did Bruno Mars release Moonshine?\",\n",
    "                  \"Apart from Jatin-Lalit name two other artists who only sang one song in the album Mohabbatein of which Soni Soni is a part?\",\n",
    "                  \"Michael Jackson released Baby Be Mine in Thriller. He also released a track with the same name as the album title. What is the duration of the track?\",\n",
    "                  \"The song Kabhi Alvida Naa Kehna was a big hit. Who sang this song with Sonu Nigam in Kabhi Alvida Na Kehna?\",\n",
    "                  \"Ed Sheeran has one album named after a mathematical symbol ÷, which also means disagree or cause to disagree. Name one song from the album that has the same first three letters as the name of the symbol?\"]\n",
    "\n",
    "tricky_questions_answers=[\"Sonu Nigam\",\"Flamenco Sketches\",\"2015-12-31 / NA\",\"Chris Stewart & Anthony Phillips & Peter Gabriel & Tony Banks & Mike Rutherford\",\n",
    "                          \"Will Heggie\",\"Unorthodox Jukebox\",\"Shweta Pandit & Sonali Bhatawdekar\",\"249000\",\"Alka Yagnik\",\"Dive\"]\n",
    "\n",
    "\n",
    "\n"
   ]
  },
  {
   "cell_type": "code",
   "execution_count": null,
   "metadata": {},
   "outputs": [],
   "source": [
    "tricky_questions_df=pd.DataFrame({\"Question\":tricky_questions,\"Correct Answer\":tricky_questions_answers})\n",
    "tricky_questions_df.to_csv(\"data/Tricky_questions.csv\",index=False)\n"
   ]
  },
  {
   "cell_type": "code",
   "execution_count": null,
   "metadata": {},
   "outputs": [],
   "source": [
    "\n",
    "tricky_questions_df=pd.read_csv(\"data/Tricky_questions.csv\")\n",
    "tricky_questions_df"
   ]
  },
  {
   "cell_type": "markdown",
   "metadata": {},
   "source": [
    "# Extra Context Questions"
   ]
  },
  {
   "cell_type": "code",
   "execution_count": null,
   "metadata": {},
   "outputs": [],
   "source": [
    "\n",
    "ec_questions=[\"In the year 2010 like every other year loads of music albums were released by multiple artists. Evacuate Chicago released Veracity, Living Sacrifice released The Infinite Order, DJ Khaled released Victory, Jazmine Sullivan released Love Me Back and Kesha released Cannibal. Similarly in 2011 Cake released Showroom of Compassion, Covenant released Modern Ruin, Pearl Jam released Live on Ten Legs and White Lies released Ritual. Veracity's main genre is Metalcore and so is The Infinite Order's main genre. In which year was the former released?\",\n",
    "               \"Genesis are an English rock band formed at Charterhouse School, Godalming, Surrey, in 1967.  In the 1970s, during which the band also included singer Peter Gabriel and guitarist Steve Hackett, Genesis were among the pioneers of progressive rock. The band's longest-existing and most commercially successful line-up consisted of keyboardist Tony Banks, bassist/guitarist Mike Rutherford and drummer/singer Phil Collins. Before Phil Collins, who was the lead singer of Genesis?\",\n",
    "               \"Ultraviolence is the third studio album by American singer-songwriter Lana Del Rey, released on June 13, 2014, by Polydor and Interscope Records. To promote the album, five singles West Coast, Shades of Cool, Ultraviolence, Black Beauty and Brooklyn Baby. Out of these 5, one song  is explicit and the other 4 are not. The 5th song in the list is explicit. What is its name?\",\n",
    "                \"Shafqat Amanat Ali Khan pronounced is a Pakistani pop and classical singer, songwriter, and composer belonging to the Patiala Gharana tradition of music. Ali was introduced to the Indian film industry by singer and music composer Shankar Mahadevan and eventually went on to sing the massively popular Sufi rock ballad Mitwa for the film Kabhi Alvida Naa Kehna. Along with this genre, he is also famous for his Hindustani classical semi-classical songs. Is the artist who sang the 3rd song Tere Naina in My Name Is Khan famous for his Sufi music? For reference it is Ali who sang this particular song.\",\n",
    "                \"Sonu Nigam and Shreya Ghoshal sang mutilple duets together which inlude Main Hoon Na, Zoobi Doobi, Main Agar Kahoon, Piyu Bole, Shukran Allah. Zoobi Doobi is from 3 Idiots and Main Agar Kahoon is from Om Shanti Om. Can you name a common artist in these two albums?\",\n",
    "                \"An Indian rock band formed in Chandigarh in 2008 and based in New Delhi since 2015, started their career by releasing a stream of singles. The band's debut album Aalas Ka Pedh has been among the top 5 most-streamed rock music albums on Apple Music India. Could you name the band?\",\n",
    "                \"The album Dazed and Confused was released by an English rock band, formed in London in 1963. The band started the careers of three of rock's most famous guitarists: Eric Clapton , Jeff Beck  and Jimmy Page , all of whom ranked in the top five of Rolling Stone magazine's list of 100 greatest guitarists. What is the name of the band?\",\n",
    "                \"Chale Chalo is part of the hindi movie Lagaan which stars Aamir Khan and has the most number of British actors playing a significant role in the entire history of Bollywood cinema. Who is the artist of this song?\",\n",
    "                \"Ed Sheeran released a song named Lego House whose official video stars Rupert Grint, also known as Ron Weasley from Harry Potter. Thinking Out Loud is another hit of his which has become an all time favourite. Could you tell me what is the duration of the latter?\",\n",
    "                \"Keith Urban is an Australian and American singer, guitarist, and songwriter known for his work in country music. Urban has released 11 studio albums, as well as one album with the Ranch.In 2018 he released Graffiti U. How many tracks does it have?\"]\n",
    "\n",
    "ec_answers=[\"2010\",\"Peter Gabriel\",\"Brooklyn Baby\",\"True\",\"Sonu Nigam/Shreya Ghoshal\",\"The Local Train\",\"The Yardbirds\",\"A. R. Rahman\",\"281560/252520\",\"15\"]\n",
    "\n"
   ]
  },
  {
   "cell_type": "code",
   "execution_count": null,
   "metadata": {},
   "outputs": [],
   "source": [
    "\n",
    "\n",
    "ec_df=pd.DataFrame({\"Question\":ec_questions,\"Correct Answer\":ec_answers})\n",
    "ec_df.to_csv(\"data/Extra_context_questions.csv\",index=False)\n",
    "\n",
    "\n"
   ]
  },
  {
   "cell_type": "code",
   "execution_count": null,
   "metadata": {},
   "outputs": [],
   "source": [
    "\n",
    "ec_df=pd.read_csv(\"data/Extra_context_questions.csv\")\n",
    "ec_df\n"
   ]
  },
  {
   "cell_type": "code",
   "execution_count": null,
   "metadata": {},
   "outputs": [],
   "source": []
  }
 ],
 "metadata": {
  "kernelspec": {
   "display_name": "base",
   "language": "python",
   "name": "python3"
  },
  "language_info": {
   "codemirror_mode": {
    "name": "ipython",
    "version": 3
   },
   "file_extension": ".py",
   "mimetype": "text/x-python",
   "name": "python",
   "nbconvert_exporter": "python",
   "pygments_lexer": "ipython3",
   "version": "3.8.8"
  },
  "orig_nbformat": 4
 },
 "nbformat": 4,
 "nbformat_minor": 2
}
