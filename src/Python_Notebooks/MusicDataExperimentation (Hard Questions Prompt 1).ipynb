{
 "cells": [
  {
   "cell_type": "code",
   "execution_count": 1,
   "metadata": {},
   "outputs": [],
   "source": [
    "import helpers\n",
    "import pandas as pd\n",
    "import time\n",
    "import copy\n",
    "from helpers import musicbrainz,langchainhelpers\n",
    "from tqdm import tqdm\n",
    "from langchain.prompts import ChatPromptTemplate\n",
    "pd.set_option(\"display.max_colwidth\",1000)"
   ]
  },
  {
   "cell_type": "code",
   "execution_count": null,
   "metadata": {},
   "outputs": [],
   "source": [
    "output_parser=langchainhelpers.customOutputFunctionsParser()"
   ]
  },
  {
   "cell_type": "code",
   "execution_count": null,
   "metadata": {},
   "outputs": [],
   "source": [
    "#load functions of music brainz\n",
    "all_available_functions = {\"searchdetailsrefined\":musicbrainz.searchdetailsrefined,\n",
    "             \"getalbumdetails\":musicbrainz.getalbumdetails,\n",
    "             \"getartistdetails\":musicbrainz.getartistdetails,\n",
    "             \"gettrackdetailsrefined\":musicbrainz.gettrackdetailsrefined}\n"
   ]
  },
  {
   "cell_type": "code",
   "execution_count": null,
   "metadata": {},
   "outputs": [],
   "source": [
    "prompt1 = ChatPromptTemplate.from_messages(\n",
    "        [\n",
    "            (\"system\", \"You are an Music Aficionado and know a lot about this field.\"),\n",
    "            (\"human\", \"You also have access to a music database, so make calls to the relevant functions if necessary: {input}\")\n",
    "        ]\n",
    "    )"
   ]
  },
  {
   "cell_type": "code",
   "execution_count": null,
   "metadata": {},
   "outputs": [],
   "source": [
    "results=helpers.download_file(\"data/Musicdata/intermediate_results.pkl\")"
   ]
  },
  {
   "cell_type": "code",
   "execution_count": null,
   "metadata": {},
   "outputs": [],
   "source": [
    "results"
   ]
  },
  {
   "cell_type": "markdown",
   "metadata": {},
   "source": [
    "# Experimentation"
   ]
  },
  {
   "cell_type": "markdown",
   "metadata": {},
   "source": [
    "# Only one function available"
   ]
  },
  {
   "cell_type": "code",
   "execution_count": 2,
   "metadata": {},
   "outputs": [
    {
     "data": {
      "text/html": [
       "<div>\n",
       "<style scoped>\n",
       "    .dataframe tbody tr th:only-of-type {\n",
       "        vertical-align: middle;\n",
       "    }\n",
       "\n",
       "    .dataframe tbody tr th {\n",
       "        vertical-align: top;\n",
       "    }\n",
       "\n",
       "    .dataframe thead th {\n",
       "        text-align: right;\n",
       "    }\n",
       "</style>\n",
       "<table border=\"1\" class=\"dataframe\">\n",
       "  <thead>\n",
       "    <tr style=\"text-align: right;\">\n",
       "      <th></th>\n",
       "      <th>Question</th>\n",
       "      <th>Correct Answer</th>\n",
       "    </tr>\n",
       "  </thead>\n",
       "  <tbody>\n",
       "    <tr>\n",
       "      <th>0</th>\n",
       "      <td>Its the year 2023. What is the age of the Person whom Elton John sang Cold Heart with?</td>\n",
       "      <td>28</td>\n",
       "    </tr>\n",
       "    <tr>\n",
       "      <th>1</th>\n",
       "      <td>Give me the 6th song of the album in which Bruno Mars released Moonshine?</td>\n",
       "      <td>When I Was Your Man</td>\n",
       "    </tr>\n",
       "    <tr>\n",
       "      <th>2</th>\n",
       "      <td>Who is the common artist of Tere Naina from My Name Is Khan and Tu Hi Mera from Jannat 2?</td>\n",
       "      <td>Shafqat Amanat Ali</td>\n",
       "    </tr>\n",
       "    <tr>\n",
       "      <th>3</th>\n",
       "      <td>Name one artist whose names start with A who are part of the band that released Shakermaker in the Definitely Maybe.</td>\n",
       "      <td>Alan White/Andy Bell</td>\n",
       "    </tr>\n",
       "    <tr>\n",
       "      <th>4</th>\n",
       "      <td>What is the birth place of the artist who released 24K Magic?</td>\n",
       "      <td>Honolulu</td>\n",
       "    </tr>\n",
       "    <tr>\n",
       "      <th>5</th>\n",
       "      <td>Name the artist who released Raising Sand and I Know Who Holds Tomorrow and was born in Champaign.</td>\n",
       "      <td>Alison Krauss</td>\n",
       "    </tr>\n",
       "    <tr>\n",
       "      <th>6</th>\n",
       "      <td>Who is the producer of the 2nd song of the album Fearless by Taylor Swift?</td>\n",
       "      <td>Nathan Chapman</td>\n",
       "    </tr>\n",
       "    <tr>\n",
       "      <th>7</th>\n",
       "      <td>What is the capital of the country that the artist who released Raising Sand was born in. The artist must not be from a country in North America?</td>\n",
       "      <td>London</td>\n",
       "    </tr>\n",
       "    <tr>\n",
       "      <th>8</th>\n",
       "      <td>In the year that Taylor Swift released Lover and Cold Play released Everyday Life, England won the 50 over cricket world cup for the first time. What year was it?</td>\n",
       "      <td>2019</td>\n",
       "    </tr>\n",
       "    <tr>\n",
       "      <th>9</th>\n",
       "      <td>Out of these four  ÷ - + * , which is one the symbol that Ed Sheeran's music albums are not named after?</td>\n",
       "      <td>*</td>\n",
       "    </tr>\n",
       "  </tbody>\n",
       "</table>\n",
       "</div>"
      ],
      "text/plain": [
       "                                                                                                                                                             Question  \\\n",
       "0                                                                              Its the year 2023. What is the age of the Person whom Elton John sang Cold Heart with?   \n",
       "1                                                                                           Give me the 6th song of the album in which Bruno Mars released Moonshine?   \n",
       "2                                                                           Who is the common artist of Tere Naina from My Name Is Khan and Tu Hi Mera from Jannat 2?   \n",
       "3                                                Name one artist whose names start with A who are part of the band that released Shakermaker in the Definitely Maybe.   \n",
       "4                                                                                                       What is the birth place of the artist who released 24K Magic?   \n",
       "5                                                                  Name the artist who released Raising Sand and I Know Who Holds Tomorrow and was born in Champaign.   \n",
       "6                                                                                          Who is the producer of the 2nd song of the album Fearless by Taylor Swift?   \n",
       "7                   What is the capital of the country that the artist who released Raising Sand was born in. The artist must not be from a country in North America?   \n",
       "8  In the year that Taylor Swift released Lover and Cold Play released Everyday Life, England won the 50 over cricket world cup for the first time. What year was it?   \n",
       "9                                                            Out of these four  ÷ - + * , which is one the symbol that Ed Sheeran's music albums are not named after?   \n",
       "\n",
       "         Correct Answer  \n",
       "0                    28  \n",
       "1   When I Was Your Man  \n",
       "2    Shafqat Amanat Ali  \n",
       "3  Alan White/Andy Bell  \n",
       "4              Honolulu  \n",
       "5         Alison Krauss  \n",
       "6        Nathan Chapman  \n",
       "7                London  \n",
       "8                  2019  \n",
       "9                     *  "
      ]
     },
     "execution_count": 2,
     "metadata": {},
     "output_type": "execute_result"
    }
   ],
   "source": [
    "hard_questions_df=pd.read_csv(\"data/Musicdata/Hard_questions.csv\")\n",
    "hard_questions_df"
   ]
  },
  {
   "cell_type": "code",
   "execution_count": null,
   "metadata": {},
   "outputs": [],
   "source": [
    "available_functions={k:v for k,v in all_available_functions.items() if  v.__name__==\"searchdetailsrefined\"}\n",
    "available_functions"
   ]
  },
  {
   "cell_type": "code",
   "execution_count": null,
   "metadata": {},
   "outputs": [],
   "source": [
    "results=[]"
   ]
  },
  {
   "cell_type": "code",
   "execution_count": null,
   "metadata": {},
   "outputs": [],
   "source": [
    "for question in tqdm(hard_questions_df[\"Question\"]): \n",
    "    prompt=copy.deepcopy(prompt1)\n",
    "    results.append(langchainhelpers.run_llm_chain_more_than_once(prompt,available_functions,question,1000,1,5))\n",
    "    helpers.upload_file(\"data/Musicdata/intermediate_results.pkl\",results)"
   ]
  },
  {
   "cell_type": "code",
   "execution_count": null,
   "metadata": {},
   "outputs": [],
   "source": [
    "results"
   ]
  },
  {
   "cell_type": "code",
   "execution_count": null,
   "metadata": {},
   "outputs": [],
   "source": [
    "helpers.upload_file(\"data/Musicdata/hard_questions_with_one_function_available_prompt_1.pkl\",results)"
   ]
  },
  {
   "cell_type": "code",
   "execution_count": 4,
   "metadata": {},
   "outputs": [],
   "source": [
    "results=helpers.download_file(\"data/Musicdata/hard_questions_with_one_function_available_prompt_1.pkl\")"
   ]
  },
  {
   "cell_type": "code",
   "execution_count": 5,
   "metadata": {},
   "outputs": [
    {
     "data": {
      "text/html": [
       "<div>\n",
       "<style scoped>\n",
       "    .dataframe tbody tr th:only-of-type {\n",
       "        vertical-align: middle;\n",
       "    }\n",
       "\n",
       "    .dataframe tbody tr th {\n",
       "        vertical-align: top;\n",
       "    }\n",
       "\n",
       "    .dataframe thead th {\n",
       "        text-align: right;\n",
       "    }\n",
       "</style>\n",
       "<table border=\"1\" class=\"dataframe\">\n",
       "  <thead>\n",
       "    <tr style=\"text-align: right;\">\n",
       "      <th></th>\n",
       "      <th>Question</th>\n",
       "      <th>steps</th>\n",
       "      <th>answer</th>\n",
       "      <th>Correct Answer</th>\n",
       "    </tr>\n",
       "  </thead>\n",
       "  <tbody>\n",
       "    <tr>\n",
       "      <th>0</th>\n",
       "      <td>Its the year 2023. What is the age of the Person whom Elton John sang Cold Heart with?</td>\n",
       "      <td>[{'Function_name': 'searchdetailsrefined', 'Function_arguments': {'query': 'Elton John', 'entity_type': 'artist'}}, {'Function_name': 'searchdetailsrefined', 'Function_arguments': {'query': 'Cold Heart', 'entity_type': 'track', 'artist_name': 'Elton John'}}]</td>\n",
       "      <td>The person whom Elton John sang \"Cold Heart\" with is Dua Lipa.</td>\n",
       "      <td>28</td>\n",
       "    </tr>\n",
       "    <tr>\n",
       "      <th>1</th>\n",
       "      <td>Give me the 6th song of the album in which Bruno Mars released Moonshine?</td>\n",
       "      <td>[{'Function_name': 'searchdetailsrefined', 'Function_arguments': {'query': 'Bruno Mars', 'entity_type': 'artist', 'album_name': 'Moonshine'}}, {'Function_name': 'searchdetailsrefined', 'Function_arguments': {'query': 'Bruno Mars', 'entity_type': 'album', 'album_name': 'Moonshine'}}]</td>\n",
       "      <td>I'm sorry, but I couldn't find any information about an album called \"Moonshine\" released by Bruno Mars in the music database. Please make sure the album name is correct and try again.</td>\n",
       "      <td>When I Was Your Man</td>\n",
       "    </tr>\n",
       "    <tr>\n",
       "      <th>2</th>\n",
       "      <td>Who is the common artist of Tere Naina from My Name Is Khan and Tu Hi Mera from Jannat 2?</td>\n",
       "      <td>[{'Function_name': 'searchdetailsrefined', 'Function_arguments': {'query': 'Tere Naina', 'entity_type': 'track', 'album_name': 'My Name Is Khan'}}]</td>\n",
       "      <td>The common artist of \"Tere Naina\" from the album \"My Name Is Khan\" and \"Tu Hi Mera\" from the album \"Jannat 2\" is Shafqat Amanat Ali.</td>\n",
       "      <td>Shafqat Amanat Ali</td>\n",
       "    </tr>\n",
       "    <tr>\n",
       "      <th>3</th>\n",
       "      <td>Name one artist whose names start with A who are part of the band that released Shakermaker in the Definitely Maybe.</td>\n",
       "      <td>[{'Function_name': 'searchdetailsrefined', 'Function_arguments': {'query': 'Definitely Maybe', 'entity_type': 'album'}}]</td>\n",
       "      <td>The band that released \"Shakermaker\" in the album \"Definitely Maybe\" is Oasis.</td>\n",
       "      <td>Alan White/Andy Bell</td>\n",
       "    </tr>\n",
       "    <tr>\n",
       "      <th>4</th>\n",
       "      <td>What is the birth place of the artist who released 24K Magic?</td>\n",
       "      <td>[{'Function_name': 'searchdetailsrefined', 'Function_arguments': {'query': '24K Magic', 'entity_type': 'album'}}]</td>\n",
       "      <td>The artist who released \"24K Magic\" is Bruno Mars. The birthplace of Bruno Mars is Honolulu, Hawaii, United States.</td>\n",
       "      <td>Honolulu</td>\n",
       "    </tr>\n",
       "    <tr>\n",
       "      <th>5</th>\n",
       "      <td>Name the artist who released Raising Sand and I Know Who Holds Tomorrow and was born in Champaign.</td>\n",
       "      <td>[{'Function_name': 'searchdetailsrefined', 'Function_arguments': {'query': 'Raising Sand', 'entity_type': 'album'}}, {'Function_name': 'searchdetailsrefined', 'Function_arguments': {'query': 'I Know Who Holds Tomorrow', 'entity_type': 'album'}}]</td>\n",
       "      <td>The artist who released both \"Raising Sand\" and \"I Know Who Holds Tomorrow\" and was born in Champaign is Alison Krauss.</td>\n",
       "      <td>Alison Krauss</td>\n",
       "    </tr>\n",
       "    <tr>\n",
       "      <th>6</th>\n",
       "      <td>Who is the producer of the 2nd song of the album Fearless by Taylor Swift?</td>\n",
       "      <td>[{'Function_name': 'searchdetailsrefined', 'Function_arguments': {'query': 'Fearless', 'entity_type': 'album', 'artist_name': 'Taylor Swift'}}]</td>\n",
       "      <td>The producer of the 2nd song of the album Fearless by Taylor Swift is Taylor Swift herself.</td>\n",
       "      <td>Nathan Chapman</td>\n",
       "    </tr>\n",
       "    <tr>\n",
       "      <th>7</th>\n",
       "      <td>What is the capital of the country that the artist who released Raising Sand was born in. The artist must not be from a country in North America?</td>\n",
       "      <td>[{'Function_name': 'searchdetailsrefined', 'Function_arguments': {'query': 'Raising Sand', 'entity_type': 'album'}}, {'Function_name': 'searchdetailsrefined', 'Function_arguments': {'query': 'Robert Plant', 'entity_type': 'artist', 'artist_name': 'Robert Plant'}}]</td>\n",
       "      <td>The artist Robert Plant, who released the album \"Raising Sand,\" was born in West Bromwich, United Kingdom. The capital of the United Kingdom is London.</td>\n",
       "      <td>London</td>\n",
       "    </tr>\n",
       "    <tr>\n",
       "      <th>8</th>\n",
       "      <td>In the year that Taylor Swift released Lover and Cold Play released Everyday Life, England won the 50 over cricket world cup for the first time. What year was it?</td>\n",
       "      <td>[]</td>\n",
       "      <td>In the year that Taylor Swift released \"Lover\" and Coldplay released \"Everyday Life\", England won the 50 over cricket world cup for the first time. The cricket world cup victory for England happened in the year 2019.</td>\n",
       "      <td>2019</td>\n",
       "    </tr>\n",
       "    <tr>\n",
       "      <th>9</th>\n",
       "      <td>Out of these four  ÷ - + * , which is one the symbol that Ed Sheeran's music albums are not named after?</td>\n",
       "      <td>[{'Function_name': 'searchdetailsrefined', 'Function_arguments': {'query': 'Ed Sheeran', 'entity_type': 'artist'}}]</td>\n",
       "      <td>Ed Sheeran's music albums are not named after the symbol \"-\".</td>\n",
       "      <td>*</td>\n",
       "    </tr>\n",
       "  </tbody>\n",
       "</table>\n",
       "</div>"
      ],
      "text/plain": [
       "                                                                                                                                                             Question  \\\n",
       "0                                                                              Its the year 2023. What is the age of the Person whom Elton John sang Cold Heart with?   \n",
       "1                                                                                           Give me the 6th song of the album in which Bruno Mars released Moonshine?   \n",
       "2                                                                           Who is the common artist of Tere Naina from My Name Is Khan and Tu Hi Mera from Jannat 2?   \n",
       "3                                                Name one artist whose names start with A who are part of the band that released Shakermaker in the Definitely Maybe.   \n",
       "4                                                                                                       What is the birth place of the artist who released 24K Magic?   \n",
       "5                                                                  Name the artist who released Raising Sand and I Know Who Holds Tomorrow and was born in Champaign.   \n",
       "6                                                                                          Who is the producer of the 2nd song of the album Fearless by Taylor Swift?   \n",
       "7                   What is the capital of the country that the artist who released Raising Sand was born in. The artist must not be from a country in North America?   \n",
       "8  In the year that Taylor Swift released Lover and Cold Play released Everyday Life, England won the 50 over cricket world cup for the first time. What year was it?   \n",
       "9                                                            Out of these four  ÷ - + * , which is one the symbol that Ed Sheeran's music albums are not named after?   \n",
       "\n",
       "                                                                                                                                                                                                                                                                                         steps  \\\n",
       "0                           [{'Function_name': 'searchdetailsrefined', 'Function_arguments': {'query': 'Elton John', 'entity_type': 'artist'}}, {'Function_name': 'searchdetailsrefined', 'Function_arguments': {'query': 'Cold Heart', 'entity_type': 'track', 'artist_name': 'Elton John'}}]   \n",
       "1  [{'Function_name': 'searchdetailsrefined', 'Function_arguments': {'query': 'Bruno Mars', 'entity_type': 'artist', 'album_name': 'Moonshine'}}, {'Function_name': 'searchdetailsrefined', 'Function_arguments': {'query': 'Bruno Mars', 'entity_type': 'album', 'album_name': 'Moonshine'}}]   \n",
       "2                                                                                                                                          [{'Function_name': 'searchdetailsrefined', 'Function_arguments': {'query': 'Tere Naina', 'entity_type': 'track', 'album_name': 'My Name Is Khan'}}]   \n",
       "3                                                                                                                                                                     [{'Function_name': 'searchdetailsrefined', 'Function_arguments': {'query': 'Definitely Maybe', 'entity_type': 'album'}}]   \n",
       "4                                                                                                                                                                            [{'Function_name': 'searchdetailsrefined', 'Function_arguments': {'query': '24K Magic', 'entity_type': 'album'}}]   \n",
       "5                                        [{'Function_name': 'searchdetailsrefined', 'Function_arguments': {'query': 'Raising Sand', 'entity_type': 'album'}}, {'Function_name': 'searchdetailsrefined', 'Function_arguments': {'query': 'I Know Who Holds Tomorrow', 'entity_type': 'album'}}]   \n",
       "6                                                                                                                                              [{'Function_name': 'searchdetailsrefined', 'Function_arguments': {'query': 'Fearless', 'entity_type': 'album', 'artist_name': 'Taylor Swift'}}]   \n",
       "7                     [{'Function_name': 'searchdetailsrefined', 'Function_arguments': {'query': 'Raising Sand', 'entity_type': 'album'}}, {'Function_name': 'searchdetailsrefined', 'Function_arguments': {'query': 'Robert Plant', 'entity_type': 'artist', 'artist_name': 'Robert Plant'}}]   \n",
       "8                                                                                                                                                                                                                                                                                           []   \n",
       "9                                                                                                                                                                          [{'Function_name': 'searchdetailsrefined', 'Function_arguments': {'query': 'Ed Sheeran', 'entity_type': 'artist'}}]   \n",
       "\n",
       "                                                                                                                                                                                                                     answer  \\\n",
       "0                                                                                                                                                            The person whom Elton John sang \"Cold Heart\" with is Dua Lipa.   \n",
       "1                                  I'm sorry, but I couldn't find any information about an album called \"Moonshine\" released by Bruno Mars in the music database. Please make sure the album name is correct and try again.   \n",
       "2                                                                                      The common artist of \"Tere Naina\" from the album \"My Name Is Khan\" and \"Tu Hi Mera\" from the album \"Jannat 2\" is Shafqat Amanat Ali.   \n",
       "3                                                                                                                                            The band that released \"Shakermaker\" in the album \"Definitely Maybe\" is Oasis.   \n",
       "4                                                                                                       The artist who released \"24K Magic\" is Bruno Mars. The birthplace of Bruno Mars is Honolulu, Hawaii, United States.   \n",
       "5                                                                                                   The artist who released both \"Raising Sand\" and \"I Know Who Holds Tomorrow\" and was born in Champaign is Alison Krauss.   \n",
       "6                                                                                                                               The producer of the 2nd song of the album Fearless by Taylor Swift is Taylor Swift herself.   \n",
       "7                                                                   The artist Robert Plant, who released the album \"Raising Sand,\" was born in West Bromwich, United Kingdom. The capital of the United Kingdom is London.   \n",
       "8  In the year that Taylor Swift released \"Lover\" and Coldplay released \"Everyday Life\", England won the 50 over cricket world cup for the first time. The cricket world cup victory for England happened in the year 2019.   \n",
       "9                                                                                                                                                             Ed Sheeran's music albums are not named after the symbol \"-\".   \n",
       "\n",
       "         Correct Answer  \n",
       "0                    28  \n",
       "1   When I Was Your Man  \n",
       "2    Shafqat Amanat Ali  \n",
       "3  Alan White/Andy Bell  \n",
       "4              Honolulu  \n",
       "5         Alison Krauss  \n",
       "6        Nathan Chapman  \n",
       "7                London  \n",
       "8                  2019  \n",
       "9                     *  "
      ]
     },
     "execution_count": 5,
     "metadata": {},
     "output_type": "execute_result"
    }
   ],
   "source": [
    "\n",
    "results=pd.DataFrame(results)\n",
    "results=pd.merge(left=results,right=hard_questions_df)\n",
    "results"
   ]
  },
  {
   "cell_type": "markdown",
   "metadata": {},
   "source": [
    "# 3 subfunctions available"
   ]
  },
  {
   "cell_type": "code",
   "execution_count": null,
   "metadata": {},
   "outputs": [],
   "source": [
    "hard_questions_df=pd.read_csv(\"data/Musicdata/Hard_questions.csv\")\n",
    "hard_questions_df"
   ]
  },
  {
   "cell_type": "code",
   "execution_count": null,
   "metadata": {},
   "outputs": [],
   "source": [
    "available_functions={k:v for k,v in all_available_functions.items() if  v.__name__!=\"searchdetailsrefined\"}\n",
    "available_functions"
   ]
  },
  {
   "cell_type": "code",
   "execution_count": null,
   "metadata": {},
   "outputs": [],
   "source": [
    "results=[]"
   ]
  },
  {
   "cell_type": "code",
   "execution_count": null,
   "metadata": {},
   "outputs": [],
   "source": [
    "for question in tqdm(hard_questions_df[\"Question\"]): \n",
    "    prompt=copy.deepcopy(prompt1)\n",
    "    results.append(langchainhelpers.run_llm_chain_more_than_once(prompt,available_functions,question,1000,1,5))\n",
    "    helpers.upload_file(\"data/Musicdata/intermediate_results.pkl\",results)"
   ]
  },
  {
   "cell_type": "code",
   "execution_count": null,
   "metadata": {},
   "outputs": [],
   "source": [
    "helpers.upload_file(\"data/Musicdata/hard_questions_with_6_subfunctions_available_prompt_1.pkl\",results)"
   ]
  },
  {
   "cell_type": "code",
   "execution_count": 6,
   "metadata": {},
   "outputs": [],
   "source": [
    "results=helpers.download_file(\"data/Musicdata/hard_questions_with_6_subfunctions_available_prompt_1.pkl\")"
   ]
  },
  {
   "cell_type": "code",
   "execution_count": null,
   "metadata": {},
   "outputs": [],
   "source": [
    "\n",
    "results=pd.DataFrame(results)\n",
    "results=pd.merge(right=results,left=hard_questions_df)\n",
    "results"
   ]
  },
  {
   "cell_type": "code",
   "execution_count": null,
   "metadata": {},
   "outputs": [],
   "source": []
  }
 ],
 "metadata": {
  "kernelspec": {
   "display_name": "base",
   "language": "python",
   "name": "python3"
  },
  "language_info": {
   "codemirror_mode": {
    "name": "ipython",
    "version": 3
   },
   "file_extension": ".py",
   "mimetype": "text/x-python",
   "name": "python",
   "nbconvert_exporter": "python",
   "pygments_lexer": "ipython3",
   "version": "3.8.8"
  },
  "orig_nbformat": 4
 },
 "nbformat": 4,
 "nbformat_minor": 2
}
